{
 "cells": [
  {
   "cell_type": "code",
   "execution_count": 1,
   "metadata": {
    "colab": {
     "base_uri": "https://localhost:8080/",
     "height": 51
    },
    "colab_type": "code",
    "id": "vUGweEOckDmK",
    "outputId": "a9a99a5f-08f1-446f-8323-fa4e1d4b2ddb"
   },
   "outputs": [],
   "source": [
    "import pandas as pd\n",
    "import numpy as np\n",
    "import matplotlib.pyplot as plt\n",
    "import seaborn as sns\n",
    "import datetime as dt\n",
    "import pickle\n",
    "from tensorflow.keras.models import Sequential\n",
    "from tensorflow.keras.layers import Dense, Dropout\n",
    "sns.set()"
   ]
  },
  {
   "cell_type": "code",
   "execution_count": 2,
   "metadata": {},
   "outputs": [],
   "source": [
    "from tensorflow.keras.wrappers.scikit_learn import KerasRegressor\n",
    "from tensorflow.keras.wrappers.scikit_learn import KerasClassifier\n",
    "from sklearn.model_selection import KFold\n",
    "from sklearn.model_selection import cross_val_score"
   ]
  },
  {
   "cell_type": "code",
   "execution_count": 3,
   "metadata": {},
   "outputs": [],
   "source": [
    "from sklearn.model_selection import train_test_split\n",
    "from sklearn.preprocessing import StandardScaler\n",
    "from tensorflow.keras.callbacks import TensorBoard"
   ]
  },
  {
   "cell_type": "code",
   "execution_count": 4,
   "metadata": {
    "colab": {
     "base_uri": "https://localhost:8080/",
     "height": 204
    },
    "colab_type": "code",
    "id": "8-OfBv_7kDma",
    "outputId": "be6b49da-6cdf-4bc8-e446-4e989b6568d3"
   },
   "outputs": [
    {
     "data": {
      "text/html": [
       "<div>\n",
       "<style scoped>\n",
       "    .dataframe tbody tr th:only-of-type {\n",
       "        vertical-align: middle;\n",
       "    }\n",
       "\n",
       "    .dataframe tbody tr th {\n",
       "        vertical-align: top;\n",
       "    }\n",
       "\n",
       "    .dataframe thead th {\n",
       "        text-align: right;\n",
       "    }\n",
       "</style>\n",
       "<table border=\"1\" class=\"dataframe\">\n",
       "  <thead>\n",
       "    <tr style=\"text-align: right;\">\n",
       "      <th></th>\n",
       "      <th>Unnamed: 0</th>\n",
       "      <th>Name</th>\n",
       "      <th>Location</th>\n",
       "      <th>Year</th>\n",
       "      <th>Kilometers_Driven</th>\n",
       "      <th>Fuel_Type</th>\n",
       "      <th>Transmission</th>\n",
       "      <th>Owner_Type</th>\n",
       "      <th>Mileage</th>\n",
       "      <th>Engine</th>\n",
       "      <th>Power</th>\n",
       "      <th>Seats</th>\n",
       "      <th>Price</th>\n",
       "    </tr>\n",
       "  </thead>\n",
       "  <tbody>\n",
       "    <tr>\n",
       "      <th>0</th>\n",
       "      <td>0</td>\n",
       "      <td>Maruti Wagon R LXI CNG</td>\n",
       "      <td>Mumbai</td>\n",
       "      <td>2010</td>\n",
       "      <td>72000</td>\n",
       "      <td>CNG</td>\n",
       "      <td>Manual</td>\n",
       "      <td>First</td>\n",
       "      <td>26.6 km/kg</td>\n",
       "      <td>998 CC</td>\n",
       "      <td>58.16 bhp</td>\n",
       "      <td>5.0</td>\n",
       "      <td>1.75</td>\n",
       "    </tr>\n",
       "    <tr>\n",
       "      <th>1</th>\n",
       "      <td>1</td>\n",
       "      <td>Hyundai Creta 1.6 CRDi SX Option</td>\n",
       "      <td>Pune</td>\n",
       "      <td>2015</td>\n",
       "      <td>41000</td>\n",
       "      <td>Diesel</td>\n",
       "      <td>Manual</td>\n",
       "      <td>First</td>\n",
       "      <td>19.67 kmpl</td>\n",
       "      <td>1582 CC</td>\n",
       "      <td>126.2 bhp</td>\n",
       "      <td>5.0</td>\n",
       "      <td>12.50</td>\n",
       "    </tr>\n",
       "    <tr>\n",
       "      <th>2</th>\n",
       "      <td>2</td>\n",
       "      <td>Honda Jazz V</td>\n",
       "      <td>Chennai</td>\n",
       "      <td>2011</td>\n",
       "      <td>46000</td>\n",
       "      <td>Petrol</td>\n",
       "      <td>Manual</td>\n",
       "      <td>First</td>\n",
       "      <td>18.2 kmpl</td>\n",
       "      <td>1199 CC</td>\n",
       "      <td>88.7 bhp</td>\n",
       "      <td>5.0</td>\n",
       "      <td>4.50</td>\n",
       "    </tr>\n",
       "    <tr>\n",
       "      <th>3</th>\n",
       "      <td>3</td>\n",
       "      <td>Maruti Ertiga VDI</td>\n",
       "      <td>Chennai</td>\n",
       "      <td>2012</td>\n",
       "      <td>87000</td>\n",
       "      <td>Diesel</td>\n",
       "      <td>Manual</td>\n",
       "      <td>First</td>\n",
       "      <td>20.77 kmpl</td>\n",
       "      <td>1248 CC</td>\n",
       "      <td>88.76 bhp</td>\n",
       "      <td>7.0</td>\n",
       "      <td>6.00</td>\n",
       "    </tr>\n",
       "    <tr>\n",
       "      <th>4</th>\n",
       "      <td>4</td>\n",
       "      <td>Audi A4 New 2.0 TDI Multitronic</td>\n",
       "      <td>Coimbatore</td>\n",
       "      <td>2013</td>\n",
       "      <td>40670</td>\n",
       "      <td>Diesel</td>\n",
       "      <td>Automatic</td>\n",
       "      <td>Second</td>\n",
       "      <td>15.2 kmpl</td>\n",
       "      <td>1968 CC</td>\n",
       "      <td>140.8 bhp</td>\n",
       "      <td>5.0</td>\n",
       "      <td>17.74</td>\n",
       "    </tr>\n",
       "  </tbody>\n",
       "</table>\n",
       "</div>"
      ],
      "text/plain": [
       "   Unnamed: 0                              Name    Location  Year  \\\n",
       "0           0            Maruti Wagon R LXI CNG      Mumbai  2010   \n",
       "1           1  Hyundai Creta 1.6 CRDi SX Option        Pune  2015   \n",
       "2           2                      Honda Jazz V     Chennai  2011   \n",
       "3           3                 Maruti Ertiga VDI     Chennai  2012   \n",
       "4           4   Audi A4 New 2.0 TDI Multitronic  Coimbatore  2013   \n",
       "\n",
       "   Kilometers_Driven Fuel_Type Transmission Owner_Type     Mileage   Engine  \\\n",
       "0              72000       CNG       Manual      First  26.6 km/kg   998 CC   \n",
       "1              41000    Diesel       Manual      First  19.67 kmpl  1582 CC   \n",
       "2              46000    Petrol       Manual      First   18.2 kmpl  1199 CC   \n",
       "3              87000    Diesel       Manual      First  20.77 kmpl  1248 CC   \n",
       "4              40670    Diesel    Automatic     Second   15.2 kmpl  1968 CC   \n",
       "\n",
       "       Power  Seats  Price  \n",
       "0  58.16 bhp    5.0   1.75  \n",
       "1  126.2 bhp    5.0  12.50  \n",
       "2   88.7 bhp    5.0   4.50  \n",
       "3  88.76 bhp    7.0   6.00  \n",
       "4  140.8 bhp    5.0  17.74  "
      ]
     },
     "execution_count": 4,
     "metadata": {},
     "output_type": "execute_result"
    }
   ],
   "source": [
    "# Read the data\n",
    "train = pd.read_csv('train-data.csv')\n",
    "# Print the first 5 rows of the dataframe\n",
    "train.head()"
   ]
  },
  {
   "cell_type": "code",
   "execution_count": 5,
   "metadata": {
    "colab": {
     "base_uri": "https://localhost:8080/",
     "height": 204
    },
    "colab_type": "code",
    "id": "nr1w-pmxkDms",
    "outputId": "c59586c4-18d7-4b88-df9f-267bd7428424"
   },
   "outputs": [
    {
     "data": {
      "text/html": [
       "<div>\n",
       "<style scoped>\n",
       "    .dataframe tbody tr th:only-of-type {\n",
       "        vertical-align: middle;\n",
       "    }\n",
       "\n",
       "    .dataframe tbody tr th {\n",
       "        vertical-align: top;\n",
       "    }\n",
       "\n",
       "    .dataframe thead th {\n",
       "        text-align: right;\n",
       "    }\n",
       "</style>\n",
       "<table border=\"1\" class=\"dataframe\">\n",
       "  <thead>\n",
       "    <tr style=\"text-align: right;\">\n",
       "      <th></th>\n",
       "      <th>Name</th>\n",
       "      <th>Location</th>\n",
       "      <th>Year</th>\n",
       "      <th>Kilometers_Driven</th>\n",
       "      <th>Fuel_Type</th>\n",
       "      <th>Transmission</th>\n",
       "      <th>Owner_Type</th>\n",
       "      <th>Mileage</th>\n",
       "      <th>Engine</th>\n",
       "      <th>Power</th>\n",
       "      <th>Seats</th>\n",
       "      <th>Price</th>\n",
       "    </tr>\n",
       "  </thead>\n",
       "  <tbody>\n",
       "    <tr>\n",
       "      <th>0</th>\n",
       "      <td>MARUTI</td>\n",
       "      <td>Mumbai</td>\n",
       "      <td>2010</td>\n",
       "      <td>72000</td>\n",
       "      <td>CNG</td>\n",
       "      <td>Manual</td>\n",
       "      <td>First</td>\n",
       "      <td>26.6 km/kg</td>\n",
       "      <td>998 CC</td>\n",
       "      <td>58.16 bhp</td>\n",
       "      <td>5.0</td>\n",
       "      <td>1.75</td>\n",
       "    </tr>\n",
       "    <tr>\n",
       "      <th>1</th>\n",
       "      <td>HYUNDAI</td>\n",
       "      <td>Pune</td>\n",
       "      <td>2015</td>\n",
       "      <td>41000</td>\n",
       "      <td>Diesel</td>\n",
       "      <td>Manual</td>\n",
       "      <td>First</td>\n",
       "      <td>19.67 kmpl</td>\n",
       "      <td>1582 CC</td>\n",
       "      <td>126.2 bhp</td>\n",
       "      <td>5.0</td>\n",
       "      <td>12.50</td>\n",
       "    </tr>\n",
       "    <tr>\n",
       "      <th>2</th>\n",
       "      <td>HONDA</td>\n",
       "      <td>Chennai</td>\n",
       "      <td>2011</td>\n",
       "      <td>46000</td>\n",
       "      <td>Petrol</td>\n",
       "      <td>Manual</td>\n",
       "      <td>First</td>\n",
       "      <td>18.2 kmpl</td>\n",
       "      <td>1199 CC</td>\n",
       "      <td>88.7 bhp</td>\n",
       "      <td>5.0</td>\n",
       "      <td>4.50</td>\n",
       "    </tr>\n",
       "    <tr>\n",
       "      <th>3</th>\n",
       "      <td>MARUTI</td>\n",
       "      <td>Chennai</td>\n",
       "      <td>2012</td>\n",
       "      <td>87000</td>\n",
       "      <td>Diesel</td>\n",
       "      <td>Manual</td>\n",
       "      <td>First</td>\n",
       "      <td>20.77 kmpl</td>\n",
       "      <td>1248 CC</td>\n",
       "      <td>88.76 bhp</td>\n",
       "      <td>7.0</td>\n",
       "      <td>6.00</td>\n",
       "    </tr>\n",
       "    <tr>\n",
       "      <th>4</th>\n",
       "      <td>AUDI</td>\n",
       "      <td>Coimbatore</td>\n",
       "      <td>2013</td>\n",
       "      <td>40670</td>\n",
       "      <td>Diesel</td>\n",
       "      <td>Automatic</td>\n",
       "      <td>Second</td>\n",
       "      <td>15.2 kmpl</td>\n",
       "      <td>1968 CC</td>\n",
       "      <td>140.8 bhp</td>\n",
       "      <td>5.0</td>\n",
       "      <td>17.74</td>\n",
       "    </tr>\n",
       "  </tbody>\n",
       "</table>\n",
       "</div>"
      ],
      "text/plain": [
       "      Name    Location  Year  Kilometers_Driven Fuel_Type Transmission  \\\n",
       "0   MARUTI      Mumbai  2010              72000       CNG       Manual   \n",
       "1  HYUNDAI        Pune  2015              41000    Diesel       Manual   \n",
       "2    HONDA     Chennai  2011              46000    Petrol       Manual   \n",
       "3   MARUTI     Chennai  2012              87000    Diesel       Manual   \n",
       "4     AUDI  Coimbatore  2013              40670    Diesel    Automatic   \n",
       "\n",
       "  Owner_Type     Mileage   Engine      Power  Seats  Price  \n",
       "0      First  26.6 km/kg   998 CC  58.16 bhp    5.0   1.75  \n",
       "1      First  19.67 kmpl  1582 CC  126.2 bhp    5.0  12.50  \n",
       "2      First   18.2 kmpl  1199 CC   88.7 bhp    5.0   4.50  \n",
       "3      First  20.77 kmpl  1248 CC  88.76 bhp    7.0   6.00  \n",
       "4     Second   15.2 kmpl  1968 CC  140.8 bhp    5.0  17.74  "
      ]
     },
     "execution_count": 5,
     "metadata": {},
     "output_type": "execute_result"
    }
   ],
   "source": [
    "# Drop the column 'Unnamed: 0'\n",
    "data = train.drop('Unnamed: 0', axis=1)\n",
    "# Select only the brand of the car and not the model\n",
    "data['Name'] = data['Name'].apply(lambda x: x.split(' ')[0].upper())\n",
    "data.head()"
   ]
  },
  {
   "cell_type": "code",
   "execution_count": 6,
   "metadata": {
    "colab": {},
    "colab_type": "code",
    "id": "iZb7DSUikDm5"
   },
   "outputs": [],
   "source": [
    "# Change the Year column to the years of usage\n",
    "data['Year'] = dt.date.today().year - data['Year']"
   ]
  },
  {
   "cell_type": "code",
   "execution_count": 7,
   "metadata": {
    "colab": {
     "base_uri": "https://localhost:8080/",
     "height": 34
    },
    "colab_type": "code",
    "id": "VqmCxDo1kDnE",
    "outputId": "4e8a4a87-d503-416b-c54b-2d5815cd3fa0"
   },
   "outputs": [
    {
     "name": "stdout",
     "output_type": "stream",
     "text": [
      "float64 float64\n"
     ]
    }
   ],
   "source": [
    "# Select the first word of the Mileage column\n",
    "data['Mileage'] =data['Mileage'].apply(lambda x: str(x).split(' ')[0])\n",
    "# Change 'nan' string to real missing values\n",
    "data['Mileage'] = [x if x != 'nan' else np.nan for x in data['Mileage']]\n",
    "# Convert the datatype to floating numbers\n",
    "data['Mileage'] = pd.to_numeric(data['Mileage'])\n",
    "\n",
    "\n",
    "# Select the first word of the Power column\n",
    "data['Power'] =data['Power'].apply(lambda x: str(x).split(' ')[0])\n",
    "# Change 'null' string to real missing values\n",
    "data['Power'] = [np.nan if x=='null' else x for x in data['Power']]\n",
    "data['Power'] = [np.nan if x=='nan' else x for x in data['Power']]\n",
    "# Convert the datatype to floating numbers\n",
    "data['Power'] = pd.to_numeric(data['Power'])\n",
    "\n",
    "\n",
    "print(data['Mileage'].dtype, data['Power'].dtype)"
   ]
  },
  {
   "cell_type": "code",
   "execution_count": 8,
   "metadata": {
    "colab": {
     "base_uri": "https://localhost:8080/",
     "height": 238
    },
    "colab_type": "code",
    "id": "CcYgPEnKkDnP",
    "outputId": "78f01997-da52-4e33-bc68-fdc7d424aadf",
    "scrolled": true
   },
   "outputs": [
    {
     "data": {
      "text/plain": [
       "Name                   0\n",
       "Location               0\n",
       "Year                   0\n",
       "Kilometers_Driven      0\n",
       "Fuel_Type              0\n",
       "Transmission           0\n",
       "Owner_Type             0\n",
       "Mileage                2\n",
       "Engine                36\n",
       "Power                143\n",
       "Seats                 42\n",
       "Price                  0\n",
       "dtype: int64"
      ]
     },
     "execution_count": 8,
     "metadata": {},
     "output_type": "execute_result"
    }
   ],
   "source": [
    "# Check for null values\n",
    "data.isnull().sum()"
   ]
  },
  {
   "cell_type": "code",
   "execution_count": 9,
   "metadata": {
    "colab": {
     "base_uri": "https://localhost:8080/",
     "height": 34
    },
    "colab_type": "code",
    "id": "CZb8AyBtkDnd",
    "outputId": "b683cb26-839f-4eca-e2e6-f20fb2429d0b"
   },
   "outputs": [
    {
     "data": {
      "text/plain": [
       "False"
      ]
     },
     "execution_count": 9,
     "metadata": {},
     "output_type": "execute_result"
    }
   ],
   "source": [
    "# Replace missing values with median value of the column\n",
    "mileage_median = data['Mileage'].median()\n",
    "data['Mileage'] = data['Mileage'].fillna(mileage_median)\n",
    "\n",
    "power_median = data['Power'].median() \n",
    "data['Power'] = data['Power'].fillna(power_median)\n",
    "\n",
    "seat_median = data['Seats'].median()\n",
    "data['Seats'] = data['Seats'].fillna(seat_median)\n",
    "\n",
    "# Drop the remaining rows with missing value\n",
    "data.dropna(axis=0, inplace=True)\n",
    "# Check for missing values\n",
    "data.isnull().sum().any()"
   ]
  },
  {
   "cell_type": "code",
   "execution_count": 10,
   "metadata": {
    "colab": {
     "base_uri": "https://localhost:8080/",
     "height": 85
    },
    "colab_type": "code",
    "id": "3uaX-E19kDn2",
    "outputId": "0f7ee08d-9b3b-4671-c21d-b3da5f692a61",
    "scrolled": true
   },
   "outputs": [
    {
     "name": "stdout",
     "output_type": "stream",
     "text": [
      "Categorical features: ['Name', 'Location', 'Fuel_Type', 'Transmission', 'Owner_Type', 'Engine']\n",
      "Numerical features: ['Year', 'Kilometers_Driven', 'Mileage', 'Power', 'Seats', 'Price']\n",
      "Discrete features: ['Year', 'Seats']\n",
      "Continuous features: ['Kilometers_Driven', 'Mileage', 'Power', 'Price']\n"
     ]
    }
   ],
   "source": [
    "# Classify the non-numerical features\n",
    "cat_features = [x for x in data.columns if data[x].dtype == 'O']\n",
    "\n",
    "# Classify the numerical features\n",
    "num_features = [x for x in data.columns if data[x].dtype != 'O']\n",
    "\n",
    "# Classify the discrete features\n",
    "discrete_features = [x for x in num_features\n",
    "                     if len(data[x].unique()) < 25]\n",
    "\n",
    "# Classify the continuous features\n",
    "continuous_features = [x for x in num_features\n",
    "                      if x not in discrete_features]\n",
    "# Check them out\n",
    "print(f\"Categorical features: {cat_features}\\nNumerical features: {num_features}\\\n",
    "\\nDiscrete features: {discrete_features}\\nContinuous features: {continuous_features}\")"
   ]
  },
  {
   "cell_type": "code",
   "execution_count": 11,
   "metadata": {
    "colab": {
     "base_uri": "https://localhost:8080/",
     "height": 578
    },
    "colab_type": "code",
    "id": "oqeT25DJkDn_",
    "outputId": "0f5d4544-eb77-479f-a0ed-6f8a2d8971ab",
    "scrolled": true
   },
   "outputs": [
    {
     "data": {
      "image/png": "[encoded data removed]",
      "text/plain": [
       "<Figure size 864x576 with 4 Axes>"
      ]
     },
     "metadata": {
      "needs_background": "light"
     },
     "output_type": "display_data"
    }
   ],
   "source": [
    "# Create a figure with 4 subplots\n",
    "fig, ax = plt.subplots(2,2, figsize=(12, 8))\n",
    "fig.subplots_adjust(hspace=0.5)\n",
    "\n",
    "# Plot the number of times it entry appears\n",
    "a = sns.countplot(cat_features[1], data=data, ax=ax[0][0])\n",
    "a.set_xticklabels(a.get_xticklabels(), rotation='vertical')\n",
    "b = sns.countplot(cat_features[2], data=data, ax=ax[0][1])\n",
    "b.set_xticklabels(b.get_xticklabels(), rotation='vertical')\n",
    "c = sns.countplot(cat_features[3], data=data, ax=ax[1][0])\n",
    "c.set_xticklabels(c.get_xticklabels(), rotation='vertical')\n",
    "d = sns.countplot(cat_features[4], data=data, ax=ax[1][1])\n",
    "d.set_xticklabels(d.get_xticklabels(), rotation='vertical')\n",
    "\n",
    "\n",
    "\n",
    "plt.show()\n"
   ]
  },
  {
   "cell_type": "code",
   "execution_count": 12,
   "metadata": {
    "colab": {
     "base_uri": "https://localhost:8080/",
     "height": 605
    },
    "colab_type": "code",
    "id": "_49S1H-ckDoK",
    "outputId": "183de736-ec25-4c15-bb08-4ce58342ac23"
   },
   "outputs": [
    {
     "data": {
      "text/plain": [
       "''"
      ]
     },
     "execution_count": 12,
     "metadata": {},
     "output_type": "execute_result"
    },
    {
     "data": {
      "image/png": "[encoded data removed]",
      "text/plain": [
       "<Figure size 576x576 with 1 Axes>"
      ]
     },
     "metadata": {
      "needs_background": "light"
     },
     "output_type": "display_data"
    }
   ],
   "source": [
    "# Create a figure\n",
    "plt.figure(figsize=(8, 8))\n",
    "# Count the number of times a car was bought and plot the graph\n",
    "count = sns.countplot(cat_features[0], data=data, order=data.groupby('Name').mean()['Price'].index)\n",
    "count.set_xticklabels(count.get_xticklabels(), rotation='vertical')\n",
    "\n",
    "# Plot the mean price of each car\n",
    "price = sns.lineplot(data.groupby('Name').mean()['Price'].index, data.groupby('Name').mean()['Price'].values)\n",
    ";"
   ]
  },
  {
   "cell_type": "code",
   "execution_count": 13,
   "metadata": {
    "colab": {
     "base_uri": "https://localhost:8080/",
     "height": 705
    },
    "colab_type": "code",
    "id": "X--5AsCwkDoU",
    "outputId": "0867a005-b323-46c0-acf7-338d8de9bb68",
    "scrolled": false
   },
   "outputs": [
    {
     "data": {
      "text/plain": [
       "''"
      ]
     },
     "execution_count": 13,
     "metadata": {},
     "output_type": "execute_result"
    },
    {
     "data": {
      "image/png": "[encoded data removed]",
      "text/plain": [
       "<Figure size 1080x720 with 6 Axes>"
      ]
     },
     "metadata": {
      "needs_background": "light"
     },
     "output_type": "display_data"
    }
   ],
   "source": [
    "# Create a figure with 6 subplots\n",
    "fig, ax = plt.subplots(2,3, figsize=(15, 10))\n",
    "fig.subplots_adjust(hspace=0.5)\n",
    "\n",
    "# Graph each categorical feature wrt to thee Price\n",
    "a = sns.barplot(data.columns[1], 'Price', data=data, ax=ax[0][0])\n",
    "a.set_xticklabels(a.get_xticklabels(), rotation='vertical')\n",
    "\n",
    "b = sns.barplot(pd.qcut(data[data.columns[2]], 4), 'Price', data=data, ax=ax[0][1])\n",
    "b.set_xticklabels(['1 - 4', '4 - 6', '6 - 9', '9 - 22'], rotation='vertical')\n",
    "b.set_xlabel('Age of Car')\n",
    "\n",
    "c = sns.barplot(pd.qcut(data[data.columns[3]], 4), 'Price', data=data, ax=ax[0][2])\n",
    "c.set_xticklabels(['171 - 33965', '33966 - 53000', '53000 - 73000', '73000 - 6500000'], rotation='vertical')\n",
    "\n",
    "d = sns.barplot(data.columns[4], 'Price', data=data, ax=ax[1][0])\n",
    "d.set_xticklabels(d.get_xticklabels(), rotation='vertical')\n",
    "\n",
    "e = sns.barplot(data.columns[5], 'Price', data=data, ax=ax[1][1])\n",
    "e.set_xticklabels(e.get_xticklabels(), rotation='vertical')\n",
    "\n",
    "f = sns.barplot(data.columns[6], 'Price', data=data, ax=ax[1][2])\n",
    "f.set_xticklabels(f.get_xticklabels(), rotation='vertical')\n",
    "\n",
    ";"
   ]
  },
  {
   "cell_type": "code",
   "execution_count": 14,
   "metadata": {
    "colab": {
     "base_uri": "https://localhost:8080/",
     "height": 521
    },
    "colab_type": "code",
    "id": "Uf2kyC5KkDoi",
    "outputId": "efed5423-1bf7-42c1-82f3-17846d098466",
    "scrolled": true
   },
   "outputs": [
    {
     "name": "stderr",
     "output_type": "stream",
     "text": [
      "C:\\Users\\DELL\\Anaconda3\\lib\\site-packages\\ipykernel_launcher.py:8: RuntimeWarning: divide by zero encountered in log\n",
      "  \n"
     ]
    },
    {
     "data": {
      "text/plain": [
       "''"
      ]
     },
     "execution_count": 14,
     "metadata": {},
     "output_type": "execute_result"
    },
    {
     "data": {
      "image/png": "[encoded data removed]",
      "text/plain": [
       "<Figure size 1152x576 with 4 Axes>"
      ]
     },
     "metadata": {
      "needs_background": "light"
     },
     "output_type": "display_data"
    }
   ],
   "source": [
    "data1 = data.copy()\n",
    "\n",
    "# Create a figure with 4 subplots    \n",
    "fig, ax = plt.subplots(2,2, figsize=(16,8))\n",
    "\n",
    "# Create a boxplot for the continuous features\n",
    "box1 = sns.boxplot(y=np.log(data1[continuous_features[0]]), ax=ax[0][0])\n",
    "box2 = sns.boxplot(y=np.log(data1[continuous_features[1]]), ax=ax[0][1])\n",
    "box3 = sns.boxplot(y=np.log(data1[continuous_features[2]]), ax=ax[1][0])\n",
    "box4 = sns.boxplot(y=np.log(data1[continuous_features[3]]), ax=ax[1][1])\n",
    ";\n"
   ]
  },
  {
   "cell_type": "code",
   "execution_count": 15,
   "metadata": {
    "colab": {},
    "colab_type": "code",
    "id": "Lq1WWRTukDot"
   },
   "outputs": [],
   "source": [
    "data = data.drop(['Location', 'Engine'], axis=1)\n",
    "cat_features = [x for x in data.columns if data[x].dtype == 'O']\n",
    "data = pd.get_dummies(data, cat_features)"
   ]
  },
  {
   "cell_type": "code",
   "execution_count": 16,
   "metadata": {
    "colab": {},
    "colab_type": "code",
    "id": "TFJJfUtQkDo1"
   },
   "outputs": [],
   "source": [
    "# cat_features = ['Name', 'Fuel_Type', 'Transmission', 'Owner_Type']"
   ]
  },
  {
   "cell_type": "code",
   "execution_count": 17,
   "metadata": {
    "colab": {
     "base_uri": "https://localhost:8080/",
     "height": 425
    },
    "colab_type": "code",
    "id": "oFoWInVOkDpA",
    "outputId": "67ce208a-e94c-4219-a8e6-56d0bbb25ae2",
    "scrolled": false
   },
   "outputs": [
    {
     "name": "stderr",
     "output_type": "stream",
     "text": [
      "C:\\Users\\DELL\\Anaconda3\\lib\\site-packages\\sklearn\\preprocessing\\data.py:645: DataConversionWarning: Data with input dtype int64, float64 were all converted to float64 by StandardScaler.\n",
      "  return self.partial_fit(X, y)\n",
      "C:\\Users\\DELL\\Anaconda3\\lib\\site-packages\\ipykernel_launcher.py:14: DataConversionWarning: Data with input dtype int64, float64 were all converted to float64 by StandardScaler.\n",
      "  \n",
      "C:\\Users\\DELL\\Anaconda3\\lib\\site-packages\\ipykernel_launcher.py:14: SettingWithCopyWarning: \n",
      "A value is trying to be set on a copy of a slice from a DataFrame.\n",
      "Try using .loc[row_indexer,col_indexer] = value instead\n",
      "\n",
      "See the caveats in the documentation: http://pandas.pydata.org/pandas-docs/stable/indexing.html#indexing-view-versus-copy\n",
      "  \n",
      "C:\\Users\\DELL\\Anaconda3\\lib\\site-packages\\pandas\\core\\indexing.py:543: SettingWithCopyWarning: \n",
      "A value is trying to be set on a copy of a slice from a DataFrame.\n",
      "Try using .loc[row_indexer,col_indexer] = value instead\n",
      "\n",
      "See the caveats in the documentation: http://pandas.pydata.org/pandas-docs/stable/indexing.html#indexing-view-versus-copy\n",
      "  self.obj[item] = s\n",
      "C:\\Users\\DELL\\Anaconda3\\lib\\site-packages\\ipykernel_launcher.py:15: DataConversionWarning: Data with input dtype int64, float64 were all converted to float64 by StandardScaler.\n",
      "  from ipykernel import kernelapp as app\n",
      "C:\\Users\\DELL\\Anaconda3\\lib\\site-packages\\ipykernel_launcher.py:15: SettingWithCopyWarning: \n",
      "A value is trying to be set on a copy of a slice from a DataFrame.\n",
      "Try using .loc[row_indexer,col_indexer] = value instead\n",
      "\n",
      "See the caveats in the documentation: http://pandas.pydata.org/pandas-docs/stable/indexing.html#indexing-view-versus-copy\n",
      "  from ipykernel import kernelapp as app\n",
      "C:\\Users\\DELL\\Anaconda3\\lib\\site-packages\\pandas\\core\\indexing.py:543: SettingWithCopyWarning: \n",
      "A value is trying to be set on a copy of a slice from a DataFrame.\n",
      "Try using .loc[row_indexer,col_indexer] = value instead\n",
      "\n",
      "See the caveats in the documentation: http://pandas.pydata.org/pandas-docs/stable/indexing.html#indexing-view-versus-copy\n",
      "  self.obj[item] = s\n"
     ]
    }
   ],
   "source": [
    "# Define the features or independent variable\n",
    "X = data.drop(['Price'], axis=1)\n",
    "# Define the label or dependent variable\n",
    "y = data['Price']\n",
    "\n",
    "# Split the data into train and test\n",
    "X_train, X_test, y_train, y_test = train_test_split(X, y, test_size=0.2, random_state=42)\n",
    "\n",
    "# Fit Robust Scaler to the train data\n",
    "scaler = StandardScaler()\n",
    "scaler.fit(X_train[continuous_features[0:-1]])\n",
    "\n",
    "# Transform Robust Scaler to the train and test data\n",
    "X_train[continuous_features[0:-1]] = scaler.transform(X_train[continuous_features[0:-1]])\n",
    "X_test[continuous_features[0:-1]] = scaler.transform(X_test[continuous_features[0:-1]])"
   ]
  },
  {
   "cell_type": "code",
   "execution_count": 18,
   "metadata": {},
   "outputs": [
    {
     "data": {
      "text/plain": [
       "((4786, 46), (4786,))"
      ]
     },
     "execution_count": 18,
     "metadata": {},
     "output_type": "execute_result"
    }
   ],
   "source": [
    "X_train.shape, y_train.shape"
   ]
  },
  {
   "cell_type": "code",
   "execution_count": 19,
   "metadata": {},
   "outputs": [],
   "source": [
    "# def baseline_model():\n",
    "#     model = Sequential()\n",
    "#     model.add(Dense(60, input_dim=46, kernel_initializer='he_uniform', activation='relu'))\n",
    "#     model.add(Dense(40, kernel_initializer='he_uniform', activation='relu'))\n",
    "#     model.add(Dropout(0.3))\n",
    "#     model.add(Dense(20, kernel_initializer='normal', activation='relu'))\n",
    "#     model.add(Dropout(0.1))\n",
    "#     model.add(Dense(1))\n",
    "    \n",
    "#     model.compile(loss='mse', optimizer='adam', metrics=['mse'])\n",
    "#     return model\n",
    "\n",
    "              \n",
    "# #evaluate model\n",
    "# estimator = KerasRegressor(build_fn=baseline_model, epochs=100)\n",
    "# fold = KFold(n_splits=10)\n",
    "# score = cross_val_score(estimator, X_train, y_train, cv=fold)\n",
    "\n",
    "# print(f\"The basline model score is {score.mean()} with a standard devaition of {score.std()}\")"
   ]
  },
  {
   "cell_type": "code",
   "execution_count": 20,
   "metadata": {},
   "outputs": [],
   "source": [
    "from tensorflow.keras import optimizers\n",
    "from tensorflow.keras.callbacks import EarlyStopping"
   ]
  },
  {
   "cell_type": "code",
   "execution_count": 21,
   "metadata": {},
   "outputs": [],
   "source": [
    "from kerastuner import RandomSearch\n",
    "from kerastuner.engine.hyperparameters import HyperParameters"
   ]
  },
  {
   "cell_type": "code",
   "execution_count": 22,
   "metadata": {},
   "outputs": [],
   "source": [
    "import time\n",
    "LOG_DIR = f\"{int(time.time())}\"\n",
    "def build_model(hp):\n",
    "    model = Sequential()\n",
    "    model.add(Dense(hp.Int('input_units', min_value=10, max_value=200, step=10), input_dim=46, kernel_initializer='he_uniform', activation='relu'))\n",
    "    \n",
    "    for i in range(hp.Int(f'each_layer', 1, 4)):\n",
    "        model.add(Dense(hp.Int(f'{i} unit', min_value=10, max_value=160, step=8), kernel_initializer='he_uniform', activation='relu'))\n",
    "        model.add(Dropout(hp.Float(f'{i} dropout', min_value=0.1, max_value=0.5)))\n",
    "#     model.add(Dense(20, kernel_initializer='normal', activation='relu'))\n",
    "#     model.add(Dropout(0.1))\n",
    "    model.add(Dense(1))\n",
    "    \n",
    "    optimizers.Adam(lr=0.01)\n",
    "#     callbacks = [EarlyStopping('val_loss', patience=50), tensorboard]\n",
    "\n",
    "    model.compile(loss='mse', optimizer='adam', metrics=['mse'])\n",
    "    return model\n"
   ]
  },
  {
   "cell_type": "code",
   "execution_count": null,
   "metadata": {},
   "outputs": [],
   "source": []
  },
  {
   "cell_type": "code",
   "execution_count": null,
   "metadata": {
    "scrolled": true
   },
   "outputs": [
    {
     "name": "stdout",
     "output_type": "stream",
     "text": [
      "\n",
      "Search: Running Trial #1\n",
      "\n",
      "Hyperparameter    |Value             |Best Value So Far \n",
      "input_units       |190               |?                 \n",
      "each_layer        |2                 |?                 \n",
      "0 unit            |18                |?                 \n",
      "0 dropout         |0.36648           |?                 \n",
      "\n",
      "Epoch 1/100\n",
      "  3/150 [..............................] - ETA: 18s - loss: 186.3365 - mse: 186.3365WARNING:tensorflow:Callback method `on_train_batch_end` is slow compared to the batch time (batch time: 0.0040s vs `on_train_batch_end` time: 0.0389s). Check your callbacks.\n",
      "150/150 [==============================] - 2s 8ms/step - loss: 146.2142 - mse: 146.2142 - val_loss: 32.9162 - val_mse: 32.9162\n",
      "Epoch 2/100\n",
      "150/150 [==============================] - 0s 2ms/step - loss: 48.1164 - mse: 48.1164 - val_loss: 21.0766 - val_mse: 21.0766\n",
      "Epoch 3/100\n",
      "150/150 [==============================] - 0s 2ms/step - loss: 39.7323 - mse: 39.7323 - val_loss: 22.2158 - val_mse: 22.2158\n",
      "Epoch 4/100\n",
      "150/150 [==============================] - 0s 2ms/step - loss: 37.8594 - mse: 37.8594 - val_loss: 17.7106 - val_mse: 17.7106\n",
      "Epoch 5/100\n",
      "150/150 [==============================] - 0s 2ms/step - loss: 35.8452 - mse: 35.8452 - val_loss: 16.7257 - val_mse: 16.7257\n",
      "Epoch 6/100\n",
      "150/150 [==============================] - 0s 2ms/step - loss: 30.8116 - mse: 30.8116 - val_loss: 20.9023 - val_mse: 20.9023\n",
      "Epoch 7/100\n",
      "150/150 [==============================] - 0s 2ms/step - loss: 26.5629 - mse: 26.5629 - val_loss: 16.6261 - val_mse: 16.6261\n",
      "Epoch 8/100\n",
      "150/150 [==============================] - 0s 2ms/step - loss: 33.5907 - mse: 33.5907 - val_loss: 17.0527 - val_mse: 17.0527\n",
      "Epoch 9/100\n",
      "150/150 [==============================] - 0s 2ms/step - loss: 26.6143 - mse: 26.6143 - val_loss: 16.3697 - val_mse: 16.3697\n",
      "Epoch 10/100\n",
      "150/150 [==============================] - 0s 2ms/step - loss: 23.8485 - mse: 23.8485 - val_loss: 15.6255 - val_mse: 15.6255\n",
      "Epoch 11/100\n",
      "150/150 [==============================] - 0s 2ms/step - loss: 22.1217 - mse: 22.1217 - val_loss: 16.7587 - val_mse: 16.7587\n",
      "Epoch 12/100\n",
      "150/150 [==============================] - 0s 2ms/step - loss: 19.5703 - mse: 19.5703 - val_loss: 21.2710 - val_mse: 21.2710\n",
      "Epoch 13/100\n",
      "150/150 [==============================] - 0s 2ms/step - loss: 24.3308 - mse: 24.3308 - val_loss: 16.6322 - val_mse: 16.6322\n",
      "Epoch 14/100\n",
      "150/150 [==============================] - 0s 2ms/step - loss: 23.5252 - mse: 23.5252 - val_loss: 20.1520 - val_mse: 20.1520\n",
      "Epoch 15/100\n",
      "150/150 [==============================] - 0s 2ms/step - loss: 24.3184 - mse: 24.3184 - val_loss: 18.7796 - val_mse: 18.7796\n",
      "Epoch 16/100\n",
      "150/150 [==============================] - 0s 2ms/step - loss: 19.8644 - mse: 19.8644 - val_loss: 18.0428 - val_mse: 18.0428\n",
      "Epoch 17/100\n",
      "150/150 [==============================] - 0s 2ms/step - loss: 22.3234 - mse: 22.3234 - val_loss: 18.7746 - val_mse: 18.7746\n",
      "Epoch 18/100\n",
      "150/150 [==============================] - 0s 2ms/step - loss: 19.4057 - mse: 19.4057 - val_loss: 18.1191 - val_mse: 18.1191\n",
      "Epoch 19/100\n",
      "150/150 [==============================] - 0s 2ms/step - loss: 21.0722 - mse: 21.0722 - val_loss: 20.0196 - val_mse: 20.0196\n",
      "Epoch 20/100\n",
      "150/150 [==============================] - 0s 2ms/step - loss: 25.7854 - mse: 25.7854 - val_loss: 23.3238 - val_mse: 23.3238\n",
      "Epoch 21/100\n",
      "150/150 [==============================] - 0s 2ms/step - loss: 24.8904 - mse: 24.8904 - val_loss: 22.0645 - val_mse: 22.0645\n",
      "Epoch 22/100\n",
      "150/150 [==============================] - 0s 3ms/step - loss: 21.6183 - mse: 21.6183 - val_loss: 23.5553 - val_mse: 23.5553\n",
      "Epoch 23/100\n",
      "150/150 [==============================] - 0s 2ms/step - loss: 19.9063 - mse: 19.9063 - val_loss: 21.8366 - val_mse: 21.8366\n",
      "Epoch 24/100\n",
      "150/150 [==============================] - 0s 3ms/step - loss: 19.8356 - mse: 19.8356 - val_loss: 25.3892 - val_mse: 25.3892\n",
      "Epoch 25/100\n",
      "150/150 [==============================] - 0s 2ms/step - loss: 21.4663 - mse: 21.4663 - val_loss: 27.0150 - val_mse: 27.0150\n",
      "Epoch 26/100\n",
      "150/150 [==============================] - 0s 2ms/step - loss: 21.4500 - mse: 21.4500 - val_loss: 27.1664 - val_mse: 27.1664\n",
      "Epoch 27/100\n",
      "150/150 [==============================] - 0s 2ms/step - loss: 18.3033 - mse: 18.3033 - val_loss: 29.2925 - val_mse: 29.2925\n",
      "Epoch 28/100\n",
      "150/150 [==============================] - 0s 2ms/step - loss: 20.3737 - mse: 20.3737 - val_loss: 25.1233 - val_mse: 25.1233\n",
      "Epoch 29/100\n",
      "150/150 [==============================] - 0s 2ms/step - loss: 19.8941 - mse: 19.8941 - val_loss: 25.8443 - val_mse: 25.8443\n",
      "Epoch 30/100\n",
      "150/150 [==============================] - 0s 2ms/step - loss: 23.8339 - mse: 23.8339 - val_loss: 28.6593 - val_mse: 28.6593\n",
      "Epoch 31/100\n",
      "150/150 [==============================] - 0s 2ms/step - loss: 19.3018 - mse: 19.3018 - val_loss: 21.8692 - val_mse: 21.8692\n",
      "Epoch 32/100\n",
      "150/150 [==============================] - 0s 2ms/step - loss: 19.3925 - mse: 19.3925 - val_loss: 22.2558 - val_mse: 22.2558\n",
      "Epoch 33/100\n",
      "150/150 [==============================] - 0s 2ms/step - loss: 18.3750 - mse: 18.3750 - val_loss: 21.5613 - val_mse: 21.5613\n",
      "Epoch 34/100\n",
      "150/150 [==============================] - 0s 2ms/step - loss: 18.9446 - mse: 18.9446 - val_loss: 23.6540 - val_mse: 23.6540\n",
      "Epoch 35/100\n",
      "150/150 [==============================] - 0s 2ms/step - loss: 19.5367 - mse: 19.5367 - val_loss: 19.9362 - val_mse: 19.9362\n",
      "Epoch 36/100\n",
      "150/150 [==============================] - 0s 2ms/step - loss: 18.6021 - mse: 18.6021 - val_loss: 27.0585 - val_mse: 27.0585\n",
      "Epoch 37/100\n",
      "150/150 [==============================] - 0s 2ms/step - loss: 16.9035 - mse: 16.9035 - val_loss: 26.3548 - val_mse: 26.3548\n",
      "Epoch 38/100\n",
      "150/150 [==============================] - 0s 2ms/step - loss: 22.0836 - mse: 22.0836 - val_loss: 25.2843 - val_mse: 25.2843\n",
      "Epoch 39/100\n",
      "150/150 [==============================] - 0s 2ms/step - loss: 36.0538 - mse: 36.0538 - val_loss: 25.7325 - val_mse: 25.7325\n",
      "Epoch 40/100\n",
      "150/150 [==============================] - 0s 2ms/step - loss: 17.9302 - mse: 17.9302 - val_loss: 28.8832 - val_mse: 28.8832\n",
      "Epoch 41/100\n",
      "150/150 [==============================] - 0s 2ms/step - loss: 20.8419 - mse: 20.8419 - val_loss: 24.6188 - val_mse: 24.6188\n",
      "Epoch 42/100\n",
      "150/150 [==============================] - 0s 2ms/step - loss: 18.2988 - mse: 18.2988 - val_loss: 23.4582 - val_mse: 23.4582\n",
      "Epoch 43/100\n",
      "150/150 [==============================] - 0s 2ms/step - loss: 19.7301 - mse: 19.7301 - val_loss: 25.9173 - val_mse: 25.9173\n",
      "Epoch 44/100\n",
      "150/150 [==============================] - 0s 2ms/step - loss: 17.2578 - mse: 17.2578 - val_loss: 30.1220 - val_mse: 30.1220\n",
      "Epoch 45/100\n",
      "150/150 [==============================] - 0s 2ms/step - loss: 24.9941 - mse: 24.9941 - val_loss: 31.5218 - val_mse: 31.5218\n",
      "Epoch 46/100\n",
      "150/150 [==============================] - 0s 2ms/step - loss: 16.3031 - mse: 16.3031 - val_loss: 27.3562 - val_mse: 27.3562\n",
      "Epoch 47/100\n",
      "150/150 [==============================] - 0s 2ms/step - loss: 18.1798 - mse: 18.1798 - val_loss: 31.3883 - val_mse: 31.3883\n",
      "Epoch 48/100\n",
      "150/150 [==============================] - 0s 2ms/step - loss: 18.0356 - mse: 18.0356 - val_loss: 30.5991 - val_mse: 30.5991\n",
      "Epoch 49/100\n",
      "150/150 [==============================] - 0s 2ms/step - loss: 16.8132 - mse: 16.8132 - val_loss: 38.0406 - val_mse: 38.0406\n",
      "Epoch 50/100\n",
      "150/150 [==============================] - 0s 2ms/step - loss: 15.7128 - mse: 15.7128 - val_loss: 26.2300 - val_mse: 26.2300\n",
      "Epoch 51/100\n",
      "150/150 [==============================] - 0s 2ms/step - loss: 14.2374 - mse: 14.2374 - val_loss: 26.2094 - val_mse: 26.2094\n",
      "Epoch 52/100\n",
      "150/150 [==============================] - 0s 2ms/step - loss: 15.5304 - mse: 15.5304 - val_loss: 26.8083 - val_mse: 26.8083\n",
      "Epoch 53/100\n",
      "150/150 [==============================] - 0s 2ms/step - loss: 17.7355 - mse: 17.7355 - val_loss: 37.6205 - val_mse: 37.6205\n",
      "Epoch 54/100\n",
      "150/150 [==============================] - 0s 3ms/step - loss: 19.3068 - mse: 19.3068 - val_loss: 29.7704 - val_mse: 29.7704\n",
      "Epoch 55/100\n",
      "150/150 [==============================] - 0s 2ms/step - loss: 17.0176 - mse: 17.0176 - val_loss: 26.3855 - val_mse: 26.3855\n",
      "Epoch 56/100\n"
     ]
    },
    {
     "name": "stdout",
     "output_type": "stream",
     "text": [
      "150/150 [==============================] - 0s 2ms/step - loss: 15.8652 - mse: 15.8652 - val_loss: 38.0934 - val_mse: 38.0934\n",
      "Epoch 57/100\n",
      "150/150 [==============================] - 0s 2ms/step - loss: 14.3267 - mse: 14.3267 - val_loss: 28.2523 - val_mse: 28.2523\n",
      "Epoch 58/100\n",
      "150/150 [==============================] - 0s 3ms/step - loss: 17.9200 - mse: 17.9200 - val_loss: 19.6888 - val_mse: 19.6888\n",
      "Epoch 59/100\n",
      "150/150 [==============================] - 0s 3ms/step - loss: 17.3103 - mse: 17.3103 - val_loss: 23.5091 - val_mse: 23.5091\n",
      "Epoch 60/100\n",
      "150/150 [==============================] - 0s 2ms/step - loss: 16.4658 - mse: 16.4658 - val_loss: 23.3711 - val_mse: 23.3711\n",
      "Epoch 1/100\n",
      "  3/150 [..............................] - ETA: 9s - loss: 190.7134 - mse: 190.7134  WARNING:tensorflow:Callback method `on_train_batch_end` is slow compared to the batch time (batch time: 0.0030s vs `on_train_batch_end` time: 0.0212s). Check your callbacks.\n",
      "150/150 [==============================] - 1s 6ms/step - loss: 155.7086 - mse: 155.7086 - val_loss: 42.4119 - val_mse: 42.4119\n",
      "Epoch 2/100\n",
      "150/150 [==============================] - 0s 3ms/step - loss: 67.9736 - mse: 67.9736 - val_loss: 29.1123 - val_mse: 29.1123\n",
      "Epoch 3/100\n",
      "150/150 [==============================] - 0s 2ms/step - loss: 47.1613 - mse: 47.1613 - val_loss: 21.0408 - val_mse: 21.0408\n",
      "Epoch 4/100\n",
      "150/150 [==============================] - 0s 2ms/step - loss: 39.7418 - mse: 39.7418 - val_loss: 19.1319 - val_mse: 19.1319\n",
      "Epoch 5/100\n",
      "150/150 [==============================] - 0s 2ms/step - loss: 35.8219 - mse: 35.8219 - val_loss: 18.2170 - val_mse: 18.2170\n",
      "Epoch 6/100\n",
      "150/150 [==============================] - 0s 2ms/step - loss: 43.4585 - mse: 43.4585 - val_loss: 17.8648 - val_mse: 17.8648\n",
      "Epoch 7/100\n",
      "150/150 [==============================] - 0s 2ms/step - loss: 32.7850 - mse: 32.7850 - val_loss: 21.3520 - val_mse: 21.3520\n",
      "Epoch 8/100\n",
      "150/150 [==============================] - 0s 2ms/step - loss: 44.0783 - mse: 44.0783 - val_loss: 18.5503 - val_mse: 18.5503\n",
      "Epoch 9/100\n",
      "150/150 [==============================] - 0s 2ms/step - loss: 35.4487 - mse: 35.4487 - val_loss: 22.6821 - val_mse: 22.6821\n",
      "Epoch 10/100\n",
      "150/150 [==============================] - 0s 2ms/step - loss: 25.4787 - mse: 25.4787 - val_loss: 16.6119 - val_mse: 16.6119\n",
      "Epoch 11/100\n",
      "150/150 [==============================] - 0s 2ms/step - loss: 34.3957 - mse: 34.3957 - val_loss: 17.9004 - val_mse: 17.9004\n",
      "Epoch 12/100\n",
      "150/150 [==============================] - 0s 2ms/step - loss: 31.4598 - mse: 31.4598 - val_loss: 20.3974 - val_mse: 20.3974\n",
      "Epoch 13/100\n",
      "150/150 [==============================] - 0s 2ms/step - loss: 37.2440 - mse: 37.2440 - val_loss: 19.7782 - val_mse: 19.7782\n",
      "Epoch 14/100\n",
      "150/150 [==============================] - 0s 2ms/step - loss: 32.4216 - mse: 32.4216 - val_loss: 17.7336 - val_mse: 17.7336\n",
      "Epoch 15/100\n",
      "150/150 [==============================] - 0s 2ms/step - loss: 25.7413 - mse: 25.7413 - val_loss: 21.4703 - val_mse: 21.4703\n",
      "Epoch 16/100\n",
      "150/150 [==============================] - 0s 2ms/step - loss: 27.9338 - mse: 27.9338 - val_loss: 16.4341 - val_mse: 16.4341\n",
      "Epoch 17/100\n",
      "150/150 [==============================] - 0s 2ms/step - loss: 26.3559 - mse: 26.3559 - val_loss: 16.7961 - val_mse: 16.7961\n",
      "Epoch 18/100\n",
      "150/150 [==============================] - 0s 2ms/step - loss: 36.4836 - mse: 36.4836 - val_loss: 17.2878 - val_mse: 17.2878\n",
      "Epoch 19/100\n",
      "150/150 [==============================] - 0s 2ms/step - loss: 31.8466 - mse: 31.8466 - val_loss: 16.1157 - val_mse: 16.1157\n",
      "Epoch 20/100\n",
      "150/150 [==============================] - 0s 2ms/step - loss: 25.8051 - mse: 25.8051 - val_loss: 19.1779 - val_mse: 19.1779\n",
      "Epoch 21/100\n",
      "150/150 [==============================] - 0s 2ms/step - loss: 27.8498 - mse: 27.8498 - val_loss: 20.2787 - val_mse: 20.2787\n",
      "Epoch 22/100\n",
      "150/150 [==============================] - 0s 2ms/step - loss: 25.6977 - mse: 25.6977 - val_loss: 21.9417 - val_mse: 21.9417\n",
      "Epoch 23/100\n",
      "150/150 [==============================] - 0s 2ms/step - loss: 30.0605 - mse: 30.0605 - val_loss: 18.7523 - val_mse: 18.7523\n",
      "Epoch 24/100\n",
      "150/150 [==============================] - 0s 2ms/step - loss: 27.3997 - mse: 27.3997 - val_loss: 20.0969 - val_mse: 20.0969\n",
      "Epoch 25/100\n",
      "150/150 [==============================] - 0s 2ms/step - loss: 31.1066 - mse: 31.1066 - val_loss: 19.7869 - val_mse: 19.7869\n",
      "Epoch 26/100\n",
      "150/150 [==============================] - 0s 2ms/step - loss: 32.3900 - mse: 32.3900 - val_loss: 19.2548 - val_mse: 19.2548\n",
      "Epoch 27/100\n",
      "150/150 [==============================] - 0s 2ms/step - loss: 29.4828 - mse: 29.4828 - val_loss: 20.3672 - val_mse: 20.3672\n",
      "Epoch 28/100\n",
      "150/150 [==============================] - 0s 3ms/step - loss: 27.9045 - mse: 27.9045 - val_loss: 18.3580 - val_mse: 18.3580\n",
      "Epoch 29/100\n",
      "150/150 [==============================] - 0s 3ms/step - loss: 29.1425 - mse: 29.1425 - val_loss: 19.8076 - val_mse: 19.8076\n",
      "Epoch 30/100\n",
      "150/150 [==============================] - 0s 3ms/step - loss: 25.8280 - mse: 25.8280 - val_loss: 18.0183 - val_mse: 18.0183\n",
      "Epoch 31/100\n",
      "150/150 [==============================] - 0s 3ms/step - loss: 21.2659 - mse: 21.2659 - val_loss: 20.9075 - val_mse: 20.9075\n",
      "Epoch 32/100\n",
      "150/150 [==============================] - 0s 3ms/step - loss: 27.0533 - mse: 27.0533 - val_loss: 21.8056 - val_mse: 21.8056\n",
      "Epoch 33/100\n",
      "150/150 [==============================] - 0s 3ms/step - loss: 20.6872 - mse: 20.6872 - val_loss: 20.3205 - val_mse: 20.3205\n",
      "Epoch 34/100\n",
      "150/150 [==============================] - 0s 2ms/step - loss: 23.7093 - mse: 23.7093 - val_loss: 20.5556 - val_mse: 20.5556\n",
      "Epoch 35/100\n",
      "150/150 [==============================] - 0s 3ms/step - loss: 29.8609 - mse: 29.8609 - val_loss: 21.7079 - val_mse: 21.7079\n",
      "Epoch 36/100\n",
      "150/150 [==============================] - 0s 2ms/step - loss: 24.8587 - mse: 24.8587 - val_loss: 20.4941 - val_mse: 20.4941\n",
      "Epoch 37/100\n",
      "150/150 [==============================] - 0s 2ms/step - loss: 22.1465 - mse: 22.1465 - val_loss: 21.1623 - val_mse: 21.1623\n",
      "Epoch 38/100\n",
      "150/150 [==============================] - 0s 2ms/step - loss: 22.0928 - mse: 22.0928 - val_loss: 16.7390 - val_mse: 16.7390\n",
      "Epoch 39/100\n",
      "150/150 [==============================] - 0s 2ms/step - loss: 24.5294 - mse: 24.5294 - val_loss: 20.9225 - val_mse: 20.9225\n",
      "Epoch 40/100\n",
      "150/150 [==============================] - 0s 2ms/step - loss: 18.5710 - mse: 18.5710 - val_loss: 22.9691 - val_mse: 22.9691\n",
      "Epoch 41/100\n",
      "150/150 [==============================] - 0s 2ms/step - loss: 28.1411 - mse: 28.1411 - val_loss: 26.7777 - val_mse: 26.7777\n",
      "Epoch 42/100\n",
      "150/150 [==============================] - 0s 2ms/step - loss: 21.4600 - mse: 21.4600 - val_loss: 25.6384 - val_mse: 25.6384\n",
      "Epoch 43/100\n",
      "150/150 [==============================] - 0s 2ms/step - loss: 25.8917 - mse: 25.8917 - val_loss: 28.7895 - val_mse: 28.7895\n",
      "Epoch 44/100\n",
      "150/150 [==============================] - 0s 2ms/step - loss: 22.8742 - mse: 22.8742 - val_loss: 20.7615 - val_mse: 20.7615\n",
      "Epoch 45/100\n",
      "150/150 [==============================] - 0s 2ms/step - loss: 27.8191 - mse: 27.8191 - val_loss: 20.1863 - val_mse: 20.1863\n",
      "Epoch 46/100\n",
      "150/150 [==============================] - 0s 2ms/step - loss: 23.8952 - mse: 23.8952 - val_loss: 24.5105 - val_mse: 24.5105\n",
      "Epoch 47/100\n",
      "150/150 [==============================] - 0s 2ms/step - loss: 24.7002 - mse: 24.7002 - val_loss: 22.3950 - val_mse: 22.3950\n",
      "Epoch 48/100\n",
      "150/150 [==============================] - 0s 2ms/step - loss: 30.4178 - mse: 30.4178 - val_loss: 26.2224 - val_mse: 26.2224\n",
      "Epoch 49/100\n",
      "150/150 [==============================] - 0s 2ms/step - loss: 23.9455 - mse: 23.9455 - val_loss: 19.5124 - val_mse: 19.5124\n",
      "Epoch 50/100\n",
      "150/150 [==============================] - 0s 2ms/step - loss: 21.4990 - mse: 21.4990 - val_loss: 24.6835 - val_mse: 24.6835\n",
      "Epoch 51/100\n",
      "150/150 [==============================] - 0s 2ms/step - loss: 22.2346 - mse: 22.2346 - val_loss: 21.4756 - val_mse: 21.4756\n",
      "Epoch 52/100\n",
      "150/150 [==============================] - 0s 2ms/step - loss: 22.2086 - mse: 22.2086 - val_loss: 23.6650 - val_mse: 23.6650\n",
      "Epoch 53/100\n"
     ]
    },
    {
     "name": "stdout",
     "output_type": "stream",
     "text": [
      "150/150 [==============================] - 0s 2ms/step - loss: 27.4917 - mse: 27.4917 - val_loss: 20.9433 - val_mse: 20.9433\n",
      "Epoch 54/100\n",
      "150/150 [==============================] - 0s 2ms/step - loss: 20.6398 - mse: 20.6398 - val_loss: 24.0251 - val_mse: 24.0251\n",
      "Epoch 55/100\n",
      "150/150 [==============================] - 0s 2ms/step - loss: 23.6191 - mse: 23.6191 - val_loss: 24.0186 - val_mse: 24.0186\n",
      "Epoch 56/100\n",
      "150/150 [==============================] - 0s 2ms/step - loss: 20.2497 - mse: 20.2497 - val_loss: 23.3704 - val_mse: 23.3704\n",
      "Epoch 57/100\n",
      "150/150 [==============================] - 0s 2ms/step - loss: 19.2894 - mse: 19.2894 - val_loss: 29.3441 - val_mse: 29.3441\n",
      "Epoch 58/100\n",
      "150/150 [==============================] - 0s 2ms/step - loss: 22.1203 - mse: 22.1203 - val_loss: 21.6828 - val_mse: 21.6828\n",
      "Epoch 59/100\n",
      "150/150 [==============================] - 0s 2ms/step - loss: 21.7251 - mse: 21.7251 - val_loss: 20.0774 - val_mse: 20.0774\n",
      "Epoch 60/100\n",
      "150/150 [==============================] - 0s 2ms/step - loss: 18.9868 - mse: 18.9868 - val_loss: 21.8002 - val_mse: 21.8002\n",
      "Epoch 61/100\n",
      "150/150 [==============================] - 0s 2ms/step - loss: 23.5782 - mse: 23.5782 - val_loss: 23.2779 - val_mse: 23.2779\n",
      "Epoch 62/100\n",
      "150/150 [==============================] - 0s 3ms/step - loss: 20.1378 - mse: 20.1378 - val_loss: 22.0548 - val_mse: 22.0548\n",
      "Epoch 63/100\n",
      "150/150 [==============================] - 0s 3ms/step - loss: 21.5889 - mse: 21.5889 - val_loss: 26.2778 - val_mse: 26.2778\n",
      "Epoch 64/100\n",
      "150/150 [==============================] - 0s 3ms/step - loss: 20.5812 - mse: 20.5812 - val_loss: 20.6089 - val_mse: 20.6089\n",
      "Epoch 65/100\n",
      "150/150 [==============================] - 0s 3ms/step - loss: 21.2361 - mse: 21.2361 - val_loss: 22.0314 - val_mse: 22.0314\n",
      "Epoch 66/100\n",
      "150/150 [==============================] - 0s 3ms/step - loss: 17.8118 - mse: 17.8118 - val_loss: 27.0725 - val_mse: 27.0725\n",
      "Epoch 67/100\n",
      "150/150 [==============================] - 0s 3ms/step - loss: 18.4577 - mse: 18.4577 - val_loss: 21.6590 - val_mse: 21.6590\n",
      "Epoch 68/100\n",
      "  1/150 [..............................] - ETA: 0s - loss: 37.5189 - mse: 37.5189"
     ]
    }
   ],
   "source": [
    "# first_model = build_model()\n",
    "tensorboard = TensorBoard()\n",
    "callbacks = [EarlyStopping('val_loss', patience=50), tensorboard]\n",
    "# history = first_model.fit(X_train, y_train, epochs=100, validation_data=(X_test, y_test), callbacks=callbacks)\n",
    "\n",
    "tuner = RandomSearch(build_model, objective='val_mse', max_trials=10,\n",
    "                     executions_per_trial=3, directory=LOG_DIR)\n",
    "history = tuner.search(X_train, y_train, epochs=100, \n",
    "                       validation_data=(X_test, y_test), batch_size=32, callbacks=callbacks)"
   ]
  },
  {
   "cell_type": "code",
   "execution_count": null,
   "metadata": {},
   "outputs": [],
   "source": [
    "tuner.results_summary(3)"
   ]
  },
  {
   "cell_type": "code",
   "execution_count": null,
   "metadata": {},
   "outputs": [],
   "source": [
    "tuner.get_best_hyperparameters()[0].values"
   ]
  },
  {
   "cell_type": "code",
   "execution_count": null,
   "metadata": {},
   "outputs": [],
   "source": [
    "tuner.get_best_models()[0].summary()"
   ]
  },
  {
   "cell_type": "code",
   "execution_count": null,
   "metadata": {
    "scrolled": true
   },
   "outputs": [],
   "source": [
    "tuner_model = tuner.get_best_models()[0]"
   ]
  },
  {
   "cell_type": "code",
   "execution_count": null,
   "metadata": {},
   "outputs": [],
   "source": []
  },
  {
   "cell_type": "code",
   "execution_count": null,
   "metadata": {},
   "outputs": [],
   "source": []
  },
  {
   "cell_type": "code",
   "execution_count": null,
   "metadata": {},
   "outputs": [],
   "source": []
  },
  {
   "cell_type": "code",
   "execution_count": 31,
   "metadata": {},
   "outputs": [
    {
     "ename": "AttributeError",
     "evalue": "'RandomSearch' object has no attribute 'history'",
     "output_type": "error",
     "traceback": [
      "\u001b[1;31m---------------------------------------------------------------------------\u001b[0m",
      "\u001b[1;31mAttributeError\u001b[0m                            Traceback (most recent call last)",
      "\u001b[1;32m<ipython-input-31-9f3447894ca3>\u001b[0m in \u001b[0;36m<module>\u001b[1;34m\u001b[0m\n\u001b[0;32m      1\u001b[0m \u001b[1;32mimport\u001b[0m \u001b[0mmatplotlib\u001b[0m\u001b[1;33m.\u001b[0m\u001b[0mpyplot\u001b[0m \u001b[1;32mas\u001b[0m \u001b[0mplt\u001b[0m\u001b[1;33m\u001b[0m\u001b[1;33m\u001b[0m\u001b[0m\n\u001b[0;32m      2\u001b[0m \u001b[1;33m\u001b[0m\u001b[0m\n\u001b[1;32m----> 3\u001b[1;33m \u001b[0mplt\u001b[0m\u001b[1;33m.\u001b[0m\u001b[0mplot\u001b[0m\u001b[1;33m(\u001b[0m\u001b[0mtuner\u001b[0m\u001b[1;33m.\u001b[0m\u001b[0mhistory\u001b[0m\u001b[1;33m[\u001b[0m\u001b[1;34m'loss'\u001b[0m\u001b[1;33m]\u001b[0m\u001b[1;33m,\u001b[0m \u001b[0mlabel\u001b[0m\u001b[1;33m=\u001b[0m\u001b[1;34m'Loss'\u001b[0m\u001b[1;33m)\u001b[0m\u001b[1;33m\u001b[0m\u001b[1;33m\u001b[0m\u001b[0m\n\u001b[0m\u001b[0;32m      4\u001b[0m \u001b[0mplt\u001b[0m\u001b[1;33m.\u001b[0m\u001b[0mplot\u001b[0m\u001b[1;33m(\u001b[0m\u001b[0mtuner\u001b[0m\u001b[1;33m.\u001b[0m\u001b[0mhistory\u001b[0m\u001b[1;33m[\u001b[0m\u001b[1;34m'val_loss'\u001b[0m\u001b[1;33m]\u001b[0m\u001b[1;33m,\u001b[0m \u001b[0mlabel\u001b[0m\u001b[1;33m=\u001b[0m\u001b[1;34m'Val loss'\u001b[0m\u001b[1;33m)\u001b[0m\u001b[1;33m\u001b[0m\u001b[1;33m\u001b[0m\u001b[0m\n\u001b[0;32m      5\u001b[0m \u001b[0mplt\u001b[0m\u001b[1;33m.\u001b[0m\u001b[0mlegend\u001b[0m\u001b[1;33m(\u001b[0m\u001b[1;33m)\u001b[0m\u001b[1;33m\u001b[0m\u001b[1;33m\u001b[0m\u001b[0m\n",
      "\u001b[1;31mAttributeError\u001b[0m: 'RandomSearch' object has no attribute 'history'"
     ]
    }
   ],
   "source": [
    "import matplotlib.pyplot as plt\n",
    "\n",
    "plt.plot(tuner.history['loss'], label='Loss')\n",
    "plt.plot(tuner.history['val_loss'], label='Val loss')\n",
    "plt.legend()"
   ]
  },
  {
   "cell_type": "code",
   "execution_count": null,
   "metadata": {},
   "outputs": [],
   "source": []
  },
  {
   "cell_type": "code",
   "execution_count": 30,
   "metadata": {
    "colab": {},
    "colab_type": "code",
    "id": "r1PkOi9WkDpr"
   },
   "outputs": [],
   "source": [
    "# Number of trees in random forest\n",
    "n_estimators = [int(x) for x in np.linspace(start = 200, stop = 2000, num = 10)]\n",
    "# Number of features to consider at every split\n",
    "max_features = ['auto', 'sqrt']\n",
    "# Maximum number of levels in tree\n",
    "max_depth = [int(x) for x in np.linspace(10, 110, num = 11)]\n",
    "max_depth.append(None)\n",
    "# Minimum number of samples required to split a node\n",
    "min_samples_split = [2, 5, 10]\n",
    "# Minimum number of samples required at each leaf node\n",
    "min_samples_leaf = [1, 2, 4]\n",
    "# Method of selecting samples for training each tree\n",
    "bootstrap = [True, False]\n",
    "\n",
    "# Define some paramters\n",
    "params = {'n_estimators': n_estimators,\n",
    "               'max_features': max_features,\n",
    "               'max_depth': max_depth,\n",
    "               'min_samples_split': min_samples_split,\n",
    "               'min_samples_leaf': min_samples_leaf,\n",
    "               'bootstrap': bootstrap}\n",
    "\n"
   ]
  },
  {
   "cell_type": "code",
   "execution_count": 31,
   "metadata": {
    "colab": {
     "base_uri": "https://localhost:8080/",
     "height": 68
    },
    "colab_type": "code",
    "id": "qvbK1AYakDp7",
    "outputId": "9cd50a26-8b14-4e29-f039-b70a6eb71706"
   },
   "outputs": [
    {
     "name": "stdout",
     "output_type": "stream",
     "text": [
      "CPU times: user 13min 24s, sys: 1.41 s, total: 13min 25s\n",
      "Wall time: 13min 26s\n",
      "r2 score: 0.8739563541355833\n"
     ]
    }
   ],
   "source": [
    "# Apply GridSearchCV with the defined paramters\n",
    "model_search = RandomizedSearchCV(rf, param_distributions=params, scoring='r2')\n",
    "%time model_search.fit(X_train, y_train)\n",
    "y_pred_op = model_search.predict(X_test)\n",
    "\n",
    "# Check metrics\n",
    "print(f'r2 score: {r2_score(y_test, y_pred_op)}')"
   ]
  },
  {
   "cell_type": "code",
   "execution_count": 32,
   "metadata": {
    "colab": {
     "base_uri": "https://localhost:8080/",
     "height": 119
    },
    "colab_type": "code",
    "id": "gQEkWyBTkDrI",
    "outputId": "598e52c1-12cb-492b-bb37-1515fee7b011"
   },
   "outputs": [
    {
     "data": {
      "text/plain": [
       "{'bootstrap': True,\n",
       " 'max_depth': 20,\n",
       " 'max_features': 'auto',\n",
       " 'min_samples_leaf': 1,\n",
       " 'min_samples_split': 5,\n",
       " 'n_estimators': 2000}"
      ]
     },
     "execution_count": 32,
     "metadata": {
      "tags": []
     },
     "output_type": "execute_result"
    }
   ],
   "source": [
    "model_search.best_params_"
   ]
  },
  {
   "cell_type": "code",
   "execution_count": 33,
   "metadata": {
    "colab": {
     "base_uri": "https://localhost:8080/",
     "height": 136
    },
    "colab_type": "code",
    "id": "CN0nD_Y6kDq2",
    "outputId": "d0f047df-efe5-4cad-e3b5-0386533667aa"
   },
   "outputs": [
    {
     "data": {
      "text/plain": [
       "RandomForestRegressor(bootstrap=True, ccp_alpha=0.0, criterion='mse',\n",
       "                      max_depth=20, max_features='auto', max_leaf_nodes=None,\n",
       "                      max_samples=None, min_impurity_decrease=0.0,\n",
       "                      min_impurity_split=None, min_samples_leaf=1,\n",
       "                      min_samples_split=5, min_weight_fraction_leaf=0.0,\n",
       "                      n_estimators=2000, n_jobs=None, oob_score=False,\n",
       "                      random_state=None, verbose=0, warm_start=False)"
      ]
     },
     "execution_count": 33,
     "metadata": {
      "tags": []
     },
     "output_type": "execute_result"
    }
   ],
   "source": [
    "model_search.best_estimator_"
   ]
  },
  {
   "cell_type": "code",
   "execution_count": 34,
   "metadata": {
    "colab": {},
    "colab_type": "code",
    "id": "ySS0vcAekDqE"
   },
   "outputs": [],
   "source": [
    "# Define a function that implements the model\n",
    "def predict_price(name, year, km, fuel, transmission, owner, mileage, power, seats):\n",
    "#     Define column location of the non numerical features\n",
    "    name_index = np.where(X.columns=='Name_'+name.upper())[0][0]\n",
    "    fuel_index = np.where(X.columns=='Fuel_Type_'+fuel)[0][0]\n",
    "    transmission_index = np.where(X.columns=='Transmission_'+transmission)[0][0]\n",
    "    owner_index = np.where(X.columns=='Owner_Type_'+owner)[0][0]\n",
    "#     Assign each of the inputted feature its value\n",
    "    x = np.zeros(len(X.columns))\n",
    "    x[0] = year\n",
    "    x[1] = km\n",
    "    x[2] = mileage\n",
    "    x[3] = power\n",
    "    x[4] = seats\n",
    "    if name_index >= 0:\n",
    "        x[name_index] = 1\n",
    "    if fuel_index >= 0:\n",
    "        x[fuel_index] = 1\n",
    "    if transmission_index >= 0:\n",
    "        x[transmission_index] = 1\n",
    "    if owner_index >= 0:\n",
    "        x[owner_index] = 1\n",
    "    \n",
    "    return f'The estimated price of the car is {model_search.predict([x])[0]} Lakh Rupees'"
   ]
  },
  {
   "cell_type": "code",
   "execution_count": 35,
   "metadata": {
    "colab": {
     "base_uri": "https://localhost:8080/",
     "height": 35
    },
    "colab_type": "code",
    "id": "6D7sRth3kDqO",
    "outputId": "2cb434e6-aa3a-468f-9ac3-a2a42f2ae1d0"
   },
   "outputs": [
    {
     "data": {
      "application/vnd.google.colaboratory.intrinsic": {
       "type": "string"
      },
      "text/plain": [
       "'The estimated price of the car is 31.097694071789316 Lakh Rupees'"
      ]
     },
     "execution_count": 35,
     "metadata": {
      "tags": []
     },
     "output_type": "execute_result"
    }
   ],
   "source": [
    "predict_price('maruti', 10, 100000, 'Petrol', 'Manual', 'First', 30, 50, 7)\n"
   ]
  },
  {
   "cell_type": "code",
   "execution_count": 36,
   "metadata": {
    "colab": {
     "base_uri": "https://localhost:8080/",
     "height": 35
    },
    "colab_type": "code",
    "id": "d5P-EEphkDqW",
    "outputId": "f64fd166-7588-46a3-e068-ac7c4db924f2"
   },
   "outputs": [
    {
     "data": {
      "application/vnd.google.colaboratory.intrinsic": {
       "type": "string"
      },
      "text/plain": [
       "'The estimated price of the car is 68.4407928003246 Lakh Rupees'"
      ]
     },
     "execution_count": 36,
     "metadata": {
      "tags": []
     },
     "output_type": "execute_result"
    }
   ],
   "source": [
    "predict_price('toyota', 5, 30000, 'Petrol', 'Automatic', 'Second', 25, 150, 4)"
   ]
  },
  {
   "cell_type": "code",
   "execution_count": 37,
   "metadata": {
    "colab": {
     "base_uri": "https://localhost:8080/",
     "height": 35
    },
    "colab_type": "code",
    "id": "ReBJRUWokDqh",
    "outputId": "e06aaea8-62df-4d26-cead-4671284d5eb9"
   },
   "outputs": [
    {
     "data": {
      "application/vnd.google.colaboratory.intrinsic": {
       "type": "string"
      },
      "text/plain": [
       "'The estimated price of the car is 81.73010602326852 Lakh Rupees'"
      ]
     },
     "execution_count": 37,
     "metadata": {
      "tags": []
     },
     "output_type": "execute_result"
    }
   ],
   "source": [
    "predict_price('land', 3, 30000, 'Petrol', 'Automatic', 'First', 20, 250, 4)"
   ]
  },
  {
   "cell_type": "code",
   "execution_count": 38,
   "metadata": {
    "colab": {
     "base_uri": "https://localhost:8080/",
     "height": 35
    },
    "colab_type": "code",
    "id": "MbduwZgG0MQH",
    "outputId": "9314d7d1-2af2-49a6-ea13-2ad335ecf4c3"
   },
   "outputs": [
    {
     "data": {
      "application/vnd.google.colaboratory.intrinsic": {
       "type": "string"
      },
      "text/plain": [
       "'The estimated price of the car is 31.097694071789316 Lakh Rupees'"
      ]
     },
     "execution_count": 38,
     "metadata": {
      "tags": []
     },
     "output_type": "execute_result"
    }
   ],
   "source": [
    "predict_price('honda', 10, 70000, 'Petrol', 'Manual', 'First', 50, 50, 7)"
   ]
  },
  {
   "cell_type": "code",
   "execution_count": 39,
   "metadata": {
    "colab": {},
    "colab_type": "code",
    "id": "tFdoFyJokDrS"
   },
   "outputs": [],
   "source": [
    "# Save the model\n",
    "pickle.dump(model_search, open('model_final.plk', 'wb'))"
   ]
  },
  {
   "cell_type": "code",
   "execution_count": 39,
   "metadata": {
    "colab": {},
    "colab_type": "code",
    "id": "Dep5aYBMkDrg"
   },
   "outputs": [],
   "source": []
  }
 ],
 "metadata": {
  "colab": {
   "collapsed_sections": [],
   "name": "Car pricing.ipynb",
   "provenance": []
  },
  "kernelspec": {
   "display_name": "Python 3",
   "language": "python",
   "name": "python3"
  },
  "language_info": {
   "codemirror_mode": {
    "name": "ipython",
    "version": 3
   },
   "file_extension": ".py",
   "mimetype": "text/x-python",
   "name": "python",
   "nbconvert_exporter": "python",
   "pygments_lexer": "ipython3",
   "version": "3.7.3"
  }
 },
 "nbformat": 4,
 "nbformat_minor": 1
}
