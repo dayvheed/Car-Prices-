{
 "cells": [
  {
   "cell_type": "code",
   "execution_count": 1,
   "metadata": {},
   "outputs": [],
   "source": [
    "import pandas as pd\n",
    "import numpy as np\n",
    "import matplotlib.pyplot as plt\n",
    "import seaborn as sns\n",
    "import datetime as dt\n",
    "from sklearn.preprocessing import RobustScaler\n",
    "from sklearn.model_selection import KFold\n",
    "from sklearn.model_selection import train_test_split\n",
    "from sklearn.model_selection import cross_val_score\n",
    "from sklearn.model_selection import GridSearchCV\n",
    "from sklearn.linear_model import LinearRegression\n",
    "from sklearn.tree import DecisionTreeRegressor\n",
    "from sklearn.linear_model import Lasso\n",
    "from sklearn.linear_model import Ridge\n",
    "from sklearn.ensemble import RandomForestRegressor\n",
    "from sklearn.metrics import r2_score\n",
    "from sklearn import metrics\n",
    "import pickle\n",
    "sns.set()"
   ]
  },
  {
   "cell_type": "code",
   "execution_count": 2,
   "metadata": {
    "scrolled": true
   },
   "outputs": [
    {
     "data": {
      "text/html": [
       "<div>\n",
       "<style scoped>\n",
       "    .dataframe tbody tr th:only-of-type {\n",
       "        vertical-align: middle;\n",
       "    }\n",
       "\n",
       "    .dataframe tbody tr th {\n",
       "        vertical-align: top;\n",
       "    }\n",
       "\n",
       "    .dataframe thead th {\n",
       "        text-align: right;\n",
       "    }\n",
       "</style>\n",
       "<table border=\"1\" class=\"dataframe\">\n",
       "  <thead>\n",
       "    <tr style=\"text-align: right;\">\n",
       "      <th></th>\n",
       "      <th>Unnamed: 0</th>\n",
       "      <th>Name</th>\n",
       "      <th>Location</th>\n",
       "      <th>Year</th>\n",
       "      <th>Kilometers_Driven</th>\n",
       "      <th>Fuel_Type</th>\n",
       "      <th>Transmission</th>\n",
       "      <th>Owner_Type</th>\n",
       "      <th>Mileage</th>\n",
       "      <th>Engine</th>\n",
       "      <th>Power</th>\n",
       "      <th>Seats</th>\n",
       "      <th>Price</th>\n",
       "    </tr>\n",
       "  </thead>\n",
       "  <tbody>\n",
       "    <tr>\n",
       "      <th>0</th>\n",
       "      <td>0</td>\n",
       "      <td>Maruti Wagon R LXI CNG</td>\n",
       "      <td>Mumbai</td>\n",
       "      <td>2010</td>\n",
       "      <td>72000</td>\n",
       "      <td>CNG</td>\n",
       "      <td>Manual</td>\n",
       "      <td>First</td>\n",
       "      <td>26.6 km/kg</td>\n",
       "      <td>998 CC</td>\n",
       "      <td>58.16 bhp</td>\n",
       "      <td>5.0</td>\n",
       "      <td>1.75</td>\n",
       "    </tr>\n",
       "    <tr>\n",
       "      <th>1</th>\n",
       "      <td>1</td>\n",
       "      <td>Hyundai Creta 1.6 CRDi SX Option</td>\n",
       "      <td>Pune</td>\n",
       "      <td>2015</td>\n",
       "      <td>41000</td>\n",
       "      <td>Diesel</td>\n",
       "      <td>Manual</td>\n",
       "      <td>First</td>\n",
       "      <td>19.67 kmpl</td>\n",
       "      <td>1582 CC</td>\n",
       "      <td>126.2 bhp</td>\n",
       "      <td>5.0</td>\n",
       "      <td>12.50</td>\n",
       "    </tr>\n",
       "    <tr>\n",
       "      <th>2</th>\n",
       "      <td>2</td>\n",
       "      <td>Honda Jazz V</td>\n",
       "      <td>Chennai</td>\n",
       "      <td>2011</td>\n",
       "      <td>46000</td>\n",
       "      <td>Petrol</td>\n",
       "      <td>Manual</td>\n",
       "      <td>First</td>\n",
       "      <td>18.2 kmpl</td>\n",
       "      <td>1199 CC</td>\n",
       "      <td>88.7 bhp</td>\n",
       "      <td>5.0</td>\n",
       "      <td>4.50</td>\n",
       "    </tr>\n",
       "    <tr>\n",
       "      <th>3</th>\n",
       "      <td>3</td>\n",
       "      <td>Maruti Ertiga VDI</td>\n",
       "      <td>Chennai</td>\n",
       "      <td>2012</td>\n",
       "      <td>87000</td>\n",
       "      <td>Diesel</td>\n",
       "      <td>Manual</td>\n",
       "      <td>First</td>\n",
       "      <td>20.77 kmpl</td>\n",
       "      <td>1248 CC</td>\n",
       "      <td>88.76 bhp</td>\n",
       "      <td>7.0</td>\n",
       "      <td>6.00</td>\n",
       "    </tr>\n",
       "    <tr>\n",
       "      <th>4</th>\n",
       "      <td>4</td>\n",
       "      <td>Audi A4 New 2.0 TDI Multitronic</td>\n",
       "      <td>Coimbatore</td>\n",
       "      <td>2013</td>\n",
       "      <td>40670</td>\n",
       "      <td>Diesel</td>\n",
       "      <td>Automatic</td>\n",
       "      <td>Second</td>\n",
       "      <td>15.2 kmpl</td>\n",
       "      <td>1968 CC</td>\n",
       "      <td>140.8 bhp</td>\n",
       "      <td>5.0</td>\n",
       "      <td>17.74</td>\n",
       "    </tr>\n",
       "  </tbody>\n",
       "</table>\n",
       "</div>"
      ],
      "text/plain": [
       "   Unnamed: 0                              Name    Location  Year  \\\n",
       "0           0            Maruti Wagon R LXI CNG      Mumbai  2010   \n",
       "1           1  Hyundai Creta 1.6 CRDi SX Option        Pune  2015   \n",
       "2           2                      Honda Jazz V     Chennai  2011   \n",
       "3           3                 Maruti Ertiga VDI     Chennai  2012   \n",
       "4           4   Audi A4 New 2.0 TDI Multitronic  Coimbatore  2013   \n",
       "\n",
       "   Kilometers_Driven Fuel_Type Transmission Owner_Type     Mileage   Engine  \\\n",
       "0              72000       CNG       Manual      First  26.6 km/kg   998 CC   \n",
       "1              41000    Diesel       Manual      First  19.67 kmpl  1582 CC   \n",
       "2              46000    Petrol       Manual      First   18.2 kmpl  1199 CC   \n",
       "3              87000    Diesel       Manual      First  20.77 kmpl  1248 CC   \n",
       "4              40670    Diesel    Automatic     Second   15.2 kmpl  1968 CC   \n",
       "\n",
       "       Power  Seats  Price  \n",
       "0  58.16 bhp    5.0   1.75  \n",
       "1  126.2 bhp    5.0  12.50  \n",
       "2   88.7 bhp    5.0   4.50  \n",
       "3  88.76 bhp    7.0   6.00  \n",
       "4  140.8 bhp    5.0  17.74  "
      ]
     },
     "execution_count": 2,
     "metadata": {},
     "output_type": "execute_result"
    }
   ],
   "source": [
    "# Read the data\n",
    "train = pd.read_csv(\"train-data.csv\")\n",
    "# Print the first 5 rows of the dataframe\n",
    "train.head()"
   ]
  },
  {
   "cell_type": "code",
   "execution_count": 3,
   "metadata": {},
   "outputs": [
    {
     "data": {
      "text/html": [
       "<div>\n",
       "<style scoped>\n",
       "    .dataframe tbody tr th:only-of-type {\n",
       "        vertical-align: middle;\n",
       "    }\n",
       "\n",
       "    .dataframe tbody tr th {\n",
       "        vertical-align: top;\n",
       "    }\n",
       "\n",
       "    .dataframe thead th {\n",
       "        text-align: right;\n",
       "    }\n",
       "</style>\n",
       "<table border=\"1\" class=\"dataframe\">\n",
       "  <thead>\n",
       "    <tr style=\"text-align: right;\">\n",
       "      <th></th>\n",
       "      <th>Name</th>\n",
       "      <th>Location</th>\n",
       "      <th>Year</th>\n",
       "      <th>Kilometers_Driven</th>\n",
       "      <th>Fuel_Type</th>\n",
       "      <th>Transmission</th>\n",
       "      <th>Owner_Type</th>\n",
       "      <th>Mileage</th>\n",
       "      <th>Engine</th>\n",
       "      <th>Power</th>\n",
       "      <th>Seats</th>\n",
       "      <th>Price</th>\n",
       "    </tr>\n",
       "  </thead>\n",
       "  <tbody>\n",
       "    <tr>\n",
       "      <th>0</th>\n",
       "      <td>MARUTI</td>\n",
       "      <td>Mumbai</td>\n",
       "      <td>2010</td>\n",
       "      <td>72000</td>\n",
       "      <td>CNG</td>\n",
       "      <td>Manual</td>\n",
       "      <td>First</td>\n",
       "      <td>26.6 km/kg</td>\n",
       "      <td>998 CC</td>\n",
       "      <td>58.16 bhp</td>\n",
       "      <td>5.0</td>\n",
       "      <td>1.75</td>\n",
       "    </tr>\n",
       "    <tr>\n",
       "      <th>1</th>\n",
       "      <td>HYUNDAI</td>\n",
       "      <td>Pune</td>\n",
       "      <td>2015</td>\n",
       "      <td>41000</td>\n",
       "      <td>Diesel</td>\n",
       "      <td>Manual</td>\n",
       "      <td>First</td>\n",
       "      <td>19.67 kmpl</td>\n",
       "      <td>1582 CC</td>\n",
       "      <td>126.2 bhp</td>\n",
       "      <td>5.0</td>\n",
       "      <td>12.50</td>\n",
       "    </tr>\n",
       "    <tr>\n",
       "      <th>2</th>\n",
       "      <td>HONDA</td>\n",
       "      <td>Chennai</td>\n",
       "      <td>2011</td>\n",
       "      <td>46000</td>\n",
       "      <td>Petrol</td>\n",
       "      <td>Manual</td>\n",
       "      <td>First</td>\n",
       "      <td>18.2 kmpl</td>\n",
       "      <td>1199 CC</td>\n",
       "      <td>88.7 bhp</td>\n",
       "      <td>5.0</td>\n",
       "      <td>4.50</td>\n",
       "    </tr>\n",
       "    <tr>\n",
       "      <th>3</th>\n",
       "      <td>MARUTI</td>\n",
       "      <td>Chennai</td>\n",
       "      <td>2012</td>\n",
       "      <td>87000</td>\n",
       "      <td>Diesel</td>\n",
       "      <td>Manual</td>\n",
       "      <td>First</td>\n",
       "      <td>20.77 kmpl</td>\n",
       "      <td>1248 CC</td>\n",
       "      <td>88.76 bhp</td>\n",
       "      <td>7.0</td>\n",
       "      <td>6.00</td>\n",
       "    </tr>\n",
       "    <tr>\n",
       "      <th>4</th>\n",
       "      <td>AUDI</td>\n",
       "      <td>Coimbatore</td>\n",
       "      <td>2013</td>\n",
       "      <td>40670</td>\n",
       "      <td>Diesel</td>\n",
       "      <td>Automatic</td>\n",
       "      <td>Second</td>\n",
       "      <td>15.2 kmpl</td>\n",
       "      <td>1968 CC</td>\n",
       "      <td>140.8 bhp</td>\n",
       "      <td>5.0</td>\n",
       "      <td>17.74</td>\n",
       "    </tr>\n",
       "  </tbody>\n",
       "</table>\n",
       "</div>"
      ],
      "text/plain": [
       "      Name    Location  Year  Kilometers_Driven Fuel_Type Transmission  \\\n",
       "0   MARUTI      Mumbai  2010              72000       CNG       Manual   \n",
       "1  HYUNDAI        Pune  2015              41000    Diesel       Manual   \n",
       "2    HONDA     Chennai  2011              46000    Petrol       Manual   \n",
       "3   MARUTI     Chennai  2012              87000    Diesel       Manual   \n",
       "4     AUDI  Coimbatore  2013              40670    Diesel    Automatic   \n",
       "\n",
       "  Owner_Type     Mileage   Engine      Power  Seats  Price  \n",
       "0      First  26.6 km/kg   998 CC  58.16 bhp    5.0   1.75  \n",
       "1      First  19.67 kmpl  1582 CC  126.2 bhp    5.0  12.50  \n",
       "2      First   18.2 kmpl  1199 CC   88.7 bhp    5.0   4.50  \n",
       "3      First  20.77 kmpl  1248 CC  88.76 bhp    7.0   6.00  \n",
       "4     Second   15.2 kmpl  1968 CC  140.8 bhp    5.0  17.74  "
      ]
     },
     "execution_count": 3,
     "metadata": {},
     "output_type": "execute_result"
    }
   ],
   "source": [
    "# Drop the column 'Unnamed: 0'\n",
    "data = train.drop('Unnamed: 0', axis=1)\n",
    "# Select only the brand of the car and not the model\n",
    "data['Name'] = data['Name'].apply(lambda x: x.split(' ')[0].upper())\n",
    "data.head()"
   ]
  },
  {
   "cell_type": "code",
   "execution_count": 4,
   "metadata": {},
   "outputs": [],
   "source": [
    "# Change the Year column to the years of usage\n",
    "data['Year'] = dt.date.today().year - data['Year']"
   ]
  },
  {
   "cell_type": "code",
   "execution_count": 5,
   "metadata": {},
   "outputs": [
    {
     "name": "stdout",
     "output_type": "stream",
     "text": [
      "float64 float64\n"
     ]
    }
   ],
   "source": [
    "# Select the first word of the Mileage column\n",
    "data['Mileage'] =data['Mileage'].apply(lambda x: str(x).split(' ')[0])\n",
    "# Change 'nan' string to real missing values\n",
    "data['Mileage'] = [x if x != 'nan' else np.nan for x in data['Mileage']]\n",
    "# Convert the datatype to floating numbers\n",
    "data['Mileage'] = pd.to_numeric(data['Mileage'])\n",
    "\n",
    "\n",
    "# Select the first word of the Power column\n",
    "data['Power'] =data['Power'].apply(lambda x: str(x).split(' ')[0])\n",
    "# Change 'null' string to real missing values\n",
    "data['Power'] = [np.nan if x=='null' else x for x in data['Power']]\n",
    "data['Power'] = [np.nan if x=='nan' else x for x in data['Power']]\n",
    "# Convert the datatype to floating numbers\n",
    "data['Power'] = pd.to_numeric(data['Power'])\n",
    "\n",
    "\n",
    "print(data['Mileage'].dtype, data['Power'].dtype)"
   ]
  },
  {
   "cell_type": "code",
   "execution_count": 6,
   "metadata": {},
   "outputs": [
    {
     "data": {
      "text/plain": [
       "Name                   0\n",
       "Location               0\n",
       "Year                   0\n",
       "Kilometers_Driven      0\n",
       "Fuel_Type              0\n",
       "Transmission           0\n",
       "Owner_Type             0\n",
       "Mileage                2\n",
       "Engine                36\n",
       "Power                143\n",
       "Seats                 42\n",
       "Price                  0\n",
       "dtype: int64"
      ]
     },
     "execution_count": 6,
     "metadata": {},
     "output_type": "execute_result"
    }
   ],
   "source": [
    "# Check for null values\n",
    "data.isnull().sum()"
   ]
  },
  {
   "cell_type": "code",
   "execution_count": 7,
   "metadata": {},
   "outputs": [
    {
     "data": {
      "text/plain": [
       "False"
      ]
     },
     "execution_count": 7,
     "metadata": {},
     "output_type": "execute_result"
    }
   ],
   "source": [
    "# Replace missing values with median value of the column\n",
    "mileage_median = data['Mileage'].median()\n",
    "data['Mileage'] = data['Mileage'].fillna(mileage_median)\n",
    "\n",
    "power_median = data['Power'].median() \n",
    "data['Power'] = data['Power'].fillna(power_median)\n",
    "\n",
    "seat_median = data['Seats'].median()\n",
    "data['Seats'] = data['Seats'].fillna(seat_median)\n",
    "\n",
    "# Drop the remaining rows with missing value\n",
    "data.dropna(axis=0, inplace=True)\n",
    "# Check for missing values\n",
    "data.isnull().sum().any()"
   ]
  },
  {
   "cell_type": "code",
   "execution_count": 8,
   "metadata": {
    "scrolled": true
   },
   "outputs": [
    {
     "name": "stdout",
     "output_type": "stream",
     "text": [
      "Categorical features: ['Name', 'Location', 'Fuel_Type', 'Transmission', 'Owner_Type', 'Engine']\n",
      "Numerical features: ['Year', 'Kilometers_Driven', 'Mileage', 'Power', 'Seats', 'Price']\n",
      "Discrete features: ['Year', 'Seats']\n",
      "Continuous features: ['Kilometers_Driven', 'Mileage', 'Power', 'Price']\n"
     ]
    }
   ],
   "source": [
    "# Classify the non-numerical features\n",
    "cat_features = [x for x in data.columns if data[x].dtype == 'O']\n",
    "\n",
    "# Classify the numerical features\n",
    "num_features = [x for x in data.columns if data[x].dtype != 'O']\n",
    "\n",
    "# Classify the discrete features\n",
    "discrete_features = [x for x in num_features\n",
    "                     if len(data[x].unique()) < 25]\n",
    "\n",
    "# Classify the continuous features\n",
    "continuous_features = [x for x in num_features\n",
    "                      if x not in discrete_features]\n",
    "# Check them out\n",
    "print(f\"Categorical features: {cat_features}\\nNumerical features: {num_features}\\\n",
    "\\nDiscrete features: {discrete_features}\\nContinuous features: {continuous_features}\")"
   ]
  },
  {
   "cell_type": "code",
   "execution_count": 9,
   "metadata": {
    "scrolled": true
   },
   "outputs": [
    {
     "data": {
      "image/png": "[encoded data removed]",
      "text/plain": [
       "<Figure size 864x576 with 4 Axes>"
      ]
     },
     "metadata": {
      "needs_background": "light"
     },
     "output_type": "display_data"
    }
   ],
   "source": [
    "# Create a figure with 4 subplots\n",
    "fig, ax = plt.subplots(2,2, figsize=(12, 8))\n",
    "fig.subplots_adjust(hspace=0.5)\n",
    "\n",
    "# Plot the number of times it entry appears\n",
    "a = sns.countplot(cat_features[1], data=data, ax=ax[0][0])\n",
    "a.set_xticklabels(a.get_xticklabels(), rotation='vertical')\n",
    "b = sns.countplot(cat_features[2], data=data, ax=ax[0][1])\n",
    "b.set_xticklabels(b.get_xticklabels(), rotation='vertical')\n",
    "c = sns.countplot(cat_features[3], data=data, ax=ax[1][0])\n",
    "c.set_xticklabels(c.get_xticklabels(), rotation='vertical')\n",
    "d = sns.countplot(cat_features[4], data=data, ax=ax[1][1])\n",
    "d.set_xticklabels(d.get_xticklabels(), rotation='vertical')\n",
    "\n",
    "\n",
    "\n",
    "plt.show()\n"
   ]
  },
  {
   "cell_type": "code",
   "execution_count": 10,
   "metadata": {},
   "outputs": [
    {
     "data": {
      "text/plain": [
       "''"
      ]
     },
     "execution_count": 10,
     "metadata": {},
     "output_type": "execute_result"
    },
    {
     "data": {
      "image/png": "[encoded data removed]",
      "text/plain": [
       "<Figure size 576x576 with 1 Axes>"
      ]
     },
     "metadata": {
      "needs_background": "light"
     },
     "output_type": "display_data"
    }
   ],
   "source": [
    "# Create a figure\n",
    "plt.figure(figsize=(8, 8))\n",
    "# Count the number of times a car was bought and plot the graph\n",
    "count = sns.countplot(cat_features[0], data=data, order=data.groupby('Name').mean()['Price'].index)\n",
    "count.set_xticklabels(count.get_xticklabels(), rotation='vertical')\n",
    "\n",
    "# Plot the mean price of each car\n",
    "price = sns.lineplot(data.groupby('Name').mean()['Price'].index, data.groupby('Name').mean()['Price'].values)\n",
    ";"
   ]
  },
  {
   "cell_type": "code",
   "execution_count": 11,
   "metadata": {},
   "outputs": [
    {
     "data": {
      "text/plain": [
       "''"
      ]
     },
     "execution_count": 11,
     "metadata": {},
     "output_type": "execute_result"
    },
    {
     "data": {
      "image/png": "[encoded data removed]",
      "text/plain": [
       "<Figure size 1080x720 with 6 Axes>"
      ]
     },
     "metadata": {
      "needs_background": "light"
     },
     "output_type": "display_data"
    }
   ],
   "source": [
    "# Create a figure with 6 subplots\n",
    "fig, ax = plt.subplots(2,3, figsize=(15, 10))\n",
    "fig.subplots_adjust(hspace=0.5)\n",
    "\n",
    "# Graph each categorical feature wrt to thee Price\n",
    "a = sns.barplot(data.columns[1], 'Price', data=data, ax=ax[0][0])\n",
    "a.set_xticklabels(a.get_xticklabels(), rotation='vertical')\n",
    "\n",
    "b = sns.barplot(pd.qcut(data[data.columns[2]], 4), 'Price', data=data, ax=ax[0][1])\n",
    "b.set_xticklabels(['1 - 4', '4 - 6', '6 - 9', '9 - 22'], rotation='vertical')\n",
    "b.set_xlabel('Age of Car')\n",
    "\n",
    "c = sns.barplot(pd.qcut(data[data.columns[3]], 4), 'Price', data=data, ax=ax[0][2])\n",
    "c.set_xticklabels(['171 - 33965', '33966 - 53000', '53000 - 73000', '73000 - 6500000'], rotation='vertical')\n",
    "\n",
    "d = sns.barplot(data.columns[4], 'Price', data=data, ax=ax[1][0])\n",
    "d.set_xticklabels(d.get_xticklabels(), rotation='vertical')\n",
    "\n",
    "e = sns.barplot(data.columns[5], 'Price', data=data, ax=ax[1][1])\n",
    "e.set_xticklabels(e.get_xticklabels(), rotation='vertical')\n",
    "\n",
    "f = sns.barplot(data.columns[6], 'Price', data=data, ax=ax[1][2])\n",
    "f.set_xticklabels(f.get_xticklabels(), rotation='vertical')\n",
    "\n",
    ";"
   ]
  },
  {
   "cell_type": "code",
   "execution_count": 12,
   "metadata": {
    "scrolled": true
   },
   "outputs": [
    {
     "name": "stderr",
     "output_type": "stream",
     "text": [
      "C:\\Users\\DELL\\Anaconda3\\lib\\site-packages\\ipykernel_launcher.py:8: RuntimeWarning: divide by zero encountered in log\n",
      "  \n"
     ]
    },
    {
     "data": {
      "text/plain": [
       "''"
      ]
     },
     "execution_count": 12,
     "metadata": {},
     "output_type": "execute_result"
    },
    {
     "data": {
      "image/png": "[encoded data removed]",
      "text/plain": [
       "<Figure size 1152x576 with 4 Axes>"
      ]
     },
     "metadata": {
      "needs_background": "light"
     },
     "output_type": "display_data"
    }
   ],
   "source": [
    "data1 = data.copy()\n",
    "\n",
    "# Create a figure with 4 subplots    \n",
    "fig, ax = plt.subplots(2,2, figsize=(16,8))\n",
    "\n",
    "# Create a boxplot for the continuous features\n",
    "box1 = sns.boxplot(y=np.log(data1[continuous_features[0]]), ax=ax[0][0])\n",
    "box2 = sns.boxplot(y=np.log(data1[continuous_features[1]]), ax=ax[0][1])\n",
    "box3 = sns.boxplot(y=np.log(data1[continuous_features[2]]), ax=ax[1][0])\n",
    "box4 = sns.boxplot(y=np.log(data1[continuous_features[3]]), ax=ax[1][1])\n",
    ";\n"
   ]
  },
  {
   "cell_type": "code",
   "execution_count": 13,
   "metadata": {},
   "outputs": [],
   "source": [
    "# Carry out One Hot Encoder on the categorical featues\n",
    "data = pd.get_dummies(data, columns=cat_features)"
   ]
  },
  {
   "cell_type": "code",
   "execution_count": 14,
   "metadata": {},
   "outputs": [
    {
     "name": "stderr",
     "output_type": "stream",
     "text": [
      "C:\\Users\\DELL\\Anaconda3\\lib\\site-packages\\ipykernel_launcher.py:14: SettingWithCopyWarning: \n",
      "A value is trying to be set on a copy of a slice from a DataFrame.\n",
      "Try using .loc[row_indexer,col_indexer] = value instead\n",
      "\n",
      "See the caveats in the documentation: http://pandas.pydata.org/pandas-docs/stable/indexing.html#indexing-view-versus-copy\n",
      "  \n",
      "C:\\Users\\DELL\\Anaconda3\\lib\\site-packages\\pandas\\core\\indexing.py:543: SettingWithCopyWarning: \n",
      "A value is trying to be set on a copy of a slice from a DataFrame.\n",
      "Try using .loc[row_indexer,col_indexer] = value instead\n",
      "\n",
      "See the caveats in the documentation: http://pandas.pydata.org/pandas-docs/stable/indexing.html#indexing-view-versus-copy\n",
      "  self.obj[item] = s\n",
      "C:\\Users\\DELL\\Anaconda3\\lib\\site-packages\\ipykernel_launcher.py:15: SettingWithCopyWarning: \n",
      "A value is trying to be set on a copy of a slice from a DataFrame.\n",
      "Try using .loc[row_indexer,col_indexer] = value instead\n",
      "\n",
      "See the caveats in the documentation: http://pandas.pydata.org/pandas-docs/stable/indexing.html#indexing-view-versus-copy\n",
      "  from ipykernel import kernelapp as app\n",
      "C:\\Users\\DELL\\Anaconda3\\lib\\site-packages\\pandas\\core\\indexing.py:543: SettingWithCopyWarning: \n",
      "A value is trying to be set on a copy of a slice from a DataFrame.\n",
      "Try using .loc[row_indexer,col_indexer] = value instead\n",
      "\n",
      "See the caveats in the documentation: http://pandas.pydata.org/pandas-docs/stable/indexing.html#indexing-view-versus-copy\n",
      "  self.obj[item] = s\n"
     ]
    }
   ],
   "source": [
    "# Define the features or independent variable\n",
    "X = data.drop(['Price'], axis=1)\n",
    "# Define the label or dependent variable\n",
    "y = data['Price']\n",
    "\n",
    "# Split the data into train and test\n",
    "X_train, X_test, y_train, y_test = train_test_split(X, y, test_size=0.2, random_state=42)\n",
    "\n",
    "# Fit Robust Scaler to the train data\n",
    "scaler = RobustScaler()\n",
    "scaler.fit(X_train[continuous_features[0:-1]])\n",
    "\n",
    "# Transform Robust Scaler to the train and test data\n",
    "X_train[continuous_features[0:-1]] = scaler.transform(X_train[continuous_features[0:-1]])\n",
    "X_test[continuous_features[0:-1]] = scaler.transform(X_test[continuous_features[0:-1]])"
   ]
  },
  {
   "cell_type": "code",
   "execution_count": 15,
   "metadata": {},
   "outputs": [
    {
     "name": "stdout",
     "output_type": "stream",
     "text": [
      "Linear Regression has an r2 score: 0.766%, and SD : 0.0657\n",
      "Ridge Regression has an r2 score: 0.77%, and SD : 0.0736\n",
      "Lasso Regression has an r2 score: 0.642%, and SD : 0.0922\n",
      "Decision Tree has an r2 score: 0.8%, and SD : 0.0822\n",
      "Random Forest has an r2 score: 0.902%, and SD : 0.0356\n"
     ]
    }
   ],
   "source": [
    "# Create a list of ML algorithms\n",
    "models = []\n",
    "\n",
    "models.append(('Linear Regression', LinearRegression()))\n",
    "models.append(('Ridge Regression', Ridge()))\n",
    "models.append(('Lasso Regression', Lasso()))\n",
    "models.append(('Decision Tree', DecisionTreeRegressor()))\n",
    "models.append(('Random Forest', RandomForestRegressor()))\n",
    "\n",
    "# Evalaute each model\n",
    "for name, model in models:\n",
    "    cv = KFold(n_splits=10, shuffle=True, random_state=1)\n",
    "    score = cross_val_score(model, X, y, cv=cv, scoring='r2')\n",
    "    print(f\"{name} has an r2 score: {np.round(score.mean(), 3)}%, and SD : {np.round(score.std(), 4)}\")\n"
   ]
  },
  {
   "cell_type": "code",
   "execution_count": 16,
   "metadata": {},
   "outputs": [
    {
     "name": "stdout",
     "output_type": "stream",
     "text": [
      "Wall time: 5.11 s\n"
     ]
    },
    {
     "data": {
      "text/plain": [
       "0.8820382662531328"
      ]
     },
     "execution_count": 16,
     "metadata": {},
     "output_type": "execute_result"
    }
   ],
   "source": [
    "# Check for model performance on the test data\n",
    "rf = RandomForestRegressor() \n",
    "%time rf.fit(X_train, y_train)\n",
    "y_pred = rf.predict(X_test)\n",
    "\n",
    "r2_score(y_test, y_pred)"
   ]
  },
  {
   "cell_type": "code",
   "execution_count": 17,
   "metadata": {},
   "outputs": [
    {
     "name": "stdout",
     "output_type": "stream",
     "text": [
      "Mean absoluute error: 1.4703908632692844\n",
      "Mean sqaured error: 13.83673532369643\n"
     ]
    }
   ],
   "source": [
    "print(f'Mean absoluute error: {metrics.mean_absolute_error(y_test, y_pred)}')\n",
    "print(f'Mean sqaured error: {metrics.mean_squared_error(y_test, y_pred)}')"
   ]
  },
  {
   "cell_type": "code",
   "execution_count": 18,
   "metadata": {},
   "outputs": [],
   "source": [
    "# Number of trees in random forest\n",
    "n_estimators = [200, 350, 400]\n",
    "# Number of features to consider at every split\n",
    "max_features = ['auto', 'sqrt']\n",
    "# Minimum number of samples required to split a node\n",
    "min_samples_split = [2, 3]\n",
    "# Method of selecting samples for training each tree\n",
    "bootstrap = [True, False]\n",
    "# Define some paramters\n",
    "params = {'n_estimators': n_estimators,\n",
    "               'max_features': max_features,\n",
    "               'min_samples_split': min_samples_split,\n",
    "               'bootstrap': bootstrap\n",
    "         }"
   ]
  },
  {
   "cell_type": "code",
   "execution_count": 19,
   "metadata": {},
   "outputs": [],
   "source": [
    "# Apply GridSearchCV with the defined paramters\n",
    "# model_search = GridSearchCV(rf, param_grid=params, scoring='r2')\n",
    "# %time model_search.fit(X_train, y_train)\n",
    "# y_pred_op = model_search.predict(X_test)\n",
    "\n",
    "# # Check metrics\n",
    "# print(f'r2 score: {r2_score(y_test, y_pred_op)}')\n",
    "# print(f'Mean absoluute error: {metrics.mean_absolute_error(y_test, y_pred_op)}')\n",
    "# print(f'Mean sqaured error: {metrics.mean_squared_error(y_test, y_pred_op)}')"
   ]
  },
  {
   "cell_type": "code",
   "execution_count": 20,
   "metadata": {},
   "outputs": [],
   "source": [
    "# Save the model\n",
    "pickle.dump(rf, open('model.plk', 'wb'))"
   ]
  },
  {
   "cell_type": "code",
   "execution_count": 21,
   "metadata": {},
   "outputs": [
    {
     "data": {
      "text/plain": [
       "ExtraTreesRegressor()"
      ]
     },
     "execution_count": 21,
     "metadata": {},
     "output_type": "execute_result"
    }
   ],
   "source": [
    "#Check feature importance\n",
    "from sklearn.ensemble import ExtraTreesRegressor\n",
    "\n",
    "extra_tree_model = ExtraTreesRegressor()\n",
    "extra_tree_model.fit(X, y)"
   ]
  },
  {
   "cell_type": "code",
   "execution_count": 22,
   "metadata": {},
   "outputs": [
    {
     "data": {
      "text/plain": [
       "array([1.34668862e-01, 2.32645756e-02, 1.31598288e-02, 2.33645439e-01,\n",
       "       3.03024347e-02, 1.25358055e-07, 5.42699146e-03, 4.14306490e-04,\n",
       "       2.76805729e-03, 8.77108851e-04, 3.59776216e-06, 1.48341773e-05,\n",
       "       8.60998274e-06, 8.32713082e-04, 5.66641055e-04, 1.25443873e-03,\n",
       "       3.33462605e-05, 2.96861100e-03, 2.42258468e-04, 2.61236050e-03,\n",
       "       1.50843835e-02, 7.71486952e-04, 2.69535374e-04, 9.96462646e-03,\n",
       "       5.74673035e-03, 2.01988294e-04, 4.60017730e-05, 5.50567456e-03,\n",
       "       1.86521664e-04, 9.87788171e-04, 2.53525892e-07, 6.08887219e-04,\n",
       "       5.15411130e-03, 9.14483165e-04, 5.18412354e-04, 1.39404789e-03,\n",
       "       3.02173556e-03, 2.08820242e-03, 6.52589688e-03, 2.53500818e-03,\n",
       "       1.20721629e-02, 7.09334733e-04, 2.86838766e-03, 2.33793156e-03,\n",
       "       2.90348821e-03, 1.01005898e-03, 5.06129772e-06, 6.88397001e-02,\n",
       "       7.22356891e-05, 5.61944659e-07, 2.77765537e-03, 5.64401361e-02,\n",
       "       2.52685123e-01, 2.61863783e-03, 6.39239151e-06, 2.18304397e-03,\n",
       "       1.88676301e-04, 8.41818872e-06, 1.48734023e-06, 1.02674147e-05,\n",
       "       4.29726489e-05, 8.98600427e-07, 5.95643100e-07, 7.39117062e-06,\n",
       "       1.27581369e-05, 2.59291282e-05, 1.99079168e-05, 1.88379910e-04,\n",
       "       8.23398416e-05, 4.26601402e-05, 4.30618366e-08, 2.66144852e-04,\n",
       "       1.56021059e-05, 7.60009731e-07, 5.67821795e-07, 4.42122521e-07,\n",
       "       1.09422881e-04, 9.99379075e-06, 1.47322466e-04, 7.61229826e-07,\n",
       "       4.05650744e-05, 2.66442080e-05, 9.57448405e-05, 5.43600109e-05,\n",
       "       4.15664826e-06, 5.77338632e-08, 8.34066304e-05, 7.03847001e-06,\n",
       "       5.44369596e-09, 1.23566244e-08, 3.23126141e-05, 3.26824507e-06,\n",
       "       2.69289400e-05, 2.26135684e-04, 3.90719970e-04, 1.45632435e-05,\n",
       "       6.75381848e-04, 3.44718825e-06, 1.52945816e-07, 2.65553562e-04,\n",
       "       1.43899464e-04, 1.09059401e-06, 1.15055366e-08, 1.20907857e-04,\n",
       "       2.40432948e-06, 2.14569247e-05, 2.04281088e-05, 2.07280272e-04,\n",
       "       3.17219548e-06, 4.98309856e-04, 1.85754227e-05, 2.89045428e-05,\n",
       "       1.90730322e-07, 2.46348942e-03, 4.46485608e-04, 6.93748075e-04,\n",
       "       3.42933142e-05, 7.35634046e-07, 3.16489758e-04, 9.13038826e-06,\n",
       "       3.09541872e-04, 7.96243390e-04, 1.10612443e-04, 5.59300430e-04,\n",
       "       8.01093903e-04, 6.35765323e-07, 5.88206404e-07, 3.49139986e-03,\n",
       "       1.33726214e-05, 2.17727269e-04, 3.68217237e-08, 2.39675403e-03,\n",
       "       8.99278385e-04, 1.81001911e-04, 1.28950949e-06, 2.62050348e-08,\n",
       "       2.00580034e-04, 3.72500861e-05, 5.17796216e-06, 1.12795159e-05,\n",
       "       9.12961234e-04, 1.36334012e-04, 1.77463238e-05, 1.04893072e-04,\n",
       "       3.46307573e-05, 5.39729825e-06, 2.97865937e-03, 1.71766171e-05,\n",
       "       4.41892608e-05, 6.35055383e-05, 2.17683502e-05, 2.06563502e-05,\n",
       "       4.74982539e-05, 1.04768279e-06, 1.25367018e-05, 4.30666733e-04,\n",
       "       1.22882559e-05, 9.56558910e-05, 1.35135477e-06, 7.08495936e-04,\n",
       "       1.16789064e-05, 3.07903568e-07, 1.26331376e-04, 5.75963654e-05,\n",
       "       6.21606448e-05, 3.50778929e-05, 9.19343816e-07, 6.06011908e-03,\n",
       "       3.71665729e-03, 7.93791176e-04, 1.13201990e-02, 1.67825403e-02,\n",
       "       2.30129944e-03, 9.29321261e-04, 9.87501628e-06, 3.07554896e-05,\n",
       "       4.74438196e-05, 1.14853490e-04, 3.92080015e-06, 1.52683623e-03,\n",
       "       4.77515755e-04, 2.89980976e-05, 4.76158547e-04, 4.26827527e-03,\n",
       "       8.25255795e-05, 1.95267950e-04, 5.38277311e-05, 4.57112817e-04,\n",
       "       2.88402780e-03, 3.17829412e-04, 4.23519347e-04, 1.78548433e-04,\n",
       "       3.14266863e-06, 1.54317988e-06, 2.86372115e-05, 5.68666314e-06,\n",
       "       8.27673234e-06, 1.06535806e-05, 1.68055864e-08, 7.50490004e-07,\n",
       "       1.60489695e-06, 1.62564115e-04, 1.51519229e-05])"
      ]
     },
     "execution_count": 22,
     "metadata": {},
     "output_type": "execute_result"
    }
   ],
   "source": [
    "extra_tree_model.feature_importances_"
   ]
  },
  {
   "cell_type": "code",
   "execution_count": 23,
   "metadata": {},
   "outputs": [
    {
     "data": {
      "image/png": "[encoded data removed]",
      "text/plain": [
       "<Figure size 432x288 with 1 Axes>"
      ]
     },
     "metadata": {
      "needs_background": "light"
     },
     "output_type": "display_data"
    }
   ],
   "source": [
    "feature_imp = pd.Series(extra_tree_model.feature_importances_, index=X.columns)\n",
    "\n",
    "feature_imp.nlargest(5).plot(kind='barh')\n",
    "plt.show()"
   ]
  },
  {
   "cell_type": "code",
   "execution_count": 25,
   "metadata": {},
   "outputs": [
    {
     "data": {
      "text/plain": [
       "<matplotlib.axes._subplots.AxesSubplot at 0x266c40fa4a8>"
      ]
     },
     "execution_count": 25,
     "metadata": {},
     "output_type": "execute_result"
    },
    {
     "data": {
      "image/png": "[encoded data removed]",
      "text/plain": [
       "<Figure size 432x288 with 1 Axes>"
      ]
     },
     "metadata": {
      "needs_background": "light"
     },
     "output_type": "display_data"
    }
   ],
   "source": [
    "sns.distplot(y_test - y_pred)"
   ]
  },
  {
   "cell_type": "code",
   "execution_count": 26,
   "metadata": {
    "scrolled": true
   },
   "outputs": [
    {
     "data": {
      "text/plain": [
       "<matplotlib.collections.PathCollection at 0x266c41e1d68>"
      ]
     },
     "execution_count": 26,
     "metadata": {},
     "output_type": "execute_result"
    },
    {
     "data": {
      "image/png": "[encoded data removed]",
      "text/plain": [
       "<Figure size 432x288 with 1 Axes>"
      ]
     },
     "metadata": {
      "needs_background": "light"
     },
     "output_type": "display_data"
    }
   ],
   "source": [
    "plt.scatter(y_test, y_pred)"
   ]
  },
  {
   "cell_type": "code",
   "execution_count": 31,
   "metadata": {},
   "outputs": [],
   "source": [
    "# Define a function that implements the model\n",
    "def predict_price(name, year, km, fuel, transmission, owner, mileage, power, seats):\n",
    "#     Define column location of the non numerical features\n",
    "    name_index = np.where(X.columns=='Name_'+name.upper())[0][0]\n",
    "    fuel_index = np.where(X.columns=='Fuel_Type_'+fuel)[0][0]\n",
    "    transmission_index = np.where(X.columns=='Transmission_'+transmission)[0][0]\n",
    "    owner_index = np.where(X.columns=='Owner_Type_'+owner)[0][0]\n",
    "#     Assign each of the inputted feature its value\n",
    "    x = np.zeros(len(X.columns))\n",
    "    x[0] = year\n",
    "    x[1] = km\n",
    "    x[2] = mileage\n",
    "    x[3] = power\n",
    "    x[4] = seats\n",
    "    if name_index >= 0:\n",
    "        x[name_index] = 1\n",
    "    if fuel_index >= 0:\n",
    "        x[fuel_index] = 1\n",
    "    if transmission_index >= 0:\n",
    "        x[transmission_index] = 1\n",
    "    if owner_index >= 0:\n",
    "        x[owner_index] = 1\n",
    "    \n",
    "    return f'The estimated price of the car is {rf.predict([x])[0]} Lakh Rupees'"
   ]
  },
  {
   "cell_type": "code",
   "execution_count": 35,
   "metadata": {},
   "outputs": [
    {
     "data": {
      "text/plain": [
       "'The estimated price of the car is 40.93699999999999 Lakh Rupees'"
      ]
     },
     "execution_count": 35,
     "metadata": {},
     "output_type": "execute_result"
    }
   ],
   "source": [
    "predict_price('audi', 10, 100000, 'Petrol', 'Automatic', 'First', 30, 50, 7)"
   ]
  },
  {
   "cell_type": "code",
   "execution_count": 36,
   "metadata": {},
   "outputs": [],
   "source": [
    "import json\n",
    "columns = {\n",
    "    \n",
    "    'data_columns' : [col.lower() for col in X_train.columns]\n",
    "}\n",
    "\n",
    "with open('columns.json', 'w') as f:\n",
    "    f.write(json.dumps(columns))"
   ]
  },
  {
   "cell_type": "code",
   "execution_count": 38,
   "metadata": {},
   "outputs": [],
   "source": [
    "import pickle\n",
    "with open('price_model.pickle', 'wb') as f:\n",
    "    pickle.dump(rf, f)"
   ]
  },
  {
   "cell_type": "code",
   "execution_count": 37,
   "metadata": {},
   "outputs": [
    {
     "name": "stdout",
     "output_type": "stream",
     "text": [
      "0 Year\n",
      "1 Kilometers_Driven\n",
      "2 Mileage\n",
      "3 Power\n",
      "4 Seats\n",
      "5 Name_AMBASSADOR\n",
      "6 Name_AUDI\n",
      "7 Name_BENTLEY\n",
      "8 Name_BMW\n",
      "9 Name_CHEVROLET\n",
      "10 Name_DATSUN\n",
      "11 Name_FIAT\n",
      "12 Name_FORCE\n",
      "13 Name_FORD\n",
      "14 Name_HONDA\n",
      "15 Name_HYUNDAI\n",
      "16 Name_ISUZU\n",
      "17 Name_JAGUAR\n",
      "18 Name_JEEP\n",
      "19 Name_LAMBORGHINI\n",
      "20 Name_LAND\n",
      "21 Name_MAHINDRA\n",
      "22 Name_MARUTI\n",
      "23 Name_MERCEDES-BENZ\n",
      "24 Name_MINI\n",
      "25 Name_MITSUBISHI\n",
      "26 Name_NISSAN\n",
      "27 Name_PORSCHE\n",
      "28 Name_RENAULT\n",
      "29 Name_SKODA\n",
      "30 Name_SMART\n",
      "31 Name_TATA\n",
      "32 Name_TOYOTA\n",
      "33 Name_VOLKSWAGEN\n",
      "34 Name_VOLVO\n",
      "35 Location_Ahmedabad\n",
      "36 Location_Bangalore\n",
      "37 Location_Chennai\n",
      "38 Location_Coimbatore\n",
      "39 Location_Delhi\n",
      "40 Location_Hyderabad\n",
      "41 Location_Jaipur\n",
      "42 Location_Kochi\n",
      "43 Location_Kolkata\n",
      "44 Location_Mumbai\n",
      "45 Location_Pune\n",
      "46 Fuel_Type_CNG\n",
      "47 Fuel_Type_Diesel\n",
      "48 Fuel_Type_Electric\n",
      "49 Fuel_Type_LPG\n",
      "50 Fuel_Type_Petrol\n",
      "51 Transmission_Automatic\n",
      "52 Transmission_Manual\n",
      "53 Owner_Type_First\n",
      "54 Owner_Type_Fourth & Above\n",
      "55 Owner_Type_Second\n",
      "56 Owner_Type_Third\n",
      "57 Engine_1047 CC\n",
      "58 Engine_1061 CC\n",
      "59 Engine_1086 CC\n",
      "60 Engine_1120 CC\n",
      "61 Engine_1150 CC\n",
      "62 Engine_1172 CC\n",
      "63 Engine_1186 CC\n",
      "64 Engine_1193 CC\n",
      "65 Engine_1194 CC\n",
      "66 Engine_1196 CC\n",
      "67 Engine_1197 CC\n",
      "68 Engine_1198 CC\n",
      "69 Engine_1199 CC\n",
      "70 Engine_1242 CC\n",
      "71 Engine_1248 CC\n",
      "72 Engine_1298 CC\n",
      "73 Engine_1299 CC\n",
      "74 Engine_1341 CC\n",
      "75 Engine_1343 CC\n",
      "76 Engine_1364 CC\n",
      "77 Engine_1368 CC\n",
      "78 Engine_1373 CC\n",
      "79 Engine_1388 CC\n",
      "80 Engine_1390 CC\n",
      "81 Engine_1395 CC\n",
      "82 Engine_1396 CC\n",
      "83 Engine_1399 CC\n",
      "84 Engine_1405 CC\n",
      "85 Engine_1422 CC\n",
      "86 Engine_1461 CC\n",
      "87 Engine_1462 CC\n",
      "88 Engine_1468 CC\n",
      "89 Engine_1489 CC\n",
      "90 Engine_1493 CC\n",
      "91 Engine_1495 CC\n",
      "92 Engine_1496 CC\n",
      "93 Engine_1497 CC\n",
      "94 Engine_1498 CC\n",
      "95 Engine_1499 CC\n",
      "96 Engine_1582 CC\n",
      "97 Engine_1586 CC\n",
      "98 Engine_1590 CC\n",
      "99 Engine_1591 CC\n",
      "100 Engine_1595 CC\n",
      "101 Engine_1596 CC\n",
      "102 Engine_1597 CC\n",
      "103 Engine_1598 CC\n",
      "104 Engine_1599 CC\n",
      "105 Engine_1781 CC\n",
      "106 Engine_1794 CC\n",
      "107 Engine_1796 CC\n",
      "108 Engine_1797 CC\n",
      "109 Engine_1798 CC\n",
      "110 Engine_1799 CC\n",
      "111 Engine_1896 CC\n",
      "112 Engine_1948 CC\n",
      "113 Engine_1950 CC\n",
      "114 Engine_1956 CC\n",
      "115 Engine_1968 CC\n",
      "116 Engine_1969 CC\n",
      "117 Engine_1978 CC\n",
      "118 Engine_1984 CC\n",
      "119 Engine_1985 CC\n",
      "120 Engine_1991 CC\n",
      "121 Engine_1995 CC\n",
      "122 Engine_1997 CC\n",
      "123 Engine_1998 CC\n",
      "124 Engine_1999 CC\n",
      "125 Engine_2092 CC\n",
      "126 Engine_2112 CC\n",
      "127 Engine_2143 CC\n",
      "128 Engine_2147 CC\n",
      "129 Engine_2148 CC\n",
      "130 Engine_2149 CC\n",
      "131 Engine_2179 CC\n",
      "132 Engine_2198 CC\n",
      "133 Engine_2199 CC\n",
      "134 Engine_2200 CC\n",
      "135 Engine_2349 CC\n",
      "136 Engine_2354 CC\n",
      "137 Engine_2359 CC\n",
      "138 Engine_2360 CC\n",
      "139 Engine_2362 CC\n",
      "140 Engine_2393 CC\n",
      "141 Engine_2400 CC\n",
      "142 Engine_2446 CC\n",
      "143 Engine_2477 CC\n",
      "144 Engine_2487 CC\n",
      "145 Engine_2489 CC\n",
      "146 Engine_2494 CC\n",
      "147 Engine_2495 CC\n",
      "148 Engine_2496 CC\n",
      "149 Engine_2497 CC\n",
      "150 Engine_2498 CC\n",
      "151 Engine_2499 CC\n",
      "152 Engine_2523 CC\n",
      "153 Engine_2609 CC\n",
      "154 Engine_2694 CC\n",
      "155 Engine_2696 CC\n",
      "156 Engine_2698 CC\n",
      "157 Engine_2706 CC\n",
      "158 Engine_2720 CC\n",
      "159 Engine_2755 CC\n",
      "160 Engine_2771 CC\n",
      "161 Engine_2773 CC\n",
      "162 Engine_2835 CC\n",
      "163 Engine_2894 CC\n",
      "164 Engine_2925 CC\n",
      "165 Engine_2953 CC\n",
      "166 Engine_2956 CC\n",
      "167 Engine_2967 CC\n",
      "168 Engine_2979 CC\n",
      "169 Engine_2982 CC\n",
      "170 Engine_2987 CC\n",
      "171 Engine_2993 CC\n",
      "172 Engine_2995 CC\n",
      "173 Engine_2996 CC\n",
      "174 Engine_2997 CC\n",
      "175 Engine_2999 CC\n",
      "176 Engine_3197 CC\n",
      "177 Engine_3198 CC\n",
      "178 Engine_3200 CC\n",
      "179 Engine_3436 CC\n",
      "180 Engine_3498 CC\n",
      "181 Engine_3597 CC\n",
      "182 Engine_4134 CC\n",
      "183 Engine_4367 CC\n",
      "184 Engine_4395 CC\n",
      "185 Engine_4806 CC\n",
      "186 Engine_4951 CC\n",
      "187 Engine_5000 CC\n",
      "188 Engine_5204 CC\n",
      "189 Engine_5461 CC\n",
      "190 Engine_5998 CC\n",
      "191 Engine_624 CC\n",
      "192 Engine_72 CC\n",
      "193 Engine_793 CC\n",
      "194 Engine_796 CC\n",
      "195 Engine_799 CC\n",
      "196 Engine_814 CC\n",
      "197 Engine_936 CC\n",
      "198 Engine_970 CC\n",
      "199 Engine_993 CC\n",
      "200 Engine_995 CC\n",
      "201 Engine_998 CC\n",
      "202 Engine_999 CC\n"
     ]
    }
   ],
   "source": [
    "for i, j in enumerate(X_train.columns):\n",
    "    print(i, j)"
   ]
  },
  {
   "cell_type": "code",
   "execution_count": 39,
   "metadata": {},
   "outputs": [
    {
     "name": "stdout",
     "output_type": "stream",
     "text": [
      "7fffffffffffffff True\n"
     ]
    }
   ],
   "source": [
    "import sys\n",
    "print(\"%x\" % sys.maxsize, sys.maxsize > 2**32)"
   ]
  },
  {
   "cell_type": "code",
   "execution_count": 40,
   "metadata": {},
   "outputs": [
    {
     "name": "stdout",
     "output_type": "stream",
     "text": [
      "7fffffffffffffff True\n"
     ]
    }
   ],
   "source": [
    "import sys\n",
    "print(\"%x\" % sys.maxsize, sys.maxsize > 2**32)"
   ]
  },
  {
   "cell_type": "code",
   "execution_count": 41,
   "metadata": {},
   "outputs": [
    {
     "data": {
      "text/html": [
       "<div>\n",
       "<style scoped>\n",
       "    .dataframe tbody tr th:only-of-type {\n",
       "        vertical-align: middle;\n",
       "    }\n",
       "\n",
       "    .dataframe tbody tr th {\n",
       "        vertical-align: top;\n",
       "    }\n",
       "\n",
       "    .dataframe thead th {\n",
       "        text-align: right;\n",
       "    }\n",
       "</style>\n",
       "<table border=\"1\" class=\"dataframe\">\n",
       "  <thead>\n",
       "    <tr style=\"text-align: right;\">\n",
       "      <th></th>\n",
       "      <th>Year</th>\n",
       "      <th>Kilometers_Driven</th>\n",
       "      <th>Mileage</th>\n",
       "      <th>Power</th>\n",
       "      <th>Seats</th>\n",
       "      <th>Name_AMBASSADOR</th>\n",
       "      <th>Name_AUDI</th>\n",
       "      <th>Name_BENTLEY</th>\n",
       "      <th>Name_BMW</th>\n",
       "      <th>Name_CHEVROLET</th>\n",
       "      <th>...</th>\n",
       "      <th>Engine_793 CC</th>\n",
       "      <th>Engine_796 CC</th>\n",
       "      <th>Engine_799 CC</th>\n",
       "      <th>Engine_814 CC</th>\n",
       "      <th>Engine_936 CC</th>\n",
       "      <th>Engine_970 CC</th>\n",
       "      <th>Engine_993 CC</th>\n",
       "      <th>Engine_995 CC</th>\n",
       "      <th>Engine_998 CC</th>\n",
       "      <th>Engine_999 CC</th>\n",
       "    </tr>\n",
       "  </thead>\n",
       "  <tbody>\n",
       "    <tr>\n",
       "      <th>1479</th>\n",
       "      <td>4</td>\n",
       "      <td>-0.258833</td>\n",
       "      <td>0.376712</td>\n",
       "      <td>-0.259677</td>\n",
       "      <td>5.0</td>\n",
       "      <td>0</td>\n",
       "      <td>0</td>\n",
       "      <td>0</td>\n",
       "      <td>0</td>\n",
       "      <td>0</td>\n",
       "      <td>...</td>\n",
       "      <td>0</td>\n",
       "      <td>0</td>\n",
       "      <td>0</td>\n",
       "      <td>0</td>\n",
       "      <td>0</td>\n",
       "      <td>0</td>\n",
       "      <td>0</td>\n",
       "      <td>0</td>\n",
       "      <td>0</td>\n",
       "      <td>0</td>\n",
       "    </tr>\n",
       "    <tr>\n",
       "      <th>5136</th>\n",
       "      <td>4</td>\n",
       "      <td>-0.875141</td>\n",
       "      <td>1.005137</td>\n",
       "      <td>-0.499755</td>\n",
       "      <td>5.0</td>\n",
       "      <td>0</td>\n",
       "      <td>0</td>\n",
       "      <td>0</td>\n",
       "      <td>0</td>\n",
       "      <td>0</td>\n",
       "      <td>...</td>\n",
       "      <td>0</td>\n",
       "      <td>0</td>\n",
       "      <td>0</td>\n",
       "      <td>0</td>\n",
       "      <td>0</td>\n",
       "      <td>0</td>\n",
       "      <td>0</td>\n",
       "      <td>0</td>\n",
       "      <td>1</td>\n",
       "      <td>0</td>\n",
       "    </tr>\n",
       "    <tr>\n",
       "      <th>440</th>\n",
       "      <td>4</td>\n",
       "      <td>-0.532833</td>\n",
       "      <td>-0.530822</td>\n",
       "      <td>-0.403397</td>\n",
       "      <td>5.0</td>\n",
       "      <td>0</td>\n",
       "      <td>0</td>\n",
       "      <td>0</td>\n",
       "      <td>0</td>\n",
       "      <td>0</td>\n",
       "      <td>...</td>\n",
       "      <td>0</td>\n",
       "      <td>0</td>\n",
       "      <td>0</td>\n",
       "      <td>0</td>\n",
       "      <td>0</td>\n",
       "      <td>0</td>\n",
       "      <td>0</td>\n",
       "      <td>0</td>\n",
       "      <td>0</td>\n",
       "      <td>0</td>\n",
       "    </tr>\n",
       "    <tr>\n",
       "      <th>629</th>\n",
       "      <td>15</td>\n",
       "      <td>0.764910</td>\n",
       "      <td>-0.787671</td>\n",
       "      <td>-0.566716</td>\n",
       "      <td>8.0</td>\n",
       "      <td>0</td>\n",
       "      <td>0</td>\n",
       "      <td>0</td>\n",
       "      <td>0</td>\n",
       "      <td>0</td>\n",
       "      <td>...</td>\n",
       "      <td>0</td>\n",
       "      <td>0</td>\n",
       "      <td>0</td>\n",
       "      <td>0</td>\n",
       "      <td>0</td>\n",
       "      <td>0</td>\n",
       "      <td>0</td>\n",
       "      <td>0</td>\n",
       "      <td>0</td>\n",
       "      <td>0</td>\n",
       "    </tr>\n",
       "    <tr>\n",
       "      <th>3564</th>\n",
       "      <td>12</td>\n",
       "      <td>-0.195423</td>\n",
       "      <td>-0.628425</td>\n",
       "      <td>0.659807</td>\n",
       "      <td>5.0</td>\n",
       "      <td>0</td>\n",
       "      <td>0</td>\n",
       "      <td>0</td>\n",
       "      <td>0</td>\n",
       "      <td>0</td>\n",
       "      <td>...</td>\n",
       "      <td>0</td>\n",
       "      <td>0</td>\n",
       "      <td>0</td>\n",
       "      <td>0</td>\n",
       "      <td>0</td>\n",
       "      <td>0</td>\n",
       "      <td>0</td>\n",
       "      <td>0</td>\n",
       "      <td>0</td>\n",
       "      <td>0</td>\n",
       "    </tr>\n",
       "  </tbody>\n",
       "</table>\n",
       "<p>5 rows × 203 columns</p>\n",
       "</div>"
      ],
      "text/plain": [
       "      Year  Kilometers_Driven   Mileage     Power  Seats  Name_AMBASSADOR  \\\n",
       "1479     4          -0.258833  0.376712 -0.259677    5.0                0   \n",
       "5136     4          -0.875141  1.005137 -0.499755    5.0                0   \n",
       "440      4          -0.532833 -0.530822 -0.403397    5.0                0   \n",
       "629     15           0.764910 -0.787671 -0.566716    8.0                0   \n",
       "3564    12          -0.195423 -0.628425  0.659807    5.0                0   \n",
       "\n",
       "      Name_AUDI  Name_BENTLEY  Name_BMW  Name_CHEVROLET  ...  Engine_793 CC  \\\n",
       "1479          0             0         0               0  ...              0   \n",
       "5136          0             0         0               0  ...              0   \n",
       "440           0             0         0               0  ...              0   \n",
       "629           0             0         0               0  ...              0   \n",
       "3564          0             0         0               0  ...              0   \n",
       "\n",
       "      Engine_796 CC  Engine_799 CC  Engine_814 CC  Engine_936 CC  \\\n",
       "1479              0              0              0              0   \n",
       "5136              0              0              0              0   \n",
       "440               0              0              0              0   \n",
       "629               0              0              0              0   \n",
       "3564              0              0              0              0   \n",
       "\n",
       "      Engine_970 CC  Engine_993 CC  Engine_995 CC  Engine_998 CC  \\\n",
       "1479              0              0              0              0   \n",
       "5136              0              0              0              1   \n",
       "440               0              0              0              0   \n",
       "629               0              0              0              0   \n",
       "3564              0              0              0              0   \n",
       "\n",
       "      Engine_999 CC  \n",
       "1479              0  \n",
       "5136              0  \n",
       "440               0  \n",
       "629               0  \n",
       "3564              0  \n",
       "\n",
       "[5 rows x 203 columns]"
      ]
     },
     "execution_count": 41,
     "metadata": {},
     "output_type": "execute_result"
    }
   ],
   "source": [
    "X_train[;]"
   ]
  },
  {
   "cell_type": "code",
   "execution_count": null,
   "metadata": {},
   "outputs": [],
   "source": []
  }
 ],
 "metadata": {
  "kernelspec": {
   "display_name": "Python 3",
   "language": "python",
   "name": "python3"
  },
  "language_info": {
   "codemirror_mode": {
    "name": "ipython",
    "version": 3
   },
   "file_extension": ".py",
   "mimetype": "text/x-python",
   "name": "python",
   "nbconvert_exporter": "python",
   "pygments_lexer": "ipython3",
   "version": "3.7.3"
  }
 },
 "nbformat": 4,
 "nbformat_minor": 2
}
