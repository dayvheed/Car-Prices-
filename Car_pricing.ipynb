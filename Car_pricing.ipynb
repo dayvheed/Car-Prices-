{
 "cells": [
  {
   "cell_type": "code",
   "execution_count": 128,
   "metadata": {
    "colab": {
     "base_uri": "https://localhost:8080/",
     "height": 51
    },
    "colab_type": "code",
    "id": "vUGweEOckDmK",
    "outputId": "a9a99a5f-08f1-446f-8323-fa4e1d4b2ddb"
   },
   "outputs": [],
   "source": [
    "import pandas as pd\n",
    "import numpy as np\n",
    "import matplotlib.pyplot as plt\n",
    "import seaborn as sns\n",
    "import datetime as dt\n",
    "import pickle\n",
    "from tensorflow.keras.models import Sequential\n",
    "from tensorflow.keras.layers import Dense, Dropout\n",
    "sns.set()"
   ]
  },
  {
   "cell_type": "code",
   "execution_count": 129,
   "metadata": {},
   "outputs": [],
   "source": [
    "from tensorflow.keras.wrappers.scikit_learn import KerasRegressor\n",
    "from tensorflow.keras.wrappers.scikit_learn import KerasClassifier\n",
    "from sklearn.model_selection import KFold\n",
    "from sklearn.model_selection import cross_val_score"
   ]
  },
  {
   "cell_type": "code",
   "execution_count": 130,
   "metadata": {},
   "outputs": [],
   "source": [
    "from sklearn.model_selection import train_test_split\n",
    "from sklearn.preprocessing import StandardScaler\n",
    "from tensorflow.keras.callbacks import TensorBoard"
   ]
  },
  {
   "cell_type": "code",
   "execution_count": 151,
   "metadata": {
    "colab": {
     "base_uri": "https://localhost:8080/",
     "height": 204
    },
    "colab_type": "code",
    "id": "8-OfBv_7kDma",
    "outputId": "be6b49da-6cdf-4bc8-e446-4e989b6568d3"
   },
   "outputs": [
    {
     "data": {
      "text/html": [
       "<div>\n",
       "<style scoped>\n",
       "    .dataframe tbody tr th:only-of-type {\n",
       "        vertical-align: middle;\n",
       "    }\n",
       "\n",
       "    .dataframe tbody tr th {\n",
       "        vertical-align: top;\n",
       "    }\n",
       "\n",
       "    .dataframe thead th {\n",
       "        text-align: right;\n",
       "    }\n",
       "</style>\n",
       "<table border=\"1\" class=\"dataframe\">\n",
       "  <thead>\n",
       "    <tr style=\"text-align: right;\">\n",
       "      <th></th>\n",
       "      <th>Unnamed: 0</th>\n",
       "      <th>Name</th>\n",
       "      <th>Location</th>\n",
       "      <th>Year</th>\n",
       "      <th>Kilometers_Driven</th>\n",
       "      <th>Fuel_Type</th>\n",
       "      <th>Transmission</th>\n",
       "      <th>Owner_Type</th>\n",
       "      <th>Mileage</th>\n",
       "      <th>Engine</th>\n",
       "      <th>Power</th>\n",
       "      <th>Seats</th>\n",
       "      <th>Price</th>\n",
       "    </tr>\n",
       "  </thead>\n",
       "  <tbody>\n",
       "    <tr>\n",
       "      <th>0</th>\n",
       "      <td>0</td>\n",
       "      <td>Maruti Wagon R LXI CNG</td>\n",
       "      <td>Mumbai</td>\n",
       "      <td>2010</td>\n",
       "      <td>72000</td>\n",
       "      <td>CNG</td>\n",
       "      <td>Manual</td>\n",
       "      <td>First</td>\n",
       "      <td>26.6 km/kg</td>\n",
       "      <td>998 CC</td>\n",
       "      <td>58.16 bhp</td>\n",
       "      <td>5.0</td>\n",
       "      <td>1.75</td>\n",
       "    </tr>\n",
       "    <tr>\n",
       "      <th>1</th>\n",
       "      <td>1</td>\n",
       "      <td>Hyundai Creta 1.6 CRDi SX Option</td>\n",
       "      <td>Pune</td>\n",
       "      <td>2015</td>\n",
       "      <td>41000</td>\n",
       "      <td>Diesel</td>\n",
       "      <td>Manual</td>\n",
       "      <td>First</td>\n",
       "      <td>19.67 kmpl</td>\n",
       "      <td>1582 CC</td>\n",
       "      <td>126.2 bhp</td>\n",
       "      <td>5.0</td>\n",
       "      <td>12.50</td>\n",
       "    </tr>\n",
       "    <tr>\n",
       "      <th>2</th>\n",
       "      <td>2</td>\n",
       "      <td>Honda Jazz V</td>\n",
       "      <td>Chennai</td>\n",
       "      <td>2011</td>\n",
       "      <td>46000</td>\n",
       "      <td>Petrol</td>\n",
       "      <td>Manual</td>\n",
       "      <td>First</td>\n",
       "      <td>18.2 kmpl</td>\n",
       "      <td>1199 CC</td>\n",
       "      <td>88.7 bhp</td>\n",
       "      <td>5.0</td>\n",
       "      <td>4.50</td>\n",
       "    </tr>\n",
       "    <tr>\n",
       "      <th>3</th>\n",
       "      <td>3</td>\n",
       "      <td>Maruti Ertiga VDI</td>\n",
       "      <td>Chennai</td>\n",
       "      <td>2012</td>\n",
       "      <td>87000</td>\n",
       "      <td>Diesel</td>\n",
       "      <td>Manual</td>\n",
       "      <td>First</td>\n",
       "      <td>20.77 kmpl</td>\n",
       "      <td>1248 CC</td>\n",
       "      <td>88.76 bhp</td>\n",
       "      <td>7.0</td>\n",
       "      <td>6.00</td>\n",
       "    </tr>\n",
       "    <tr>\n",
       "      <th>4</th>\n",
       "      <td>4</td>\n",
       "      <td>Audi A4 New 2.0 TDI Multitronic</td>\n",
       "      <td>Coimbatore</td>\n",
       "      <td>2013</td>\n",
       "      <td>40670</td>\n",
       "      <td>Diesel</td>\n",
       "      <td>Automatic</td>\n",
       "      <td>Second</td>\n",
       "      <td>15.2 kmpl</td>\n",
       "      <td>1968 CC</td>\n",
       "      <td>140.8 bhp</td>\n",
       "      <td>5.0</td>\n",
       "      <td>17.74</td>\n",
       "    </tr>\n",
       "  </tbody>\n",
       "</table>\n",
       "</div>"
      ],
      "text/plain": [
       "   Unnamed: 0                              Name    Location  Year  \\\n",
       "0           0            Maruti Wagon R LXI CNG      Mumbai  2010   \n",
       "1           1  Hyundai Creta 1.6 CRDi SX Option        Pune  2015   \n",
       "2           2                      Honda Jazz V     Chennai  2011   \n",
       "3           3                 Maruti Ertiga VDI     Chennai  2012   \n",
       "4           4   Audi A4 New 2.0 TDI Multitronic  Coimbatore  2013   \n",
       "\n",
       "   Kilometers_Driven Fuel_Type Transmission Owner_Type     Mileage   Engine  \\\n",
       "0              72000       CNG       Manual      First  26.6 km/kg   998 CC   \n",
       "1              41000    Diesel       Manual      First  19.67 kmpl  1582 CC   \n",
       "2              46000    Petrol       Manual      First   18.2 kmpl  1199 CC   \n",
       "3              87000    Diesel       Manual      First  20.77 kmpl  1248 CC   \n",
       "4              40670    Diesel    Automatic     Second   15.2 kmpl  1968 CC   \n",
       "\n",
       "       Power  Seats  Price  \n",
       "0  58.16 bhp    5.0   1.75  \n",
       "1  126.2 bhp    5.0  12.50  \n",
       "2   88.7 bhp    5.0   4.50  \n",
       "3  88.76 bhp    7.0   6.00  \n",
       "4  140.8 bhp    5.0  17.74  "
      ]
     },
     "execution_count": 151,
     "metadata": {},
     "output_type": "execute_result"
    }
   ],
   "source": [
    "# Read the data\n",
    "train = pd.read_csv('train-data.csv')\n",
    "# Print the first 5 rows of the dataframe\n",
    "train.head()"
   ]
  },
  {
   "cell_type": "code",
   "execution_count": 152,
   "metadata": {
    "colab": {
     "base_uri": "https://localhost:8080/",
     "height": 204
    },
    "colab_type": "code",
    "id": "nr1w-pmxkDms",
    "outputId": "c59586c4-18d7-4b88-df9f-267bd7428424"
   },
   "outputs": [
    {
     "data": {
      "text/html": [
       "<div>\n",
       "<style scoped>\n",
       "    .dataframe tbody tr th:only-of-type {\n",
       "        vertical-align: middle;\n",
       "    }\n",
       "\n",
       "    .dataframe tbody tr th {\n",
       "        vertical-align: top;\n",
       "    }\n",
       "\n",
       "    .dataframe thead th {\n",
       "        text-align: right;\n",
       "    }\n",
       "</style>\n",
       "<table border=\"1\" class=\"dataframe\">\n",
       "  <thead>\n",
       "    <tr style=\"text-align: right;\">\n",
       "      <th></th>\n",
       "      <th>Name</th>\n",
       "      <th>Location</th>\n",
       "      <th>Year</th>\n",
       "      <th>Kilometers_Driven</th>\n",
       "      <th>Fuel_Type</th>\n",
       "      <th>Transmission</th>\n",
       "      <th>Owner_Type</th>\n",
       "      <th>Mileage</th>\n",
       "      <th>Engine</th>\n",
       "      <th>Power</th>\n",
       "      <th>Seats</th>\n",
       "      <th>Price</th>\n",
       "    </tr>\n",
       "  </thead>\n",
       "  <tbody>\n",
       "    <tr>\n",
       "      <th>0</th>\n",
       "      <td>MARUTI</td>\n",
       "      <td>Mumbai</td>\n",
       "      <td>2010</td>\n",
       "      <td>72000</td>\n",
       "      <td>CNG</td>\n",
       "      <td>Manual</td>\n",
       "      <td>First</td>\n",
       "      <td>26.6 km/kg</td>\n",
       "      <td>998 CC</td>\n",
       "      <td>58.16 bhp</td>\n",
       "      <td>5.0</td>\n",
       "      <td>1.75</td>\n",
       "    </tr>\n",
       "    <tr>\n",
       "      <th>1</th>\n",
       "      <td>HYUNDAI</td>\n",
       "      <td>Pune</td>\n",
       "      <td>2015</td>\n",
       "      <td>41000</td>\n",
       "      <td>Diesel</td>\n",
       "      <td>Manual</td>\n",
       "      <td>First</td>\n",
       "      <td>19.67 kmpl</td>\n",
       "      <td>1582 CC</td>\n",
       "      <td>126.2 bhp</td>\n",
       "      <td>5.0</td>\n",
       "      <td>12.50</td>\n",
       "    </tr>\n",
       "    <tr>\n",
       "      <th>2</th>\n",
       "      <td>HONDA</td>\n",
       "      <td>Chennai</td>\n",
       "      <td>2011</td>\n",
       "      <td>46000</td>\n",
       "      <td>Petrol</td>\n",
       "      <td>Manual</td>\n",
       "      <td>First</td>\n",
       "      <td>18.2 kmpl</td>\n",
       "      <td>1199 CC</td>\n",
       "      <td>88.7 bhp</td>\n",
       "      <td>5.0</td>\n",
       "      <td>4.50</td>\n",
       "    </tr>\n",
       "    <tr>\n",
       "      <th>3</th>\n",
       "      <td>MARUTI</td>\n",
       "      <td>Chennai</td>\n",
       "      <td>2012</td>\n",
       "      <td>87000</td>\n",
       "      <td>Diesel</td>\n",
       "      <td>Manual</td>\n",
       "      <td>First</td>\n",
       "      <td>20.77 kmpl</td>\n",
       "      <td>1248 CC</td>\n",
       "      <td>88.76 bhp</td>\n",
       "      <td>7.0</td>\n",
       "      <td>6.00</td>\n",
       "    </tr>\n",
       "    <tr>\n",
       "      <th>4</th>\n",
       "      <td>AUDI</td>\n",
       "      <td>Coimbatore</td>\n",
       "      <td>2013</td>\n",
       "      <td>40670</td>\n",
       "      <td>Diesel</td>\n",
       "      <td>Automatic</td>\n",
       "      <td>Second</td>\n",
       "      <td>15.2 kmpl</td>\n",
       "      <td>1968 CC</td>\n",
       "      <td>140.8 bhp</td>\n",
       "      <td>5.0</td>\n",
       "      <td>17.74</td>\n",
       "    </tr>\n",
       "  </tbody>\n",
       "</table>\n",
       "</div>"
      ],
      "text/plain": [
       "      Name    Location  Year  Kilometers_Driven Fuel_Type Transmission  \\\n",
       "0   MARUTI      Mumbai  2010              72000       CNG       Manual   \n",
       "1  HYUNDAI        Pune  2015              41000    Diesel       Manual   \n",
       "2    HONDA     Chennai  2011              46000    Petrol       Manual   \n",
       "3   MARUTI     Chennai  2012              87000    Diesel       Manual   \n",
       "4     AUDI  Coimbatore  2013              40670    Diesel    Automatic   \n",
       "\n",
       "  Owner_Type     Mileage   Engine      Power  Seats  Price  \n",
       "0      First  26.6 km/kg   998 CC  58.16 bhp    5.0   1.75  \n",
       "1      First  19.67 kmpl  1582 CC  126.2 bhp    5.0  12.50  \n",
       "2      First   18.2 kmpl  1199 CC   88.7 bhp    5.0   4.50  \n",
       "3      First  20.77 kmpl  1248 CC  88.76 bhp    7.0   6.00  \n",
       "4     Second   15.2 kmpl  1968 CC  140.8 bhp    5.0  17.74  "
      ]
     },
     "execution_count": 152,
     "metadata": {},
     "output_type": "execute_result"
    }
   ],
   "source": [
    "# Drop the column 'Unnamed: 0'\n",
    "data = train.drop('Unnamed: 0', axis=1)\n",
    "# Select only the brand of the car and not the model\n",
    "data['Name'] = data['Name'].apply(lambda x: x.split(' ')[0].upper())\n",
    "data.head()"
   ]
  },
  {
   "cell_type": "code",
   "execution_count": 153,
   "metadata": {
    "colab": {},
    "colab_type": "code",
    "id": "iZb7DSUikDm5"
   },
   "outputs": [],
   "source": [
    "# Change the Year column to the years of usage\n",
    "data['Year'] = dt.date.today().year - data['Year']"
   ]
  },
  {
   "cell_type": "code",
   "execution_count": 154,
   "metadata": {
    "colab": {
     "base_uri": "https://localhost:8080/",
     "height": 34
    },
    "colab_type": "code",
    "id": "VqmCxDo1kDnE",
    "outputId": "4e8a4a87-d503-416b-c54b-2d5815cd3fa0"
   },
   "outputs": [
    {
     "name": "stdout",
     "output_type": "stream",
     "text": [
      "float64 float64\n"
     ]
    }
   ],
   "source": [
    "# Select the first word of the Mileage column\n",
    "data['Mileage'] =data['Mileage'].apply(lambda x: str(x).split(' ')[0])\n",
    "# Change 'nan' string to real missing values\n",
    "data['Mileage'] = [x if x != 'nan' else np.nan for x in data['Mileage']]\n",
    "# Convert the datatype to floating numbers\n",
    "data['Mileage'] = pd.to_numeric(data['Mileage'])\n",
    "\n",
    "\n",
    "# Select the first word of the Power column\n",
    "data['Power'] =data['Power'].apply(lambda x: str(x).split(' ')[0])\n",
    "# Change 'null' string to real missing values\n",
    "data['Power'] = [np.nan if x=='null' else x for x in data['Power']]\n",
    "data['Power'] = [np.nan if x=='nan' else x for x in data['Power']]\n",
    "# Convert the datatype to floating numbers\n",
    "data['Power'] = pd.to_numeric(data['Power'])\n",
    "\n",
    "\n",
    "print(data['Mileage'].dtype, data['Power'].dtype)"
   ]
  },
  {
   "cell_type": "code",
   "execution_count": 155,
   "metadata": {
    "colab": {
     "base_uri": "https://localhost:8080/",
     "height": 238
    },
    "colab_type": "code",
    "id": "CcYgPEnKkDnP",
    "outputId": "78f01997-da52-4e33-bc68-fdc7d424aadf",
    "scrolled": true
   },
   "outputs": [
    {
     "data": {
      "text/plain": [
       "Name                   0\n",
       "Location               0\n",
       "Year                   0\n",
       "Kilometers_Driven      0\n",
       "Fuel_Type              0\n",
       "Transmission           0\n",
       "Owner_Type             0\n",
       "Mileage                2\n",
       "Engine                36\n",
       "Power                143\n",
       "Seats                 42\n",
       "Price                  0\n",
       "dtype: int64"
      ]
     },
     "execution_count": 155,
     "metadata": {},
     "output_type": "execute_result"
    }
   ],
   "source": [
    "# Check for null values\n",
    "data.isnull().sum()"
   ]
  },
  {
   "cell_type": "code",
   "execution_count": 156,
   "metadata": {
    "colab": {
     "base_uri": "https://localhost:8080/",
     "height": 34
    },
    "colab_type": "code",
    "id": "CZb8AyBtkDnd",
    "outputId": "b683cb26-839f-4eca-e2e6-f20fb2429d0b"
   },
   "outputs": [
    {
     "data": {
      "text/plain": [
       "False"
      ]
     },
     "execution_count": 156,
     "metadata": {},
     "output_type": "execute_result"
    }
   ],
   "source": [
    "# Replace missing values with median value of the column\n",
    "mileage_median = data['Mileage'].median()\n",
    "data['Mileage'] = data['Mileage'].fillna(mileage_median)\n",
    "\n",
    "power_median = data['Power'].median() \n",
    "data['Power'] = data['Power'].fillna(power_median)\n",
    "\n",
    "seat_median = data['Seats'].median()\n",
    "data['Seats'] = data['Seats'].fillna(seat_median)\n",
    "\n",
    "# Drop the remaining rows with missing value\n",
    "data.dropna(axis=0, inplace=True)\n",
    "# Check for missing values\n",
    "data.isnull().sum().any()"
   ]
  },
  {
   "cell_type": "code",
   "execution_count": 157,
   "metadata": {
    "colab": {
     "base_uri": "https://localhost:8080/",
     "height": 85
    },
    "colab_type": "code",
    "id": "3uaX-E19kDn2",
    "outputId": "0f7ee08d-9b3b-4671-c21d-b3da5f692a61",
    "scrolled": true
   },
   "outputs": [
    {
     "name": "stdout",
     "output_type": "stream",
     "text": [
      "Categorical features: ['Name', 'Location', 'Fuel_Type', 'Transmission', 'Owner_Type', 'Engine']\n",
      "Numerical features: ['Year', 'Kilometers_Driven', 'Mileage', 'Power', 'Seats', 'Price']\n",
      "Discrete features: ['Year', 'Seats']\n",
      "Continuous features: ['Kilometers_Driven', 'Mileage', 'Power', 'Price']\n"
     ]
    }
   ],
   "source": [
    "# Classify the non-numerical features\n",
    "cat_features = [x for x in data.columns if data[x].dtype == 'O']\n",
    "\n",
    "# Classify the numerical features\n",
    "num_features = [x for x in data.columns if data[x].dtype != 'O']\n",
    "\n",
    "# Classify the discrete features\n",
    "discrete_features = [x for x in num_features\n",
    "                     if len(data[x].unique()) < 25]\n",
    "\n",
    "# Classify the continuous features\n",
    "continuous_features = [x for x in num_features\n",
    "                      if x not in discrete_features]\n",
    "# Check them out\n",
    "print(f\"Categorical features: {cat_features}\\nNumerical features: {num_features}\\\n",
    "\\nDiscrete features: {discrete_features}\\nContinuous features: {continuous_features}\")"
   ]
  },
  {
   "cell_type": "code",
   "execution_count": 158,
   "metadata": {
    "colab": {
     "base_uri": "https://localhost:8080/",
     "height": 578
    },
    "colab_type": "code",
    "id": "oqeT25DJkDn_",
    "outputId": "0f5d4544-eb77-479f-a0ed-6f8a2d8971ab",
    "scrolled": true
   },
   "outputs": [
    {
     "data": {
      "image/png": "[encoded data removed]",
      "text/plain": [
       "<Figure size 864x576 with 4 Axes>"
      ]
     },
     "metadata": {},
     "output_type": "display_data"
    }
   ],
   "source": [
    "# Create a figure with 4 subplots\n",
    "fig, ax = plt.subplots(2,2, figsize=(12, 8))\n",
    "fig.subplots_adjust(hspace=0.5)\n",
    "\n",
    "# Plot the number of times it entry appears\n",
    "a = sns.countplot(cat_features[1], data=data, ax=ax[0][0])\n",
    "a.set_xticklabels(a.get_xticklabels(), rotation='vertical')\n",
    "b = sns.countplot(cat_features[2], data=data, ax=ax[0][1])\n",
    "b.set_xticklabels(b.get_xticklabels(), rotation='vertical')\n",
    "c = sns.countplot(cat_features[3], data=data, ax=ax[1][0])\n",
    "c.set_xticklabels(c.get_xticklabels(), rotation='vertical')\n",
    "d = sns.countplot(cat_features[4], data=data, ax=ax[1][1])\n",
    "d.set_xticklabels(d.get_xticklabels(), rotation='vertical')\n",
    "\n",
    "\n",
    "\n",
    "plt.show()\n"
   ]
  },
  {
   "cell_type": "code",
   "execution_count": 159,
   "metadata": {
    "colab": {
     "base_uri": "https://localhost:8080/",
     "height": 605
    },
    "colab_type": "code",
    "id": "_49S1H-ckDoK",
    "outputId": "183de736-ec25-4c15-bb08-4ce58342ac23"
   },
   "outputs": [
    {
     "data": {
      "text/plain": [
       "''"
      ]
     },
     "execution_count": 159,
     "metadata": {},
     "output_type": "execute_result"
    },
    {
     "data": {
      "image/png": "[encoded data removed]",
      "text/plain": [
       "<Figure size 576x576 with 1 Axes>"
      ]
     },
     "metadata": {},
     "output_type": "display_data"
    }
   ],
   "source": [
    "# Create a figure\n",
    "plt.figure(figsize=(8, 8))\n",
    "# Count the number of times a car was bought and plot the graph\n",
    "count = sns.countplot(cat_features[0], data=data, order=data.groupby('Name').mean()['Price'].index)\n",
    "count.set_xticklabels(count.get_xticklabels(), rotation='vertical')\n",
    "\n",
    "# Plot the mean price of each car\n",
    "price = sns.lineplot(data.groupby('Name').mean()['Price'].index, data.groupby('Name').mean()['Price'].values)\n",
    ";"
   ]
  },
  {
   "cell_type": "code",
   "execution_count": 160,
   "metadata": {
    "colab": {
     "base_uri": "https://localhost:8080/",
     "height": 705
    },
    "colab_type": "code",
    "id": "X--5AsCwkDoU",
    "outputId": "0867a005-b323-46c0-acf7-338d8de9bb68",
    "scrolled": false
   },
   "outputs": [
    {
     "data": {
      "text/plain": [
       "''"
      ]
     },
     "execution_count": 160,
     "metadata": {},
     "output_type": "execute_result"
    },
    {
     "data": {
      "image/png": "[encoded data removed]",
      "text/plain": [
       "<Figure size 1080x720 with 6 Axes>"
      ]
     },
     "metadata": {},
     "output_type": "display_data"
    }
   ],
   "source": [
    "# Create a figure with 6 subplots\n",
    "fig, ax = plt.subplots(2,3, figsize=(15, 10))\n",
    "fig.subplots_adjust(hspace=0.5)\n",
    "\n",
    "# Graph each categorical feature wrt to thee Price\n",
    "a = sns.barplot(data.columns[1], 'Price', data=data, ax=ax[0][0])\n",
    "a.set_xticklabels(a.get_xticklabels(), rotation='vertical')\n",
    "\n",
    "b = sns.barplot(pd.qcut(data[data.columns[2]], 4), 'Price', data=data, ax=ax[0][1])\n",
    "b.set_xticklabels(['1 - 4', '4 - 6', '6 - 9', '9 - 22'], rotation='vertical')\n",
    "b.set_xlabel('Age of Car')\n",
    "\n",
    "c = sns.barplot(pd.qcut(data[data.columns[3]], 4), 'Price', data=data, ax=ax[0][2])\n",
    "c.set_xticklabels(['171 - 33965', '33966 - 53000', '53000 - 73000', '73000 - 6500000'], rotation='vertical')\n",
    "\n",
    "d = sns.barplot(data.columns[4], 'Price', data=data, ax=ax[1][0])\n",
    "d.set_xticklabels(d.get_xticklabels(), rotation='vertical')\n",
    "\n",
    "e = sns.barplot(data.columns[5], 'Price', data=data, ax=ax[1][1])\n",
    "e.set_xticklabels(e.get_xticklabels(), rotation='vertical')\n",
    "\n",
    "f = sns.barplot(data.columns[6], 'Price', data=data, ax=ax[1][2])\n",
    "f.set_xticklabels(f.get_xticklabels(), rotation='vertical')\n",
    "\n",
    ";"
   ]
  },
  {
   "cell_type": "code",
   "execution_count": 161,
   "metadata": {
    "colab": {
     "base_uri": "https://localhost:8080/",
     "height": 521
    },
    "colab_type": "code",
    "id": "Uf2kyC5KkDoi",
    "outputId": "efed5423-1bf7-42c1-82f3-17846d098466",
    "scrolled": true
   },
   "outputs": [
    {
     "name": "stderr",
     "output_type": "stream",
     "text": [
      "C:\\Anaconda3\\lib\\site-packages\\ipykernel_launcher.py:8: RuntimeWarning: divide by zero encountered in log\n",
      "  \n"
     ]
    },
    {
     "data": {
      "text/plain": [
       "''"
      ]
     },
     "execution_count": 161,
     "metadata": {},
     "output_type": "execute_result"
    },
    {
     "data": {
      "image/png": "[encoded data removed]",
      "text/plain": [
       "<Figure size 1152x576 with 4 Axes>"
      ]
     },
     "metadata": {},
     "output_type": "display_data"
    }
   ],
   "source": [
    "data1 = data.copy()\n",
    "\n",
    "# Create a figure with 4 subplots    \n",
    "fig, ax = plt.subplots(2,2, figsize=(16,8))\n",
    "\n",
    "# Create a boxplot for the continuous features\n",
    "box1 = sns.boxplot(y=np.log(data1[continuous_features[0]]), ax=ax[0][0])\n",
    "box2 = sns.boxplot(y=np.log(data1[continuous_features[1]]), ax=ax[0][1])\n",
    "box3 = sns.boxplot(y=np.log(data1[continuous_features[2]]), ax=ax[1][0])\n",
    "box4 = sns.boxplot(y=np.log(data1[continuous_features[3]]), ax=ax[1][1])\n",
    ";\n"
   ]
  },
  {
   "cell_type": "code",
   "execution_count": 162,
   "metadata": {
    "colab": {},
    "colab_type": "code",
    "id": "Lq1WWRTukDot"
   },
   "outputs": [],
   "source": [
    "data = data.drop(['Location', 'Engine'], axis=1)\n",
    "cat_features = [x for x in data.columns if data[x].dtype == 'O']\n",
    "data = pd.get_dummies(data, cat_features)"
   ]
  },
  {
   "cell_type": "code",
   "execution_count": 163,
   "metadata": {
    "colab": {},
    "colab_type": "code",
    "id": "TFJJfUtQkDo1"
   },
   "outputs": [],
   "source": [
    "# cat_features = ['Name', 'Fuel_Type', 'Transmission', 'Owner_Type']"
   ]
  },
  {
   "cell_type": "code",
   "execution_count": 164,
   "metadata": {
    "colab": {
     "base_uri": "https://localhost:8080/",
     "height": 425
    },
    "colab_type": "code",
    "id": "oFoWInVOkDpA",
    "outputId": "67ce208a-e94c-4219-a8e6-56d0bbb25ae2",
    "scrolled": false
   },
   "outputs": [
    {
     "name": "stderr",
     "output_type": "stream",
     "text": [
      "C:\\Anaconda3\\lib\\site-packages\\ipykernel_launcher.py:14: SettingWithCopyWarning: \n",
      "A value is trying to be set on a copy of a slice from a DataFrame.\n",
      "Try using .loc[row_indexer,col_indexer] = value instead\n",
      "\n",
      "See the caveats in the documentation: http://pandas.pydata.org/pandas-docs/stable/indexing.html#indexing-view-versus-copy\n",
      "  \n",
      "C:\\Anaconda3\\lib\\site-packages\\pandas\\core\\indexing.py:543: SettingWithCopyWarning: \n",
      "A value is trying to be set on a copy of a slice from a DataFrame.\n",
      "Try using .loc[row_indexer,col_indexer] = value instead\n",
      "\n",
      "See the caveats in the documentation: http://pandas.pydata.org/pandas-docs/stable/indexing.html#indexing-view-versus-copy\n",
      "  self.obj[item] = s\n",
      "C:\\Anaconda3\\lib\\site-packages\\ipykernel_launcher.py:15: SettingWithCopyWarning: \n",
      "A value is trying to be set on a copy of a slice from a DataFrame.\n",
      "Try using .loc[row_indexer,col_indexer] = value instead\n",
      "\n",
      "See the caveats in the documentation: http://pandas.pydata.org/pandas-docs/stable/indexing.html#indexing-view-versus-copy\n",
      "  from ipykernel import kernelapp as app\n",
      "C:\\Anaconda3\\lib\\site-packages\\pandas\\core\\indexing.py:543: SettingWithCopyWarning: \n",
      "A value is trying to be set on a copy of a slice from a DataFrame.\n",
      "Try using .loc[row_indexer,col_indexer] = value instead\n",
      "\n",
      "See the caveats in the documentation: http://pandas.pydata.org/pandas-docs/stable/indexing.html#indexing-view-versus-copy\n",
      "  self.obj[item] = s\n"
     ]
    }
   ],
   "source": [
    "# Define the features or independent variable\n",
    "X = data.drop(['Price'], axis=1)\n",
    "# Define the label or dependent variable\n",
    "y = data['Price']\n",
    "\n",
    "# Split the data into train and test\n",
    "X_train, X_test, y_train, y_test = train_test_split(X, y, test_size=0.2, random_state=42)\n",
    "\n",
    "# Fit Robust Scaler to the train data\n",
    "scaler = StandardScaler()\n",
    "scaler.fit(X_train[continuous_features[0:-1]])\n",
    "\n",
    "# Transform Robust Scaler to the train and test data\n",
    "X_train[continuous_features[0:-1]] = scaler.transform(X_train[continuous_features[0:-1]])\n",
    "X_test[continuous_features[0:-1]] = scaler.transform(X_test[continuous_features[0:-1]])"
   ]
  },
  {
   "cell_type": "code",
   "execution_count": 165,
   "metadata": {},
   "outputs": [
    {
     "data": {
      "text/plain": [
       "((4786, 46), (4786,))"
      ]
     },
     "execution_count": 165,
     "metadata": {},
     "output_type": "execute_result"
    }
   ],
   "source": [
    "X_train.shape, y_train.shape"
   ]
  },
  {
   "cell_type": "code",
   "execution_count": 166,
   "metadata": {},
   "outputs": [],
   "source": [
    "# def baseline_model():\n",
    "#     model = Sequential()\n",
    "#     model.add(Dense(60, input_dim=46, kernel_initializer='he_uniform', activation='relu'))\n",
    "#     model.add(Dense(40, kernel_initializer='he_uniform', activation='relu'))\n",
    "#     model.add(Dropout(0.3))\n",
    "#     model.add(Dense(20, kernel_initializer='normal', activation='relu'))\n",
    "#     model.add(Dropout(0.1))\n",
    "#     model.add(Dense(1))\n",
    "    \n",
    "#     model.compile(loss='mse', optimizer='adam', metrics=['mse'])\n",
    "#     return model\n",
    "\n",
    "              \n",
    "# #evaluate model\n",
    "# estimator = KerasRegressor(build_fn=baseline_model, epochs=100)\n",
    "# fold = KFold(n_splits=10)\n",
    "# score = cross_val_score(estimator, X_train, y_train, cv=fold)\n",
    "\n",
    "# print(f\"The basline model score is {score.mean()} with a standard devaition of {score.std()}\")"
   ]
  },
  {
   "cell_type": "code",
   "execution_count": 167,
   "metadata": {},
   "outputs": [],
   "source": [
    "tensorboard = TensorBoard()\n",
    "model = Sequential()\n",
    "model.add(Dense(60, input_dim=46, kernel_initializer='he_uniform', activation='relu'))\n",
    "model.add(Dense(40, kernel_initializer='he_uniform', activation='relu'))\n",
    "model.add(Dropout(0.3))\n",
    "model.add(Dense(20, kernel_initializer='normal', activation='relu'))\n",
    "model.add(Dropout(0.1))\n",
    "model.add(Dense(1))\n",
    "\n",
    "model.compile(loss='mse', optimizer='adam', metrics=['mse'])\n"
   ]
  },
  {
   "cell_type": "code",
   "execution_count": 168,
   "metadata": {},
   "outputs": [
    {
     "name": "stdout",
     "output_type": "stream",
     "text": [
      "Train on 4786 samples, validate on 1197 samples\n",
      "Epoch 1/100\n",
      "4786/4786 [==============================] - 4s 909us/sample - loss: 120.6852 - mean_squared_error: 120.6852 - val_loss: 38.2924 - val_mean_squared_error: 38.2924\n",
      "Epoch 2/100\n",
      "4786/4786 [==============================] - 1s 248us/sample - loss: 34.5819 - mean_squared_error: 34.5819 - val_loss: 20.9546 - val_mean_squared_error: 20.9546\n",
      "Epoch 3/100\n",
      "4786/4786 [==============================] - 2s 353us/sample - loss: 27.8078 - mean_squared_error: 27.8078 - val_loss: 18.7512 - val_mean_squared_error: 18.7512\n",
      "Epoch 4/100\n",
      "4786/4786 [==============================] - 2s 343us/sample - loss: 24.6178 - mean_squared_error: 24.6178 - val_loss: 18.8864 - val_mean_squared_error: 18.8864\n",
      "Epoch 5/100\n",
      "4786/4786 [==============================] - 1s 256us/sample - loss: 25.5200 - mean_squared_error: 25.5200 - val_loss: 17.7665 - val_mean_squared_error: 17.7665\n",
      "Epoch 6/100\n",
      "4786/4786 [==============================] - 2s 313us/sample - loss: 22.4788 - mean_squared_error: 22.4788 - val_loss: 16.8563 - val_mean_squared_error: 16.8563\n",
      "Epoch 7/100\n",
      "4786/4786 [==============================] - 1s 274us/sample - loss: 21.5751 - mean_squared_error: 21.5751 - val_loss: 17.0389 - val_mean_squared_error: 17.0389\n",
      "Epoch 8/100\n",
      "4786/4786 [==============================] - 1s 299us/sample - loss: 21.8631 - mean_squared_error: 21.8631 - val_loss: 16.6322 - val_mean_squared_error: 16.6322\n",
      "Epoch 9/100\n",
      "4786/4786 [==============================] - 1s 300us/sample - loss: 20.8360 - mean_squared_error: 20.8360 - val_loss: 15.9705 - val_mean_squared_error: 15.9705\n",
      "Epoch 10/100\n",
      "4786/4786 [==============================] - 1s 256us/sample - loss: 20.9449 - mean_squared_error: 20.9449 - val_loss: 16.5770 - val_mean_squared_error: 16.5770\n",
      "Epoch 11/100\n",
      "4786/4786 [==============================] - 1s 243us/sample - loss: 19.1031 - mean_squared_error: 19.1031 - val_loss: 16.3798 - val_mean_squared_error: 16.3798\n",
      "Epoch 12/100\n",
      "4786/4786 [==============================] - 1s 253us/sample - loss: 18.1245 - mean_squared_error: 18.1245 - val_loss: 16.8286 - val_mean_squared_error: 16.8286\n",
      "Epoch 13/100\n",
      "4786/4786 [==============================] - 1s 273us/sample - loss: 19.7530 - mean_squared_error: 19.7530 - val_loss: 16.9289 - val_mean_squared_error: 16.9289\n",
      "Epoch 14/100\n",
      "4786/4786 [==============================] - 1s 251us/sample - loss: 18.3180 - mean_squared_error: 18.3180 - val_loss: 16.0540 - val_mean_squared_error: 16.0539\n",
      "Epoch 15/100\n",
      "4786/4786 [==============================] - 2s 337us/sample - loss: 17.8226 - mean_squared_error: 17.8226 - val_loss: 16.3089 - val_mean_squared_error: 16.3089\n",
      "Epoch 16/100\n",
      "4786/4786 [==============================] - 1s 241us/sample - loss: 18.7886 - mean_squared_error: 18.7886 - val_loss: 15.4906 - val_mean_squared_error: 15.4906\n",
      "Epoch 17/100\n",
      "4786/4786 [==============================] - 2s 375us/sample - loss: 16.5805 - mean_squared_error: 16.5805 - val_loss: 15.8280 - val_mean_squared_error: 15.8280\n",
      "Epoch 18/100\n",
      "4786/4786 [==============================] - 1s 232us/sample - loss: 17.7287 - mean_squared_error: 17.7287 - val_loss: 15.6694 - val_mean_squared_error: 15.6694\n",
      "Epoch 19/100\n",
      "4786/4786 [==============================] - 1s 260us/sample - loss: 18.4050 - mean_squared_error: 18.4050 - val_loss: 15.9311 - val_mean_squared_error: 15.9311\n",
      "Epoch 20/100\n",
      "4786/4786 [==============================] - 1s 251us/sample - loss: 16.9665 - mean_squared_error: 16.9665 - val_loss: 15.4880 - val_mean_squared_error: 15.4880\n",
      "Epoch 21/100\n",
      "4786/4786 [==============================] - 2s 315us/sample - loss: 16.0122 - mean_squared_error: 16.0122 - val_loss: 15.8596 - val_mean_squared_error: 15.8596\n",
      "Epoch 22/100\n",
      "4786/4786 [==============================] - 2s 314us/sample - loss: 17.6119 - mean_squared_error: 17.6119 - val_loss: 15.6057 - val_mean_squared_error: 15.6057\n",
      "Epoch 23/100\n",
      "4786/4786 [==============================] - 1s 263us/sample - loss: 15.4125 - mean_squared_error: 15.4125 - val_loss: 15.6470 - val_mean_squared_error: 15.6470\n",
      "Epoch 24/100\n",
      "4786/4786 [==============================] - 1s 246us/sample - loss: 17.6999 - mean_squared_error: 17.6999 - val_loss: 15.3187 - val_mean_squared_error: 15.3186\n",
      "Epoch 25/100\n",
      "4786/4786 [==============================] - 2s 333us/sample - loss: 17.6102 - mean_squared_error: 17.6102 - val_loss: 15.3617 - val_mean_squared_error: 15.3617\n",
      "Epoch 26/100\n",
      "4786/4786 [==============================] - 1s 266us/sample - loss: 16.0615 - mean_squared_error: 16.0615 - val_loss: 15.2243 - val_mean_squared_error: 15.2243\n",
      "Epoch 27/100\n",
      "4786/4786 [==============================] - 1s 238us/sample - loss: 15.8676 - mean_squared_error: 15.8676 - val_loss: 14.6879 - val_mean_squared_error: 14.6879\n",
      "Epoch 28/100\n",
      "4786/4786 [==============================] - 1s 237us/sample - loss: 15.1409 - mean_squared_error: 15.1409 - val_loss: 15.3301 - val_mean_squared_error: 15.3301\n",
      "Epoch 29/100\n",
      "4786/4786 [==============================] - 1s 274us/sample - loss: 15.5913 - mean_squared_error: 15.5913 - val_loss: 15.6428 - val_mean_squared_error: 15.6428\n",
      "Epoch 30/100\n",
      "4786/4786 [==============================] - 1s 295us/sample - loss: 16.1070 - mean_squared_error: 16.1070 - val_loss: 15.3190 - val_mean_squared_error: 15.3190\n",
      "Epoch 31/100\n",
      "4786/4786 [==============================] - 1s 286us/sample - loss: 14.5881 - mean_squared_error: 14.5881 - val_loss: 15.4114 - val_mean_squared_error: 15.4114\n",
      "Epoch 32/100\n",
      "4786/4786 [==============================] - 1s 233us/sample - loss: 15.1712 - mean_squared_error: 15.1712 - val_loss: 14.8096 - val_mean_squared_error: 14.8096\n",
      "Epoch 33/100\n",
      "4786/4786 [==============================] - 1s 219us/sample - loss: 15.5838 - mean_squared_error: 15.5837 - val_loss: 15.4232 - val_mean_squared_error: 15.4232\n",
      "Epoch 34/100\n",
      "4786/4786 [==============================] - 1s 294us/sample - loss: 13.9594 - mean_squared_error: 13.9594 - val_loss: 16.0370 - val_mean_squared_error: 16.0370\n",
      "Epoch 35/100\n",
      "4786/4786 [==============================] - 1s 278us/sample - loss: 14.7146 - mean_squared_error: 14.7146 - val_loss: 16.4390 - val_mean_squared_error: 16.4390\n",
      "Epoch 36/100\n",
      "4786/4786 [==============================] - 1s 230us/sample - loss: 14.1576 - mean_squared_error: 14.1576 - val_loss: 15.4407 - val_mean_squared_error: 15.4407\n",
      "Epoch 37/100\n",
      "4786/4786 [==============================] - 1s 241us/sample - loss: 15.8905 - mean_squared_error: 15.8905 - val_loss: 15.3435 - val_mean_squared_error: 15.3435\n",
      "Epoch 38/100\n",
      "4786/4786 [==============================] - 1s 239us/sample - loss: 14.7171 - mean_squared_error: 14.7171 - val_loss: 14.3676 - val_mean_squared_error: 14.3676\n",
      "Epoch 39/100\n",
      "4786/4786 [==============================] - 1s 228us/sample - loss: 14.5839 - mean_squared_error: 14.5839 - val_loss: 14.5082 - val_mean_squared_error: 14.5082\n",
      "Epoch 40/100\n",
      "4786/4786 [==============================] - 1s 216us/sample - loss: 14.4802 - mean_squared_error: 14.4802 - val_loss: 14.5669 - val_mean_squared_error: 14.5669\n",
      "Epoch 41/100\n",
      "4786/4786 [==============================] - 1s 225us/sample - loss: 14.3195 - mean_squared_error: 14.3195 - val_loss: 14.6803 - val_mean_squared_error: 14.6803\n",
      "Epoch 42/100\n",
      "4786/4786 [==============================] - 1s 283us/sample - loss: 15.0804 - mean_squared_error: 15.0804 - val_loss: 14.4882 - val_mean_squared_error: 14.4882\n",
      "Epoch 43/100\n",
      "4786/4786 [==============================] - 1s 234us/sample - loss: 14.2967 - mean_squared_error: 14.2967 - val_loss: 14.0988 - val_mean_squared_error: 14.0988\n",
      "Epoch 44/100\n",
      "4786/4786 [==============================] - 1s 233us/sample - loss: 14.0098 - mean_squared_error: 14.0098 - val_loss: 14.3632 - val_mean_squared_error: 14.3632\n",
      "Epoch 45/100\n",
      "4786/4786 [==============================] - 1s 232us/sample - loss: 13.8232 - mean_squared_error: 13.8232 - val_loss: 14.1278 - val_mean_squared_error: 14.1278\n",
      "Epoch 46/100\n",
      "4786/4786 [==============================] - 1s 232us/sample - loss: 15.0303 - mean_squared_error: 15.0303 - val_loss: 14.6393 - val_mean_squared_error: 14.6393\n",
      "Epoch 47/100\n",
      "4786/4786 [==============================] - 1s 230us/sample - loss: 12.8300 - mean_squared_error: 12.8300 - val_loss: 14.2382 - val_mean_squared_error: 14.2382\n"
     ]
    },
    {
     "name": "stdout",
     "output_type": "stream",
     "text": [
      "Epoch 48/100\n",
      "4786/4786 [==============================] - 1s 209us/sample - loss: 12.8740 - mean_squared_error: 12.8740 - val_loss: 15.6145 - val_mean_squared_error: 15.6145\n",
      "Epoch 49/100\n",
      "4786/4786 [==============================] - 1s 208us/sample - loss: 15.4154 - mean_squared_error: 15.4154 - val_loss: 14.0758 - val_mean_squared_error: 14.0758\n",
      "Epoch 50/100\n",
      "4786/4786 [==============================] - 1s 216us/sample - loss: 15.5816 - mean_squared_error: 15.5816 - val_loss: 14.3932 - val_mean_squared_error: 14.3932\n",
      "Epoch 51/100\n",
      "4786/4786 [==============================] - 1s 218us/sample - loss: 14.0923 - mean_squared_error: 14.0923 - val_loss: 13.9090 - val_mean_squared_error: 13.9090\n",
      "Epoch 52/100\n",
      "4786/4786 [==============================] - 1s 230us/sample - loss: 13.2430 - mean_squared_error: 13.2430 - val_loss: 14.1305 - val_mean_squared_error: 14.1305\n",
      "Epoch 53/100\n",
      "4786/4786 [==============================] - 1s 213us/sample - loss: 12.5779 - mean_squared_error: 12.5779 - val_loss: 14.5536 - val_mean_squared_error: 14.5536\n",
      "Epoch 54/100\n",
      "4786/4786 [==============================] - 1s 225us/sample - loss: 13.4786 - mean_squared_error: 13.4786 - val_loss: 14.0497 - val_mean_squared_error: 14.0497\n",
      "Epoch 55/100\n",
      "4786/4786 [==============================] - 1s 211us/sample - loss: 12.8193 - mean_squared_error: 12.8193 - val_loss: 13.7562 - val_mean_squared_error: 13.7562\n",
      "Epoch 56/100\n",
      "4786/4786 [==============================] - 1s 220us/sample - loss: 12.7481 - mean_squared_error: 12.7481 - val_loss: 15.6725 - val_mean_squared_error: 15.6725\n",
      "Epoch 57/100\n",
      "4786/4786 [==============================] - 1s 261us/sample - loss: 13.1862 - mean_squared_error: 13.1862 - val_loss: 14.3085 - val_mean_squared_error: 14.3085\n",
      "Epoch 58/100\n",
      "4786/4786 [==============================] - 1s 232us/sample - loss: 13.9090 - mean_squared_error: 13.9090 - val_loss: 14.2940 - val_mean_squared_error: 14.2940\n",
      "Epoch 59/100\n",
      "4786/4786 [==============================] - 1s 220us/sample - loss: 13.4502 - mean_squared_error: 13.4502 - val_loss: 14.8345 - val_mean_squared_error: 14.8345\n",
      "Epoch 60/100\n",
      "4786/4786 [==============================] - 1s 227us/sample - loss: 12.4490 - mean_squared_error: 12.4490 - val_loss: 13.9543 - val_mean_squared_error: 13.9543\n",
      "Epoch 61/100\n",
      "4786/4786 [==============================] - 1s 223us/sample - loss: 13.8554 - mean_squared_error: 13.8554 - val_loss: 13.7871 - val_mean_squared_error: 13.7871\n",
      "Epoch 62/100\n",
      "4786/4786 [==============================] - 1s 223us/sample - loss: 13.5137 - mean_squared_error: 13.5137 - val_loss: 13.7251 - val_mean_squared_error: 13.7251\n",
      "Epoch 63/100\n",
      "4786/4786 [==============================] - 1s 211us/sample - loss: 12.7886 - mean_squared_error: 12.7886 - val_loss: 13.8472 - val_mean_squared_error: 13.8472\n",
      "Epoch 64/100\n",
      "4786/4786 [==============================] - 1s 218us/sample - loss: 12.2599 - mean_squared_error: 12.2599 - val_loss: 14.4071 - val_mean_squared_error: 14.4071\n",
      "Epoch 65/100\n",
      "4786/4786 [==============================] - 1s 226us/sample - loss: 13.3684 - mean_squared_error: 13.3684 - val_loss: 13.6688 - val_mean_squared_error: 13.6688\n",
      "Epoch 66/100\n",
      "4786/4786 [==============================] - 1s 215us/sample - loss: 12.4739 - mean_squared_error: 12.4739 - val_loss: 14.6039 - val_mean_squared_error: 14.6039\n",
      "Epoch 67/100\n",
      "4786/4786 [==============================] - 1s 234us/sample - loss: 12.4962 - mean_squared_error: 12.4962 - val_loss: 13.6445 - val_mean_squared_error: 13.6445\n",
      "Epoch 68/100\n",
      "4786/4786 [==============================] - 1s 229us/sample - loss: 12.1410 - mean_squared_error: 12.1410 - val_loss: 13.8769 - val_mean_squared_error: 13.8769\n",
      "Epoch 69/100\n",
      "4786/4786 [==============================] - 1s 239us/sample - loss: 14.1376 - mean_squared_error: 14.1376 - val_loss: 14.2040 - val_mean_squared_error: 14.2040\n",
      "Epoch 70/100\n",
      "4786/4786 [==============================] - 1s 233us/sample - loss: 12.3501 - mean_squared_error: 12.3502 - val_loss: 13.6035 - val_mean_squared_error: 13.6035\n",
      "Epoch 71/100\n",
      "4786/4786 [==============================] - 1s 216us/sample - loss: 11.6539 - mean_squared_error: 11.6539 - val_loss: 15.9765 - val_mean_squared_error: 15.9765\n",
      "Epoch 72/100\n",
      "4786/4786 [==============================] - 1s 197us/sample - loss: 13.5377 - mean_squared_error: 13.5377 - val_loss: 13.9387 - val_mean_squared_error: 13.9387\n",
      "Epoch 73/100\n",
      "4786/4786 [==============================] - 1s 199us/sample - loss: 11.7938 - mean_squared_error: 11.7938 - val_loss: 13.8952 - val_mean_squared_error: 13.8952\n",
      "Epoch 74/100\n",
      "4786/4786 [==============================] - 1s 175us/sample - loss: 12.9738 - mean_squared_error: 12.9738 - val_loss: 14.7234 - val_mean_squared_error: 14.7234\n",
      "Epoch 75/100\n",
      "4786/4786 [==============================] - 1s 210us/sample - loss: 13.4939 - mean_squared_error: 13.4939 - val_loss: 13.7978 - val_mean_squared_error: 13.7978\n",
      "Epoch 76/100\n",
      "4786/4786 [==============================] - 1s 218us/sample - loss: 12.7972 - mean_squared_error: 12.7972 - val_loss: 13.8661 - val_mean_squared_error: 13.8661\n",
      "Epoch 77/100\n",
      "4786/4786 [==============================] - 1s 225us/sample - loss: 12.3096 - mean_squared_error: 12.3096 - val_loss: 13.6527 - val_mean_squared_error: 13.6527\n",
      "Epoch 78/100\n",
      "4786/4786 [==============================] - 1s 210us/sample - loss: 11.8554 - mean_squared_error: 11.8554 - val_loss: 13.5208 - val_mean_squared_error: 13.5208\n",
      "Epoch 79/100\n",
      "4786/4786 [==============================] - 1s 237us/sample - loss: 13.7529 - mean_squared_error: 13.7529 - val_loss: 14.1696 - val_mean_squared_error: 14.1696\n",
      "Epoch 80/100\n",
      "4786/4786 [==============================] - 1s 244us/sample - loss: 13.0451 - mean_squared_error: 13.0451 - val_loss: 13.4886 - val_mean_squared_error: 13.4886\n",
      "Epoch 81/100\n",
      "4786/4786 [==============================] - 1s 218us/sample - loss: 11.8073 - mean_squared_error: 11.8073 - val_loss: 13.7415 - val_mean_squared_error: 13.7415\n",
      "Epoch 82/100\n",
      "4786/4786 [==============================] - 2s 342us/sample - loss: 11.9726 - mean_squared_error: 11.9726 - val_loss: 14.1782 - val_mean_squared_error: 14.1782\n",
      "Epoch 83/100\n",
      "4786/4786 [==============================] - 1s 216us/sample - loss: 10.8410 - mean_squared_error: 10.8410 - val_loss: 14.0566 - val_mean_squared_error: 14.0566\n",
      "Epoch 84/100\n",
      "4786/4786 [==============================] - 1s 220us/sample - loss: 11.4146 - mean_squared_error: 11.4146 - val_loss: 13.8276 - val_mean_squared_error: 13.8276\n",
      "Epoch 85/100\n",
      "4786/4786 [==============================] - 1s 219us/sample - loss: 12.4908 - mean_squared_error: 12.4909 - val_loss: 13.0272 - val_mean_squared_error: 13.0272\n",
      "Epoch 86/100\n",
      "4786/4786 [==============================] - 1s 229us/sample - loss: 12.0458 - mean_squared_error: 12.0458 - val_loss: 13.6178 - val_mean_squared_error: 13.6178\n",
      "Epoch 87/100\n",
      "4786/4786 [==============================] - 1s 270us/sample - loss: 10.8352 - mean_squared_error: 10.8352 - val_loss: 13.1184 - val_mean_squared_error: 13.1184\n",
      "Epoch 88/100\n",
      "4786/4786 [==============================] - 1s 215us/sample - loss: 11.7277 - mean_squared_error: 11.7277 - val_loss: 13.5421 - val_mean_squared_error: 13.5421\n",
      "Epoch 89/100\n",
      "4786/4786 [==============================] - 1s 218us/sample - loss: 12.1915 - mean_squared_error: 12.1915 - val_loss: 13.8274 - val_mean_squared_error: 13.8274\n",
      "Epoch 90/100\n",
      "4786/4786 [==============================] - 1s 224us/sample - loss: 12.7036 - mean_squared_error: 12.7036 - val_loss: 13.4483 - val_mean_squared_error: 13.4483\n",
      "Epoch 91/100\n",
      "4786/4786 [==============================] - 1s 222us/sample - loss: 10.6238 - mean_squared_error: 10.6238 - val_loss: 14.8392 - val_mean_squared_error: 14.8392\n",
      "Epoch 92/100\n",
      "4786/4786 [==============================] - 1s 214us/sample - loss: 12.3082 - mean_squared_error: 12.3082 - val_loss: 14.0923 - val_mean_squared_error: 14.0923\n",
      "Epoch 93/100\n",
      "4786/4786 [==============================] - 1s 218us/sample - loss: 10.7826 - mean_squared_error: 10.7826 - val_loss: 13.9530 - val_mean_squared_error: 13.9530\n",
      "Epoch 94/100\n",
      "4786/4786 [==============================] - 1s 204us/sample - loss: 11.6309 - mean_squared_error: 11.6309 - val_loss: 13.9263 - val_mean_squared_error: 13.9263\n",
      "Epoch 95/100\n"
     ]
    },
    {
     "name": "stdout",
     "output_type": "stream",
     "text": [
      "4786/4786 [==============================] - 1s 222us/sample - loss: 10.2569 - mean_squared_error: 10.2569 - val_loss: 13.3040 - val_mean_squared_error: 13.3040\n",
      "Epoch 96/100\n",
      "4786/4786 [==============================] - 1s 218us/sample - loss: 11.8535 - mean_squared_error: 11.8535 - val_loss: 13.1762 - val_mean_squared_error: 13.1762\n",
      "Epoch 97/100\n",
      "4786/4786 [==============================] - 1s 218us/sample - loss: 11.0196 - mean_squared_error: 11.0196 - val_loss: 14.0529 - val_mean_squared_error: 14.0529\n",
      "Epoch 98/100\n",
      "4786/4786 [==============================] - 1s 221us/sample - loss: 11.0366 - mean_squared_error: 11.0366 - val_loss: 13.5999 - val_mean_squared_error: 13.5999\n",
      "Epoch 99/100\n",
      "4786/4786 [==============================] - 1s 222us/sample - loss: 10.7469 - mean_squared_error: 10.7469 - val_loss: 13.4319 - val_mean_squared_error: 13.4319\n",
      "Epoch 100/100\n",
      "4786/4786 [==============================] - 1s 219us/sample - loss: 11.0986 - mean_squared_error: 11.0986 - val_loss: 13.9124 - val_mean_squared_error: 13.9124\n"
     ]
    }
   ],
   "source": [
    "history = model.fit(X_train, y_train, epochs=100, validation_data=(X_test, y_test), callbacks=[tensorboard])"
   ]
  },
  {
   "cell_type": "code",
   "execution_count": 169,
   "metadata": {},
   "outputs": [
    {
     "data": {
      "text/plain": [
       "<matplotlib.legend.Legend at 0x29888082cc0>"
      ]
     },
     "execution_count": 169,
     "metadata": {},
     "output_type": "execute_result"
    },
    {
     "data": {
      "image/png": "[encoded data removed]",
      "text/plain": [
       "<Figure size 432x288 with 1 Axes>"
      ]
     },
     "metadata": {},
     "output_type": "display_data"
    }
   ],
   "source": [
    "import matplotlib.pyplot as plt\n",
    "\n",
    "plt.plot(history.history['loss'], label='Loss')\n",
    "plt.plot(history.history['val_loss'], label='Val loss')\n",
    "plt.legend()"
   ]
  },
  {
   "cell_type": "code",
   "execution_count": null,
   "metadata": {},
   "outputs": [],
   "source": []
  },
  {
   "cell_type": "code",
   "execution_count": 30,
   "metadata": {
    "colab": {},
    "colab_type": "code",
    "id": "r1PkOi9WkDpr"
   },
   "outputs": [],
   "source": [
    "# Number of trees in random forest\n",
    "n_estimators = [int(x) for x in np.linspace(start = 200, stop = 2000, num = 10)]\n",
    "# Number of features to consider at every split\n",
    "max_features = ['auto', 'sqrt']\n",
    "# Maximum number of levels in tree\n",
    "max_depth = [int(x) for x in np.linspace(10, 110, num = 11)]\n",
    "max_depth.append(None)\n",
    "# Minimum number of samples required to split a node\n",
    "min_samples_split = [2, 5, 10]\n",
    "# Minimum number of samples required at each leaf node\n",
    "min_samples_leaf = [1, 2, 4]\n",
    "# Method of selecting samples for training each tree\n",
    "bootstrap = [True, False]\n",
    "\n",
    "# Define some paramters\n",
    "params = {'n_estimators': n_estimators,\n",
    "               'max_features': max_features,\n",
    "               'max_depth': max_depth,\n",
    "               'min_samples_split': min_samples_split,\n",
    "               'min_samples_leaf': min_samples_leaf,\n",
    "               'bootstrap': bootstrap}\n",
    "\n"
   ]
  },
  {
   "cell_type": "code",
   "execution_count": 31,
   "metadata": {
    "colab": {
     "base_uri": "https://localhost:8080/",
     "height": 68
    },
    "colab_type": "code",
    "id": "qvbK1AYakDp7",
    "outputId": "9cd50a26-8b14-4e29-f039-b70a6eb71706"
   },
   "outputs": [
    {
     "name": "stdout",
     "output_type": "stream",
     "text": [
      "CPU times: user 13min 24s, sys: 1.41 s, total: 13min 25s\n",
      "Wall time: 13min 26s\n",
      "r2 score: 0.8739563541355833\n"
     ]
    }
   ],
   "source": [
    "# Apply GridSearchCV with the defined paramters\n",
    "model_search = RandomizedSearchCV(rf, param_distributions=params, scoring='r2')\n",
    "%time model_search.fit(X_train, y_train)\n",
    "y_pred_op = model_search.predict(X_test)\n",
    "\n",
    "# Check metrics\n",
    "print(f'r2 score: {r2_score(y_test, y_pred_op)}')"
   ]
  },
  {
   "cell_type": "code",
   "execution_count": 32,
   "metadata": {
    "colab": {
     "base_uri": "https://localhost:8080/",
     "height": 119
    },
    "colab_type": "code",
    "id": "gQEkWyBTkDrI",
    "outputId": "598e52c1-12cb-492b-bb37-1515fee7b011"
   },
   "outputs": [
    {
     "data": {
      "text/plain": [
       "{'bootstrap': True,\n",
       " 'max_depth': 20,\n",
       " 'max_features': 'auto',\n",
       " 'min_samples_leaf': 1,\n",
       " 'min_samples_split': 5,\n",
       " 'n_estimators': 2000}"
      ]
     },
     "execution_count": 32,
     "metadata": {
      "tags": []
     },
     "output_type": "execute_result"
    }
   ],
   "source": [
    "model_search.best_params_"
   ]
  },
  {
   "cell_type": "code",
   "execution_count": 33,
   "metadata": {
    "colab": {
     "base_uri": "https://localhost:8080/",
     "height": 136
    },
    "colab_type": "code",
    "id": "CN0nD_Y6kDq2",
    "outputId": "d0f047df-efe5-4cad-e3b5-0386533667aa"
   },
   "outputs": [
    {
     "data": {
      "text/plain": [
       "RandomForestRegressor(bootstrap=True, ccp_alpha=0.0, criterion='mse',\n",
       "                      max_depth=20, max_features='auto', max_leaf_nodes=None,\n",
       "                      max_samples=None, min_impurity_decrease=0.0,\n",
       "                      min_impurity_split=None, min_samples_leaf=1,\n",
       "                      min_samples_split=5, min_weight_fraction_leaf=0.0,\n",
       "                      n_estimators=2000, n_jobs=None, oob_score=False,\n",
       "                      random_state=None, verbose=0, warm_start=False)"
      ]
     },
     "execution_count": 33,
     "metadata": {
      "tags": []
     },
     "output_type": "execute_result"
    }
   ],
   "source": [
    "model_search.best_estimator_"
   ]
  },
  {
   "cell_type": "code",
   "execution_count": 34,
   "metadata": {
    "colab": {},
    "colab_type": "code",
    "id": "ySS0vcAekDqE"
   },
   "outputs": [],
   "source": [
    "# Define a function that implements the model\n",
    "def predict_price(name, year, km, fuel, transmission, owner, mileage, power, seats):\n",
    "#     Define column location of the non numerical features\n",
    "    name_index = np.where(X.columns=='Name_'+name.upper())[0][0]\n",
    "    fuel_index = np.where(X.columns=='Fuel_Type_'+fuel)[0][0]\n",
    "    transmission_index = np.where(X.columns=='Transmission_'+transmission)[0][0]\n",
    "    owner_index = np.where(X.columns=='Owner_Type_'+owner)[0][0]\n",
    "#     Assign each of the inputted feature its value\n",
    "    x = np.zeros(len(X.columns))\n",
    "    x[0] = year\n",
    "    x[1] = km\n",
    "    x[2] = mileage\n",
    "    x[3] = power\n",
    "    x[4] = seats\n",
    "    if name_index >= 0:\n",
    "        x[name_index] = 1\n",
    "    if fuel_index >= 0:\n",
    "        x[fuel_index] = 1\n",
    "    if transmission_index >= 0:\n",
    "        x[transmission_index] = 1\n",
    "    if owner_index >= 0:\n",
    "        x[owner_index] = 1\n",
    "    \n",
    "    return f'The estimated price of the car is {model_search.predict([x])[0]} Lakh Rupees'"
   ]
  },
  {
   "cell_type": "code",
   "execution_count": 35,
   "metadata": {
    "colab": {
     "base_uri": "https://localhost:8080/",
     "height": 35
    },
    "colab_type": "code",
    "id": "6D7sRth3kDqO",
    "outputId": "2cb434e6-aa3a-468f-9ac3-a2a42f2ae1d0"
   },
   "outputs": [
    {
     "data": {
      "application/vnd.google.colaboratory.intrinsic": {
       "type": "string"
      },
      "text/plain": [
       "'The estimated price of the car is 31.097694071789316 Lakh Rupees'"
      ]
     },
     "execution_count": 35,
     "metadata": {
      "tags": []
     },
     "output_type": "execute_result"
    }
   ],
   "source": [
    "predict_price('maruti', 10, 100000, 'Petrol', 'Manual', 'First', 30, 50, 7)\n"
   ]
  },
  {
   "cell_type": "code",
   "execution_count": 36,
   "metadata": {
    "colab": {
     "base_uri": "https://localhost:8080/",
     "height": 35
    },
    "colab_type": "code",
    "id": "d5P-EEphkDqW",
    "outputId": "f64fd166-7588-46a3-e068-ac7c4db924f2"
   },
   "outputs": [
    {
     "data": {
      "application/vnd.google.colaboratory.intrinsic": {
       "type": "string"
      },
      "text/plain": [
       "'The estimated price of the car is 68.4407928003246 Lakh Rupees'"
      ]
     },
     "execution_count": 36,
     "metadata": {
      "tags": []
     },
     "output_type": "execute_result"
    }
   ],
   "source": [
    "predict_price('toyota', 5, 30000, 'Petrol', 'Automatic', 'Second', 25, 150, 4)"
   ]
  },
  {
   "cell_type": "code",
   "execution_count": 37,
   "metadata": {
    "colab": {
     "base_uri": "https://localhost:8080/",
     "height": 35
    },
    "colab_type": "code",
    "id": "ReBJRUWokDqh",
    "outputId": "e06aaea8-62df-4d26-cead-4671284d5eb9"
   },
   "outputs": [
    {
     "data": {
      "application/vnd.google.colaboratory.intrinsic": {
       "type": "string"
      },
      "text/plain": [
       "'The estimated price of the car is 81.73010602326852 Lakh Rupees'"
      ]
     },
     "execution_count": 37,
     "metadata": {
      "tags": []
     },
     "output_type": "execute_result"
    }
   ],
   "source": [
    "predict_price('land', 3, 30000, 'Petrol', 'Automatic', 'First', 20, 250, 4)"
   ]
  },
  {
   "cell_type": "code",
   "execution_count": 38,
   "metadata": {
    "colab": {
     "base_uri": "https://localhost:8080/",
     "height": 35
    },
    "colab_type": "code",
    "id": "MbduwZgG0MQH",
    "outputId": "9314d7d1-2af2-49a6-ea13-2ad335ecf4c3"
   },
   "outputs": [
    {
     "data": {
      "application/vnd.google.colaboratory.intrinsic": {
       "type": "string"
      },
      "text/plain": [
       "'The estimated price of the car is 31.097694071789316 Lakh Rupees'"
      ]
     },
     "execution_count": 38,
     "metadata": {
      "tags": []
     },
     "output_type": "execute_result"
    }
   ],
   "source": [
    "predict_price('honda', 10, 70000, 'Petrol', 'Manual', 'First', 50, 50, 7)"
   ]
  },
  {
   "cell_type": "code",
   "execution_count": 39,
   "metadata": {
    "colab": {},
    "colab_type": "code",
    "id": "tFdoFyJokDrS"
   },
   "outputs": [],
   "source": [
    "# Save the model\n",
    "pickle.dump(model_search, open('model_final.plk', 'wb'))"
   ]
  },
  {
   "cell_type": "code",
   "execution_count": 39,
   "metadata": {
    "colab": {},
    "colab_type": "code",
    "id": "Dep5aYBMkDrg"
   },
   "outputs": [],
   "source": []
  }
 ],
 "metadata": {
  "colab": {
   "collapsed_sections": [],
   "name": "Car pricing.ipynb",
   "provenance": []
  },
  "kernelspec": {
   "display_name": "Python 3",
   "language": "python",
   "name": "python3"
  },
  "language_info": {
   "codemirror_mode": {
    "name": "ipython",
    "version": 3
   },
   "file_extension": ".py",
   "mimetype": "text/x-python",
   "name": "python",
   "nbconvert_exporter": "python",
   "pygments_lexer": "ipython3",
   "version": "3.7.3"
  }
 },
 "nbformat": 4,
 "nbformat_minor": 1
}
